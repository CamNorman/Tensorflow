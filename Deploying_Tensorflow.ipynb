{
  "cells": [
    {
      "cell_type": "markdown",
      "metadata": {
        "id": "NGGrt9EYlCqY"
      },
      "source": [
        "\n",
        "\n",
        "\n",
        "# *Data Science Unit 4 Sprint 2 Assignment 4*\n",
        "\n",
        "Continue to use TensorFlow Keras & a sample of the [Quickdraw dataset](https://github.com/googlecreativelab/quickdraw-dataset) to build a sketch classification model. The dataset has been sampled to only 10 classes and 10000 observations per class. Apply regularization techniques to your model.\n",
        "\n",
        "**Don't forget to switch to GPU on Colab!**\n",
        "\n",
        "\n",
        "## Objectives\n",
        "\n",
        "In lecture, you were exposed to several regularization techniques: Lp space regularization, Max Norm weight constraints, and dropout regularization.\n",
        "\n",
        "1: Explore the effects of these regularization techniques on model performance and on the learned model weights.\n",
        "\n",
        "2: Review how to save a model and how to retrieve the saved model from a file.\n",
        "\n",
        "\n",
        "\n"
      ]
    },
    {
      "cell_type": "markdown",
      "metadata": {
        "id": "ptJ2b3wk62Ud"
      },
      "source": [
        "#### Import libraries"
      ]
    },
    {
      "cell_type": "code",
      "source": [
        "!pip install scikeras"
      ],
      "metadata": {
        "colab": {
          "base_uri": "https://localhost:8080/"
        },
        "id": "WCsUyYBFvViH",
        "outputId": "edd0dd60-3943-4d84-b3a0-8f71bb6b2745"
      },
      "execution_count": null,
      "outputs": [
        {
          "output_type": "stream",
          "name": "stdout",
          "text": [
            "Collecting scikeras\n",
            "  Downloading scikeras-0.12.0-py3-none-any.whl (27 kB)\n",
            "Requirement already satisfied: packaging>=0.21 in /usr/local/lib/python3.10/dist-packages (from scikeras) (24.0)\n",
            "Requirement already satisfied: scikit-learn>=1.0.0 in /usr/local/lib/python3.10/dist-packages (from scikeras) (1.2.2)\n",
            "Requirement already satisfied: numpy>=1.17.3 in /usr/local/lib/python3.10/dist-packages (from scikit-learn>=1.0.0->scikeras) (1.25.2)\n",
            "Requirement already satisfied: scipy>=1.3.2 in /usr/local/lib/python3.10/dist-packages (from scikit-learn>=1.0.0->scikeras) (1.11.4)\n",
            "Requirement already satisfied: joblib>=1.1.1 in /usr/local/lib/python3.10/dist-packages (from scikit-learn>=1.0.0->scikeras) (1.3.2)\n",
            "Requirement already satisfied: threadpoolctl>=2.0.0 in /usr/local/lib/python3.10/dist-packages (from scikit-learn>=1.0.0->scikeras) (3.3.0)\n",
            "Installing collected packages: scikeras\n",
            "Successfully installed scikeras-0.12.0\n"
          ]
        }
      ]
    },
    {
      "cell_type": "code",
      "execution_count": null,
      "metadata": {
        "id": "USXjs7Hk71Hy"
      },
      "outputs": [],
      "source": [
        "# native libraries\n",
        "import os\n",
        "from time import time\n",
        "\n",
        "# data analysis libraries\n",
        "import numpy as np\n",
        "import pandas as pd\n",
        "import matplotlib.pyplot as plt\n",
        "import seaborn as sns\n",
        "\n",
        "# deep learning libraries\n",
        "import tensorflow as tf\n",
        "from keras import Sequential\n",
        "from keras.callbacks import EarlyStopping, TensorBoard\n",
        "from keras.layers import Flatten, Dense, Dropout\n",
        "from keras.layers import ReLU\n",
        "from keras.initializers import GlorotUniform\n",
        "from keras.utils import get_file\n",
        "\n",
        "\n",
        "\n",
        "# regularizers\n",
        "from keras.regularizers import l2, l1\n",
        "from keras.constraints import max_norm\n",
        "\n",
        "# required for compatibility between sklearn and keras\n",
        "from scikeras.wrappers import KerasClassifier\n",
        "\n",
        "from sklearn.model_selection import GridSearchCV\n",
        "from sklearn.model_selection import train_test_split\n",
        "\n",
        "# native python unit test library\n",
        "from unittest import TestCase\n",
        "\n",
        "%matplotlib inline"
      ]
    },
    {
      "cell_type": "markdown",
      "metadata": {
        "id": "nDjNx1aVBfGU"
      },
      "source": [
        "-----\n",
        "# Part 1: GridSearch Experiments\n",
        "\n",
        "The next set of experiments will involve gridsearching regularization parameter values.\n",
        "\n",
        "The rest of the notebook will actually require very little coding on your part. Instead, the focus is for you to run those gridsearches and answer the questions at the end of each experiment. Those questions are designed to help you capture the insights that there are to learn from each of the experiments.\n",
        "\n",
        "All of the following experiments are designed to help you better understand the relationship between the various regularization techniques and how they affect model performance.\n",
        "\n",
        "\n",
        "### Build Model\n",
        "\n",
        "Let's build out the model that we'll be using all throughout our experiments.\n",
        "\n",
        "Remember that **the whole point of regularization is to prevent overfitting.**\n",
        "\n",
        "\n",
        "![](https://hackernoon.com/hn-images/1*vuZxFMi5fODz2OEcpG-S1g.png)\n",
        "\n",
        "Overfitting happens when our models are too complex, so in order to see a benefit from the use of regularization techniques we need to build a relatively complex model.\n",
        "\n",
        "Having said that, you might not have the computational resource to be able to train a complex model in a reasonable amount of time. So if this describes you, then you might want to consider using `build_simple_model`. Otherwise, use `build_complex_model`.\n",
        "\n",
        "In this notebook, we'll use  `build_complex_model` to run our experiments.\n",
        "\n",
        "**NOTE:** Whichever function you end up using to build a model, take time to read through the code and make sure you understand what is happening."
      ]
    },
    {
      "cell_type": "markdown",
      "metadata": {
        "id": "BhyxXDgXfuHs"
      },
      "source": [
        "### Load the `quickdraw10` data set\n",
        "using code provided in the Module 3 assignment."
      ]
    },
    {
      "cell_type": "code",
      "execution_count": null,
      "metadata": {
        "id": "9m7GEmeWfzYr"
      },
      "outputs": [],
      "source": [
        "def load_quickdraw10():\n",
        "    \"\"\"\n",
        "    Fill out this doc string, and comment the code, for practice in writing the kind of code that will get you hired.\n",
        "    \"\"\"\n",
        "\n",
        "    URL_ = \"https://github.com/LambdaSchool/DS-Unit-4-Sprint-2-Neural-Networks/blob/main/quickdraw10.npz?raw=true\"\n",
        "\n",
        "    path_to_zip = get_file('./quickdraw10.npz', origin=URL_, extract=False)\n",
        "\n",
        "    data = np.load(path_to_zip)\n",
        "\n",
        "    # normalize your image data\n",
        "    max_pixel_value = 255\n",
        "    X = data['arr_0']/max_pixel_value\n",
        "    Y = data['arr_1']\n",
        "\n",
        "    return train_test_split(X, Y, shuffle=True)"
      ]
    },
    {
      "cell_type": "code",
      "source": [
        "X_train, X_test, y_train, y_test = load_quickdraw10()"
      ],
      "metadata": {
        "colab": {
          "base_uri": "https://localhost:8080/"
        },
        "id": "nDiEOm8nvy1a",
        "outputId": "a99a0168-27aa-4ac9-a66d-4ea1c02dcad8"
      },
      "execution_count": null,
      "outputs": [
        {
          "output_type": "stream",
          "name": "stdout",
          "text": [
            "Downloading data from https://github.com/LambdaSchool/DS-Unit-4-Sprint-2-Neural-Networks/blob/main/quickdraw10.npz?raw=true\n",
            "25421363/25421363 [==============================] - 0s 0us/step\n"
          ]
        }
      ]
    },
    {
      "cell_type": "code",
      "source": [
        "X_train.shape"
      ],
      "metadata": {
        "colab": {
          "base_uri": "https://localhost:8080/"
        },
        "id": "gG6rMAFVEvCw",
        "outputId": "5132dba4-f7f1-498c-9bad-0a0118ce5a33"
      },
      "execution_count": null,
      "outputs": [
        {
          "output_type": "execute_result",
          "data": {
            "text/plain": [
              "(75000, 784)"
            ]
          },
          "metadata": {},
          "execution_count": 5
        }
      ]
    },
    {
      "cell_type": "markdown",
      "metadata": {
        "id": "X3qyAkpDf2Uz"
      },
      "source": [
        "### Build the model"
      ]
    },
    {
      "cell_type": "code",
      "execution_count": null,
      "metadata": {
        "id": "Rl7fR1Vvqauv"
      },
      "outputs": [],
      "source": [
        "def build_complex_model(Lp_reg=None, reg_penalty=None, dropout_prob=0.0, maxnorm_wc=None):\n",
        "    \"\"\"\n",
        "    Build and return a regularized 3 hidden layer FCFF model\n",
        "\n",
        "    Parameters\n",
        "    ----------\n",
        "    Lp_reg: None or object\n",
        "        If object, Lp_reg is either l1 or l2 regularization\n",
        "        If None, that means that l1 or l2 regularization will not be used.\n",
        "\n",
        "    reg_penalty: None or float\n",
        "        If float, reg_penalty is a value typically between 1.0 and 0.0001\n",
        "        This is the regularization strength for l1 or l2\n",
        "\n",
        "\n",
        "    dropout_prob: float\n",
        "        This is the probability that dropout regularization will exclude a node from a training iteration.\n",
        "        If this value is 0.0, that means that dropout will not be used.\n",
        "\n",
        "    maxnorm_wc: None or float\n",
        "        If float, maxnorm_wc is the weight constraint that is used for Max Norm regularization\n",
        "        If None, that means that Max Norm regularization will not be used.\n",
        "\n",
        "\n",
        "    Return\n",
        "    ------\n",
        "    model: compiled Keras model\n",
        "    \"\"\"\n",
        "\n",
        "    # specify the input size\n",
        "    input_dim =  784\n",
        "\n",
        "    # specify the number of neurons in the output layer\n",
        "    n_output = len(np.unique(y_train))\n",
        "\n",
        "    # if reg_type is not None, then pass in the penalty strength to whatever form of Lp space regularization this is\n",
        "    if Lp_reg is not None:\n",
        "        Lp_regularizer = Lp_reg(reg_penalty)\n",
        "    else:\n",
        "        Lp_regularizer = None\n",
        "\n",
        "    if maxnorm_wc is not None:\n",
        "        wc = max_norm(maxnorm_wc)\n",
        "    else:\n",
        "        wc = None\n",
        "\n",
        "\n",
        "    # instantiate Sequential class\n",
        "    model = Sequential([\n",
        "\n",
        "    # hidden layer 1\n",
        "    Dense(500, kernel_regularizer=Lp_regularizer , kernel_constraint=wc, input_dim=input_dim), # remember that Keras refers to weight matrix as a kernel, i.e. weights = kernel\n",
        "    # act func 1\n",
        "    ReLU(negative_slope=0.01),\n",
        "    Dropout(dropout_prob),\n",
        "\n",
        "    # hidden layer 2\n",
        "    Dense(250, kernel_regularizer=Lp_regularizer, kernel_constraint=wc),\n",
        "    # act func 2\n",
        "    ReLU(negative_slope=0.01),\n",
        "    Dropout(dropout_prob),\n",
        "\n",
        "    # hidden layer 3\n",
        "    Dense(100, kernel_regularizer=Lp_regularizer, kernel_constraint=wc),\n",
        "    # act func 3\n",
        "    ReLU(negative_slope=0.01),\n",
        "    Dropout(dropout_prob),\n",
        "\n",
        "    # output layer\n",
        "    Dense(n_output, activation=\"softmax\")\n",
        "\n",
        "    ])\n",
        "    # compile model\n",
        "    model.compile(loss=\"sparse_categorical_crossentropy\",\n",
        "                 optimizer=\"adam\",\n",
        "                 metrics=[\"accuracy\"])\n",
        "\n",
        "    return model"
      ]
    },
    {
      "cell_type": "markdown",
      "metadata": {
        "id": "Tf7sg_qWBfGV"
      },
      "source": [
        "Again, only use `build_simple_model` instead of `build_complex_model` if you're working on a machine with very limited computational resources."
      ]
    },
    {
      "cell_type": "code",
      "execution_count": null,
      "metadata": {
        "id": "2ZDOyeFUBfGV"
      },
      "outputs": [],
      "source": [
        "def build_simple_model(Lp_reg=None, reg_penalty=None, dropout_prob=0, maxnorm_wc=None):\n",
        "#     \"\"\"\n",
        "#     Build and return a regularized 1 hidden layer FCFF model\n",
        "\n",
        "#     Parameters\n",
        "#     ----------\n",
        "#     Lp_reg: None or object\n",
        "#         If object, Lp_reg is either l1 or l2 regularization\n",
        "#         If None, that means that l1 or l2 regularization will not be used.\n",
        "\n",
        "#     reg_penalty: None or float\n",
        "#         If float, reg_penalty is a value typically between 1.0 and 0.0001\n",
        "#         This is the regularization strength for l1 or l2\n",
        "\n",
        "\n",
        "#     dropout_prob: float\n",
        "#         This is the probability that dropout regularization will exclude a node from a training iteration.\n",
        "#         If this value is 0.0, that means that dropout will not be used.\n",
        "\n",
        "#     maxnorm_wc: None or float\n",
        "#         If float, maxnorm_wc is the weight constraint that is used for Max Norm regularization\n",
        "#         If None, that means that Max Norm regularization will not be used.\n",
        "\n",
        "\n",
        "#     Return\n",
        "#     ------\n",
        "#     model: compiled Keras model\n",
        "#     \"\"\"\n",
        "\n",
        "   # specify the input size\n",
        "    input_dim = 255\n",
        "\n",
        "   # specify the number of neurons in the output layer\n",
        "    n_output = len(np.unique(y_train))\n",
        "\n",
        "    if Lp_reg is not None:\n",
        "        Lp_regularizer = Lp_reg(reg_penalty)\n",
        "    else:\n",
        "        Lp_regularizer = None\n",
        "\n",
        "    # instantiate Sequential class\n",
        "    model = Sequential([\n",
        "\n",
        "    # # hidden layer 1\n",
        "    Dense(128,  kernel_regularizer=Lp_regularizer, kernel_constraint=maxnorm_wc, input_dim=input_dim), # remember that Keras refers to weight matrix as a kernel, i.e. weights = kernel\n",
        "    # # act func 1\n",
        "    ReLU(negative_slope=0.01),\n",
        "    Dropout(dropout_prob),\n",
        "\n",
        "    # output layer\n",
        "    Dense(n_output, activation=\"softmax\")\n",
        "\n",
        "    ])\n",
        "    # compile model\n",
        "    model.compile(loss=\"sparse_categorical_crossentropy\",\n",
        "                 optimizer=\"adam\",\n",
        "                 metrics=[\"accuracy\"])\n",
        "\n",
        "    return model"
      ]
    },
    {
      "cell_type": "markdown",
      "metadata": {
        "id": "RIAKpcTEBfGW"
      },
      "source": [
        "Since we'll be using sklearn's `GridsearchCV` class, we need to wrap our Keras models in `KerasClassifier`"
      ]
    },
    {
      "cell_type": "code",
      "execution_count": null,
      "metadata": {
        "id": "IstAk4cgeOsX"
      },
      "outputs": [],
      "source": [
        "# wrap KerasClassifier around build_model for compatibility with sklearn GridsearchCV\n",
        "model = KerasClassifier(model = build_complex_model,Lp_reg=l2, epochs=3,reg_penalty=[10.0, 1.0, 0.1, 0.01, 0.001, 0.0001, 0.00001])"
      ]
    },
    {
      "cell_type": "markdown",
      "metadata": {
        "id": "6LJi-YVMBfGW"
      },
      "source": [
        "-------\n",
        "\n",
        "# Experiment 1: Identify the relationship between model performance and L2 penalty strength\n",
        "\n",
        "![](https://www.researchgate.net/publication/334159821/figure/fig1/AS:776025558495234@1562030319993/Ridge-regression-variable-selection.png)\n",
        "\n",
        "_Note: <br>\n",
        "In the right panel of the above diagram, **SSE** <br>\n",
        "stands for \"Sum of Squared Errors\".<br>\n",
        "In the left panel, **ESS** is a typo that should read **SSE**._<br>\n",
        "\n",
        "We are going to run a gridsearch solely on the L2 regularization penalty value and see the effect this has on model performance.\n",
        "\n",
        "By running a gridseach on only a single hyperparameter (while using the same data and model) we can isolate the effect of that hyperparameter. <br><br>\n"
      ]
    },
    {
      "cell_type": "code",
      "execution_count": null,
      "metadata": {
        "id": "dxJ5Bc6HF2C0"
      },
      "outputs": [],
      "source": [
        "# build out our hyperparameter dictionary\n",
        "hyper_parameters = {\n",
        "    # take note that Lp_reg penalty/strength values are in powers of 10\n",
        "    \"reg_penalty\": [10.0, 1.0, 0.1, 0.01, 0.001, 0.0001, 0.00001],\n",
        "    # Since we only want to test l2, provide l2 as the sole option\n",
        "    \"Lp_reg\": [l2],\n",
        "    # default is 1, in order to change it we must provide value here because we can't provide a parameter value for model.fit() directly when using gridsearch\n",
        "    # protip: consider changing epochs to 1 if the gridsearch run-time is too long for you\n",
        "    \"epochs\": [3]\n",
        "}"
      ]
    },
    {
      "cell_type": "code",
      "source": [],
      "metadata": {
        "id": "hbMDMC4H9Hkl"
      },
      "execution_count": null,
      "outputs": []
    },
    {
      "cell_type": "code",
      "source": [],
      "metadata": {
        "id": "r7aLJmc9I4UE"
      },
      "execution_count": null,
      "outputs": []
    },
    {
      "cell_type": "code",
      "execution_count": null,
      "metadata": {
        "id": "qMRyjO6Gbl5I",
        "colab": {
          "base_uri": "https://localhost:8080/"
        },
        "outputId": "8256a3d6-cadb-424f-e931-4e571278f986"
      },
      "outputs": [
        {
          "output_type": "stream",
          "name": "stdout",
          "text": [
            "CPU times: user 3 µs, sys: 1e+03 ns, total: 4 µs\n",
            "Wall time: 7.15 µs\n",
            "Fitting 3 folds for each of 7 candidates, totalling 21 fits\n",
            "Epoch 1/3\n",
            "1563/1563 [==============================] - 33s 19ms/step - loss: 166.4239 - accuracy: 0.0993\n",
            "Epoch 2/3\n",
            "1563/1563 [==============================] - 21s 13ms/step - loss: 2.3028 - accuracy: 0.0976\n",
            "Epoch 3/3\n",
            "1563/1563 [==============================] - 17s 11ms/step - loss: 2.3030 - accuracy: 0.1008\n",
            "782/782 [==============================] - 4s 5ms/step\n",
            "Epoch 1/3\n",
            "1563/1563 [==============================] - 19s 11ms/step - loss: 165.8509 - accuracy: 0.0996\n",
            "Epoch 2/3\n",
            "1563/1563 [==============================] - 19s 12ms/step - loss: 2.3029 - accuracy: 0.1004\n",
            "Epoch 3/3\n",
            "1563/1563 [==============================] - 20s 13ms/step - loss: 2.3030 - accuracy: 0.1000\n",
            "782/782 [==============================] - 3s 4ms/step\n",
            "Epoch 1/3\n",
            "1563/1563 [==============================] - 21s 13ms/step - loss: 165.6774 - accuracy: 0.1001\n",
            "Epoch 2/3\n",
            "1563/1563 [==============================] - 18s 11ms/step - loss: 2.3029 - accuracy: 0.1020\n",
            "Epoch 3/3\n",
            "1563/1563 [==============================] - 17s 11ms/step - loss: 2.3029 - accuracy: 0.0983\n",
            "782/782 [==============================] - 3s 4ms/step\n",
            "Epoch 1/3\n",
            "1563/1563 [==============================] - 20s 12ms/step - loss: 18.6259 - accuracy: 0.1047\n",
            "Epoch 2/3\n",
            "1563/1563 [==============================] - 19s 12ms/step - loss: 2.3028 - accuracy: 0.0984\n",
            "Epoch 3/3\n",
            "1563/1563 [==============================] - 19s 12ms/step - loss: 2.3028 - accuracy: 0.0998\n",
            "782/782 [==============================] - 3s 4ms/step\n",
            "Epoch 1/3\n",
            "1563/1563 [==============================] - 20s 12ms/step - loss: 18.6457 - accuracy: 0.1045\n",
            "Epoch 2/3\n",
            "1563/1563 [==============================] - 18s 12ms/step - loss: 2.3028 - accuracy: 0.0977\n",
            "Epoch 3/3\n",
            "1563/1563 [==============================] - 19s 12ms/step - loss: 2.3028 - accuracy: 0.0988\n",
            "782/782 [==============================] - 3s 4ms/step\n",
            "Epoch 1/3\n",
            "1563/1563 [==============================] - 20s 12ms/step - loss: 18.7124 - accuracy: 0.1048\n",
            "Epoch 2/3\n",
            "1563/1563 [==============================] - 17s 11ms/step - loss: 2.3028 - accuracy: 0.0985\n",
            "Epoch 3/3\n",
            "1563/1563 [==============================] - 17s 11ms/step - loss: 2.3028 - accuracy: 0.0986\n",
            "782/782 [==============================] - 3s 4ms/step\n",
            "Epoch 1/3\n",
            "1563/1563 [==============================] - 20s 12ms/step - loss: 3.6444 - accuracy: 0.3756\n",
            "Epoch 2/3\n",
            "1563/1563 [==============================] - 18s 12ms/step - loss: 1.7873 - accuracy: 0.4642\n",
            "Epoch 3/3\n",
            "1563/1563 [==============================] - 19s 12ms/step - loss: 1.7122 - accuracy: 0.5162\n",
            "782/782 [==============================] - 3s 4ms/step\n",
            "Epoch 1/3\n",
            "1563/1563 [==============================] - 20s 12ms/step - loss: 3.6261 - accuracy: 0.4479\n",
            "Epoch 2/3\n",
            "1563/1563 [==============================] - 18s 11ms/step - loss: 1.6918 - accuracy: 0.5688\n",
            "Epoch 3/3\n",
            "1563/1563 [==============================] - 18s 11ms/step - loss: 1.6028 - accuracy: 0.5908\n",
            "782/782 [==============================] - 4s 5ms/step\n",
            "Epoch 1/3\n",
            "1563/1563 [==============================] - 18s 11ms/step - loss: 3.5909 - accuracy: 0.4651\n",
            "Epoch 2/3\n",
            "1563/1563 [==============================] - 18s 12ms/step - loss: 1.6788 - accuracy: 0.5688\n",
            "Epoch 3/3\n",
            "1563/1563 [==============================] - 17s 11ms/step - loss: 1.5978 - accuracy: 0.5918\n",
            "782/782 [==============================] - 3s 4ms/step\n",
            "Epoch 1/3\n",
            "1563/1563 [==============================] - 20s 12ms/step - loss: 1.6464 - accuracy: 0.7330\n",
            "Epoch 2/3\n",
            "1563/1563 [==============================] - 17s 11ms/step - loss: 1.0281 - accuracy: 0.7828\n",
            "Epoch 3/3\n",
            "1563/1563 [==============================] - 18s 12ms/step - loss: 0.9481 - accuracy: 0.7989\n",
            "782/782 [==============================] - 3s 4ms/step\n",
            "Epoch 1/3\n",
            "1563/1563 [==============================] - 18s 11ms/step - loss: 1.6380 - accuracy: 0.7284\n",
            "Epoch 2/3\n",
            "1563/1563 [==============================] - 18s 12ms/step - loss: 1.0447 - accuracy: 0.7747\n",
            "Epoch 3/3\n",
            "1563/1563 [==============================] - 18s 11ms/step - loss: 0.9604 - accuracy: 0.7958\n",
            "782/782 [==============================] - 3s 4ms/step\n",
            "Epoch 1/3\n",
            "1563/1563 [==============================] - 20s 12ms/step - loss: 1.6634 - accuracy: 0.7332\n",
            "Epoch 2/3\n",
            "1563/1563 [==============================] - 18s 12ms/step - loss: 1.0341 - accuracy: 0.7791\n",
            "Epoch 3/3\n",
            "1563/1563 [==============================] - 18s 12ms/step - loss: 0.9562 - accuracy: 0.7924\n",
            "782/782 [==============================] - 3s 4ms/step\n",
            "Epoch 1/3\n",
            "1563/1563 [==============================] - 19s 12ms/step - loss: 1.1143 - accuracy: 0.7890\n",
            "Epoch 2/3\n",
            "1563/1563 [==============================] - 17s 11ms/step - loss: 0.7527 - accuracy: 0.8384\n",
            "Epoch 3/3\n",
            "1563/1563 [==============================] - 22s 14ms/step - loss: 0.6700 - accuracy: 0.8521\n",
            "782/782 [==============================] - 3s 4ms/step\n",
            "Epoch 1/3\n",
            "1563/1563 [==============================] - 19s 12ms/step - loss: 1.1096 - accuracy: 0.7897\n",
            "Epoch 2/3\n",
            "1563/1563 [==============================] - 17s 11ms/step - loss: 0.7502 - accuracy: 0.8401\n",
            "Epoch 3/3\n",
            "1563/1563 [==============================] - 18s 12ms/step - loss: 0.6647 - accuracy: 0.8537\n",
            "782/782 [==============================] - 3s 4ms/step\n",
            "Epoch 1/3\n",
            "1563/1563 [==============================] - 19s 11ms/step - loss: 1.1161 - accuracy: 0.7888\n",
            "Epoch 2/3\n",
            "1563/1563 [==============================] - 17s 11ms/step - loss: 0.7531 - accuracy: 0.8382\n",
            "Epoch 3/3\n",
            "1563/1563 [==============================] - 18s 12ms/step - loss: 0.6737 - accuracy: 0.8513\n",
            "782/782 [==============================] - 3s 4ms/step\n",
            "Epoch 1/3\n",
            "1563/1563 [==============================] - 18s 11ms/step - loss: 0.7548 - accuracy: 0.7992\n",
            "Epoch 2/3\n",
            "1563/1563 [==============================] - 18s 12ms/step - loss: 0.5662 - accuracy: 0.8607\n",
            "Epoch 3/3\n",
            "1563/1563 [==============================] - 18s 12ms/step - loss: 0.5074 - accuracy: 0.8807\n",
            "782/782 [==============================] - 3s 4ms/step\n",
            "Epoch 1/3\n",
            "1563/1563 [==============================] - 19s 12ms/step - loss: 0.7548 - accuracy: 0.7996\n",
            "Epoch 2/3\n",
            "1563/1563 [==============================] - 18s 11ms/step - loss: 0.5752 - accuracy: 0.8572\n",
            "Epoch 3/3\n",
            "1563/1563 [==============================] - 18s 12ms/step - loss: 0.5083 - accuracy: 0.8797\n",
            "782/782 [==============================] - 3s 4ms/step\n",
            "Epoch 1/3\n",
            "1563/1563 [==============================] - 19s 12ms/step - loss: 0.7563 - accuracy: 0.7976\n",
            "Epoch 2/3\n",
            "1563/1563 [==============================] - 18s 11ms/step - loss: 0.5713 - accuracy: 0.8589\n",
            "Epoch 3/3\n",
            "1563/1563 [==============================] - 18s 12ms/step - loss: 0.5106 - accuracy: 0.8791\n",
            "782/782 [==============================] - 3s 4ms/step\n",
            "Epoch 1/3\n",
            "1563/1563 [==============================] - 19s 11ms/step - loss: 0.6597 - accuracy: 0.8005\n",
            "Epoch 2/3\n",
            "1563/1563 [==============================] - 17s 11ms/step - loss: 0.4615 - accuracy: 0.8658\n",
            "Epoch 3/3\n",
            "1563/1563 [==============================] - 18s 12ms/step - loss: 0.3833 - accuracy: 0.8889\n",
            "782/782 [==============================] - 4s 5ms/step\n",
            "Epoch 1/3\n",
            "1563/1563 [==============================] - 18s 11ms/step - loss: 0.6661 - accuracy: 0.7997\n",
            "Epoch 2/3\n",
            "1563/1563 [==============================] - 17s 11ms/step - loss: 0.4635 - accuracy: 0.8636\n",
            "Epoch 3/3\n",
            "1563/1563 [==============================] - 16s 10ms/step - loss: 0.3850 - accuracy: 0.8882\n",
            "782/782 [==============================] - 3s 4ms/step\n",
            "Epoch 1/3\n",
            "1563/1563 [==============================] - 20s 12ms/step - loss: 0.6644 - accuracy: 0.7986\n",
            "Epoch 2/3\n",
            "1563/1563 [==============================] - 17s 11ms/step - loss: 0.4670 - accuracy: 0.8616\n",
            "Epoch 3/3\n",
            "1563/1563 [==============================] - 19s 12ms/step - loss: 0.3876 - accuracy: 0.8867\n",
            "782/782 [==============================] - 3s 4ms/step\n",
            "Epoch 1/3\n",
            "2344/2344 [==============================] - 28s 12ms/step - loss: 0.6109 - accuracy: 0.8172\n",
            "Epoch 2/3\n",
            "2344/2344 [==============================] - 28s 12ms/step - loss: 0.4412 - accuracy: 0.8720\n",
            "Epoch 3/3\n",
            "2344/2344 [==============================] - 27s 12ms/step - loss: 0.3781 - accuracy: 0.8924\n"
          ]
        }
      ],
      "source": [
        "%time\n",
        "start=time()\n",
        "# takes about 7 min on Colab with GPU\n",
        "# Create and run Grid Search\n",
        "grid = GridSearchCV(estimator=model,\n",
        "                    param_grid=hyper_parameters,\n",
        "                    n_jobs=-3,\n",
        "                    verbose=1,\n",
        "                    cv=3,\n",
        "                    error_score='raise')\n",
        "\n",
        "grid_result = grid.fit(X_train, y_train)\n",
        "end=time()"
      ]
    },
    {
      "cell_type": "code",
      "execution_count": null,
      "metadata": {
        "id": "DZb-QpxvBfGX",
        "colab": {
          "base_uri": "https://localhost:8080/"
        },
        "outputId": "20e2ba89-2f13-4884-be6a-46581ff899a1"
      },
      "outputs": [
        {
          "output_type": "stream",
          "name": "stdout",
          "text": [
            "Gridsearch runtime 29.6 mins\n"
          ]
        }
      ],
      "source": [
        "print(\"Gridsearch runtime {0:.3} mins\".format( (end-start)/60 ))"
      ]
    },
    {
      "cell_type": "code",
      "source": [
        "grid_result.cv_results_"
      ],
      "metadata": {
        "colab": {
          "base_uri": "https://localhost:8080/"
        },
        "id": "pzRiSYSfoQUg",
        "outputId": "8aa6ce26-acac-487f-fcf4-c43e20b56c0f"
      },
      "execution_count": null,
      "outputs": [
        {
          "output_type": "execute_result",
          "data": {
            "text/plain": [
              "{'mean_fit_time': array([84.62607288, 83.92737953, 64.80084372, 74.91593138, 84.04292989,\n",
              "        74.40175915, 64.56149928]),\n",
              " 'std_fit_time': array([ 1.17521786,  0.13351605, 13.38001809, 12.92842592,  0.26206154,\n",
              "        13.21863874, 14.21457018]),\n",
              " 'mean_score_time': array([4.92656994, 4.15930343, 4.13142856, 4.15334598, 5.5404346 ,\n",
              "        4.2620403 , 4.86273344]),\n",
              " 'std_score_time': array([0.9345792 , 0.9075044 , 0.94264882, 0.89730562, 0.10903658,\n",
              "        0.88942829, 0.96805694]),\n",
              " 'param_Lp_reg': masked_array(data=[<class 'keras.src.regularizers.L2'>,\n",
              "                    <class 'keras.src.regularizers.L2'>,\n",
              "                    <class 'keras.src.regularizers.L2'>,\n",
              "                    <class 'keras.src.regularizers.L2'>,\n",
              "                    <class 'keras.src.regularizers.L2'>,\n",
              "                    <class 'keras.src.regularizers.L2'>,\n",
              "                    <class 'keras.src.regularizers.L2'>],\n",
              "              mask=[False, False, False, False, False, False, False],\n",
              "        fill_value='?',\n",
              "             dtype=object),\n",
              " 'param_epochs': masked_array(data=[3, 3, 3, 3, 3, 3, 3],\n",
              "              mask=[False, False, False, False, False, False, False],\n",
              "        fill_value='?',\n",
              "             dtype=object),\n",
              " 'param_reg_penalty': masked_array(data=[10.0, 1.0, 0.1, 0.01, 0.001, 0.0001, 1e-05],\n",
              "              mask=[False, False, False, False, False, False, False],\n",
              "        fill_value='?',\n",
              "             dtype=object),\n",
              " 'params': [{'Lp_reg': keras.src.regularizers.L2,\n",
              "   'epochs': 3,\n",
              "   'reg_penalty': 10.0},\n",
              "  {'Lp_reg': keras.src.regularizers.L2, 'epochs': 3, 'reg_penalty': 1.0},\n",
              "  {'Lp_reg': keras.src.regularizers.L2, 'epochs': 3, 'reg_penalty': 0.1},\n",
              "  {'Lp_reg': keras.src.regularizers.L2, 'epochs': 3, 'reg_penalty': 0.01},\n",
              "  {'Lp_reg': keras.src.regularizers.L2, 'epochs': 3, 'reg_penalty': 0.001},\n",
              "  {'Lp_reg': keras.src.regularizers.L2, 'epochs': 3, 'reg_penalty': 0.0001},\n",
              "  {'Lp_reg': keras.src.regularizers.L2, 'epochs': 3, 'reg_penalty': 1e-05}],\n",
              " 'split0_test_score': array([0.10116, 0.10116, 0.55276, 0.78388, 0.83444, 0.85656, 0.8598 ]),\n",
              " 'split1_test_score': array([0.10044, 0.10044, 0.60848, 0.79536, 0.84176, 0.855  , 0.85684]),\n",
              " 'split2_test_score': array([0.10116, 0.1002 , 0.60624, 0.80668, 0.85036, 0.86092, 0.86728]),\n",
              " 'mean_test_score': array([0.10092   , 0.1006    , 0.58916   , 0.79530667, 0.84218667,\n",
              "        0.85749333, 0.86130667]),\n",
              " 'std_test_score': array([0.00033941, 0.00040792, 0.02575493, 0.00930814, 0.00650631,\n",
              "        0.00250532, 0.00439325]),\n",
              " 'rank_test_score': array([6, 7, 5, 4, 3, 2, 1], dtype=int32)}"
            ]
          },
          "metadata": {},
          "execution_count": 29
        }
      ]
    },
    {
      "cell_type": "code",
      "execution_count": null,
      "metadata": {
        "id": "FS1Vlh21BfGY",
        "colab": {
          "base_uri": "https://localhost:8080/",
          "height": 465
        },
        "outputId": "ca23d497-98bd-407f-c052-40860a2b1489"
      },
      "outputs": [
        {
          "output_type": "display_data",
          "data": {
            "text/plain": [
              "<Figure size 2000x600 with 1 Axes>"
            ],
            "image/png": "[encoded data removed]"
          },
          "metadata": {}
        }
      ],
      "source": [
        "# use the mean accuracy from the CV splits for determining best model score\n",
        "means = grid_result.cv_results_['mean_test_score']\n",
        "stds = grid_result.cv_results_['std_test_score']\n",
        "params = grid_result.cv_results_['params']\n",
        "\n",
        "# move l2 penalty values outside of dictionary and into a list\n",
        "param_values = [param_dict[\"reg_penalty\"] for param_dict in params]\n",
        "\n",
        "# plot accuracy vs l2_reg_penalty\n",
        "plt.figure(figsize=(20,6))\n",
        "plt.grid()\n",
        "\n",
        "# this plot is using the std of the CV splits to plot error bars however those values are so small that they aren't visable\n",
        "plt.errorbar(param_values, means, yerr=stds, ecolor=\"orange\")\n",
        "plt.xscale(\"log\") # use a log scale for ease of reading, recall that l2_reg_penalty were in powers of 10\n",
        "plt.title(\"L2 Regularization: Model Accuracy vs L2 Penalty Strength\")\n",
        "plt.ylabel(\"Validation Accuracy\", )\n",
        "plt.xlabel(\"L2 Penalty Strength usng a Log Scale\");"
      ]
    },
    {
      "cell_type": "markdown",
      "metadata": {
        "id": "Vc4hfY52BfGY"
      },
      "source": [
        "### Observations\n",
        "\n",
        "Write down some observations. What do you notice from the plot?"
      ]
    },
    {
      "cell_type": "markdown",
      "metadata": {
        "deletable": false,
        "id": "G0Z92bfrBfGY",
        "nbgrader": {
          "cell_type": "markdown",
          "checksum": "089b55b5a84d9c96c51fd341d9e6c74f",
          "grade": true,
          "grade_id": "cell-010212fc0915b976",
          "locked": false,
          "points": 0,
          "schema_version": 3,
          "solution": true,
          "task": false
        }
      },
      "source": [
        "as the l2 penalty gets closer to 1 the graph exponentially decereases toward .1, then flatlines for the rest of the graph\n",
        "i see that .1 is also the lowest that the graph will go"
      ]
    },
    {
      "cell_type": "markdown",
      "metadata": {
        "id": "qKoqryhBBfGZ"
      },
      "source": [
        "\n",
        "## Compare Weights between the Best Model and a Worse Model\n",
        "\n",
        "Next, we are going to compare the hidden layer weights between the best and worst performing model while taking note of the respective L2 penalty strengths."
      ]
    },
    {
      "cell_type": "code",
      "execution_count": null,
      "metadata": {
        "id": "4Rb3l6GuBfGZ"
      },
      "outputs": [],
      "source": [
        "# get the best l2 penalty term\n",
        "best_lr_penalty = grid_result.best_params_[\"reg_penalty\"]\n",
        "\n",
        "# get the best trained model\n",
        "#     a model that is wrapped in the KerasClassifier wrapper doesn't have a .get_weights() method.\n",
        "#     So this is the workaround to generate a version of the model that does have a .get_weights() method\n",
        "best_model = grid_result.best_estimator_.model(Lp_reg=l2, reg_penalty=best_lr_penalty)\n",
        "\n",
        "# get the weights from the best trained model\n",
        "best_weights = best_model.get_weights()"
      ]
    },
    {
      "cell_type": "code",
      "source": [
        "best_weights"
      ],
      "metadata": {
        "colab": {
          "base_uri": "https://localhost:8080/"
        },
        "id": "9ITTw90zutO7",
        "outputId": "a16adcfe-93b2-4079-ef7b-7231fdad814b"
      },
      "execution_count": null,
      "outputs": [
        {
          "output_type": "execute_result",
          "data": {
            "text/plain": [
              "[array([[-0.00616247,  0.04949742,  0.02342207, ..., -0.04969692,\n",
              "         -0.0465565 ,  0.05834981],\n",
              "        [ 0.02006269, -0.04516914, -0.00137608, ..., -0.06269598,\n",
              "         -0.06150162, -0.00087963],\n",
              "        [-0.02806978, -0.05283184,  0.02283142, ..., -0.05305799,\n",
              "         -0.02585741,  0.00941773],\n",
              "        ...,\n",
              "        [ 0.0358708 , -0.04704699,  0.00958411, ...,  0.00363888,\n",
              "          0.06238221,  0.05749048],\n",
              "        [-0.03641453,  0.05169223,  0.05107348, ..., -0.06427876,\n",
              "          0.0649324 , -0.00011485],\n",
              "        [-0.00470497,  0.03984357,  0.06018818, ..., -0.06428903,\n",
              "          0.03926063,  0.02844115]], dtype=float32),\n",
              " array([0., 0., 0., 0., 0., 0., 0., 0., 0., 0., 0., 0., 0., 0., 0., 0., 0.,\n",
              "        0., 0., 0., 0., 0., 0., 0., 0., 0., 0., 0., 0., 0., 0., 0., 0., 0.,\n",
              "        0., 0., 0., 0., 0., 0., 0., 0., 0., 0., 0., 0., 0., 0., 0., 0., 0.,\n",
              "        0., 0., 0., 0., 0., 0., 0., 0., 0., 0., 0., 0., 0., 0., 0., 0., 0.,\n",
              "        0., 0., 0., 0., 0., 0., 0., 0., 0., 0., 0., 0., 0., 0., 0., 0., 0.,\n",
              "        0., 0., 0., 0., 0., 0., 0., 0., 0., 0., 0., 0., 0., 0., 0., 0., 0.,\n",
              "        0., 0., 0., 0., 0., 0., 0., 0., 0., 0., 0., 0., 0., 0., 0., 0., 0.,\n",
              "        0., 0., 0., 0., 0., 0., 0., 0., 0., 0., 0., 0., 0., 0., 0., 0., 0.,\n",
              "        0., 0., 0., 0., 0., 0., 0., 0., 0., 0., 0., 0., 0., 0., 0., 0., 0.,\n",
              "        0., 0., 0., 0., 0., 0., 0., 0., 0., 0., 0., 0., 0., 0., 0., 0., 0.,\n",
              "        0., 0., 0., 0., 0., 0., 0., 0., 0., 0., 0., 0., 0., 0., 0., 0., 0.,\n",
              "        0., 0., 0., 0., 0., 0., 0., 0., 0., 0., 0., 0., 0., 0., 0., 0., 0.,\n",
              "        0., 0., 0., 0., 0., 0., 0., 0., 0., 0., 0., 0., 0., 0., 0., 0., 0.,\n",
              "        0., 0., 0., 0., 0., 0., 0., 0., 0., 0., 0., 0., 0., 0., 0., 0., 0.,\n",
              "        0., 0., 0., 0., 0., 0., 0., 0., 0., 0., 0., 0., 0., 0., 0., 0., 0.,\n",
              "        0., 0., 0., 0., 0., 0., 0., 0., 0., 0., 0., 0., 0., 0., 0., 0., 0.,\n",
              "        0., 0., 0., 0., 0., 0., 0., 0., 0., 0., 0., 0., 0., 0., 0., 0., 0.,\n",
              "        0., 0., 0., 0., 0., 0., 0., 0., 0., 0., 0., 0., 0., 0., 0., 0., 0.,\n",
              "        0., 0., 0., 0., 0., 0., 0., 0., 0., 0., 0., 0., 0., 0., 0., 0., 0.,\n",
              "        0., 0., 0., 0., 0., 0., 0., 0., 0., 0., 0., 0., 0., 0., 0., 0., 0.,\n",
              "        0., 0., 0., 0., 0., 0., 0., 0., 0., 0., 0., 0., 0., 0., 0., 0., 0.,\n",
              "        0., 0., 0., 0., 0., 0., 0., 0., 0., 0., 0., 0., 0., 0., 0., 0., 0.,\n",
              "        0., 0., 0., 0., 0., 0., 0., 0., 0., 0., 0., 0., 0., 0., 0., 0., 0.,\n",
              "        0., 0., 0., 0., 0., 0., 0., 0., 0., 0., 0., 0., 0., 0., 0., 0., 0.,\n",
              "        0., 0., 0., 0., 0., 0., 0., 0., 0., 0., 0., 0., 0., 0., 0., 0., 0.,\n",
              "        0., 0., 0., 0., 0., 0., 0., 0., 0., 0., 0., 0., 0., 0., 0., 0., 0.,\n",
              "        0., 0., 0., 0., 0., 0., 0., 0., 0., 0., 0., 0., 0., 0., 0., 0., 0.,\n",
              "        0., 0., 0., 0., 0., 0., 0., 0., 0., 0., 0., 0., 0., 0., 0., 0., 0.,\n",
              "        0., 0., 0., 0., 0., 0., 0., 0., 0., 0., 0., 0., 0., 0., 0., 0., 0.,\n",
              "        0., 0., 0., 0., 0., 0., 0.], dtype=float32),\n",
              " array([[ 0.02274009, -0.01940664, -0.01862187, ...,  0.05075178,\n",
              "         -0.05957601, -0.01338498],\n",
              "        [-0.03224223,  0.00269987, -0.04190327, ...,  0.08668657,\n",
              "         -0.01206421, -0.00681762],\n",
              "        [-0.0482068 ,  0.00566126,  0.00300511, ..., -0.02207986,\n",
              "         -0.01415598,  0.08013963],\n",
              "        ...,\n",
              "        [ 0.03927176,  0.02318512,  0.07245622, ..., -0.03445232,\n",
              "          0.08844727,  0.0785379 ],\n",
              "        [-0.03854879,  0.05515491, -0.02856654, ..., -0.02774741,\n",
              "         -0.01509617, -0.07940183],\n",
              "        [-0.03341777, -0.03511074, -0.02764241, ..., -0.07293794,\n",
              "          0.03207842,  0.07668088]], dtype=float32),\n",
              " array([0., 0., 0., 0., 0., 0., 0., 0., 0., 0., 0., 0., 0., 0., 0., 0., 0.,\n",
              "        0., 0., 0., 0., 0., 0., 0., 0., 0., 0., 0., 0., 0., 0., 0., 0., 0.,\n",
              "        0., 0., 0., 0., 0., 0., 0., 0., 0., 0., 0., 0., 0., 0., 0., 0., 0.,\n",
              "        0., 0., 0., 0., 0., 0., 0., 0., 0., 0., 0., 0., 0., 0., 0., 0., 0.,\n",
              "        0., 0., 0., 0., 0., 0., 0., 0., 0., 0., 0., 0., 0., 0., 0., 0., 0.,\n",
              "        0., 0., 0., 0., 0., 0., 0., 0., 0., 0., 0., 0., 0., 0., 0., 0., 0.,\n",
              "        0., 0., 0., 0., 0., 0., 0., 0., 0., 0., 0., 0., 0., 0., 0., 0., 0.,\n",
              "        0., 0., 0., 0., 0., 0., 0., 0., 0., 0., 0., 0., 0., 0., 0., 0., 0.,\n",
              "        0., 0., 0., 0., 0., 0., 0., 0., 0., 0., 0., 0., 0., 0., 0., 0., 0.,\n",
              "        0., 0., 0., 0., 0., 0., 0., 0., 0., 0., 0., 0., 0., 0., 0., 0., 0.,\n",
              "        0., 0., 0., 0., 0., 0., 0., 0., 0., 0., 0., 0., 0., 0., 0., 0., 0.,\n",
              "        0., 0., 0., 0., 0., 0., 0., 0., 0., 0., 0., 0., 0., 0., 0., 0., 0.,\n",
              "        0., 0., 0., 0., 0., 0., 0., 0., 0., 0., 0., 0., 0., 0., 0., 0., 0.,\n",
              "        0., 0., 0., 0., 0., 0., 0., 0., 0., 0., 0., 0., 0., 0., 0., 0., 0.,\n",
              "        0., 0., 0., 0., 0., 0., 0., 0., 0., 0., 0., 0.], dtype=float32),\n",
              " array([[-0.05336015,  0.01110455, -0.01338606, ..., -0.03609905,\n",
              "          0.06852788,  0.02405773],\n",
              "        [-0.05220218,  0.00053483,  0.09838489, ..., -0.10464447,\n",
              "         -0.03678444, -0.11205635],\n",
              "        [ 0.01952034, -0.09337691,  0.04066984, ...,  0.01448363,\n",
              "          0.05311938, -0.11961024],\n",
              "        ...,\n",
              "        [ 0.13025372,  0.0444576 ,  0.10933247, ..., -0.06479281,\n",
              "         -0.11277558, -0.11724135],\n",
              "        [ 0.03969049, -0.01565433, -0.08583708, ...,  0.05539152,\n",
              "         -0.03895999, -0.05509318],\n",
              "        [-0.04516274,  0.0999732 ,  0.00159225, ...,  0.12707563,\n",
              "          0.12387313, -0.00351396]], dtype=float32),\n",
              " array([0., 0., 0., 0., 0., 0., 0., 0., 0., 0., 0., 0., 0., 0., 0., 0., 0.,\n",
              "        0., 0., 0., 0., 0., 0., 0., 0., 0., 0., 0., 0., 0., 0., 0., 0., 0.,\n",
              "        0., 0., 0., 0., 0., 0., 0., 0., 0., 0., 0., 0., 0., 0., 0., 0., 0.,\n",
              "        0., 0., 0., 0., 0., 0., 0., 0., 0., 0., 0., 0., 0., 0., 0., 0., 0.,\n",
              "        0., 0., 0., 0., 0., 0., 0., 0., 0., 0., 0., 0., 0., 0., 0., 0., 0.,\n",
              "        0., 0., 0., 0., 0., 0., 0., 0., 0., 0., 0., 0., 0., 0., 0.],\n",
              "       dtype=float32),\n",
              " array([[ 2.14377880e-01,  6.15965724e-02, -1.21660039e-01,\n",
              "          2.14590430e-01,  3.68320942e-02,  1.23386651e-01,\n",
              "          1.32778794e-01, -2.86293626e-02,  3.68164778e-02,\n",
              "         -1.85213134e-01],\n",
              "        [-5.08562922e-02,  1.35052204e-03,  1.94931984e-01,\n",
              "         -1.95346147e-01, -5.32974750e-02, -5.32709211e-02,\n",
              "          2.44390368e-02,  1.10365897e-01,  2.02806592e-02,\n",
              "          5.18989563e-03],\n",
              "        [ 2.21372515e-01, -4.73390520e-03,  5.61072230e-02,\n",
              "         -1.07856557e-01,  1.72045499e-01,  9.58575010e-02,\n",
              "         -7.65809268e-02,  1.10842526e-01, -1.27526537e-01,\n",
              "         -2.02168643e-01],\n",
              "        [ 2.15853214e-01,  1.10114872e-01,  4.00651693e-02,\n",
              "          1.98357850e-01,  2.09114343e-01,  5.64783514e-02,\n",
              "         -4.29898500e-05, -1.51807040e-01, -9.13890451e-02,\n",
              "          1.11732125e-01],\n",
              "        [ 6.08547628e-02, -6.88983500e-03, -7.75756389e-02,\n",
              "          1.95839763e-01,  6.12458289e-02, -1.05328172e-01,\n",
              "         -4.31421399e-02,  2.03303099e-02, -1.05584919e-01,\n",
              "          8.13962519e-02],\n",
              "        [-9.69142020e-02, -8.49672258e-02,  1.41946107e-01,\n",
              "         -2.59078294e-02,  7.12302327e-02, -6.24310374e-02,\n",
              "          1.73565447e-01, -7.55863190e-02, -6.07938021e-02,\n",
              "          5.45576215e-04],\n",
              "        [-5.45025617e-02,  3.57451141e-02,  6.78792596e-03,\n",
              "         -1.99303508e-01, -1.80770054e-01, -9.33080912e-02,\n",
              "         -1.05189696e-01, -1.57295614e-01, -1.37222826e-01,\n",
              "          1.76230192e-01],\n",
              "        [ 1.52498186e-01,  1.34384066e-01, -2.06822440e-01,\n",
              "         -3.04523557e-02,  1.04489714e-01, -3.94834578e-02,\n",
              "          1.35132879e-01,  1.58644527e-01, -1.88168764e-01,\n",
              "          2.29959548e-01],\n",
              "        [ 2.33309686e-01,  2.10439026e-01, -1.12133421e-01,\n",
              "         -3.57161462e-02,  8.76159966e-02, -1.09899640e-02,\n",
              "          3.72812152e-03, -1.21491104e-02,  3.03543508e-02,\n",
              "          9.06512141e-04],\n",
              "        [-1.24742515e-01, -1.70922309e-01,  5.65892160e-02,\n",
              "         -8.42455029e-03,  1.65206760e-01, -4.45626080e-02,\n",
              "          1.29594147e-01, -1.29664138e-01,  1.19951814e-01,\n",
              "         -9.63909924e-03],\n",
              "        [-8.11841488e-02, -1.62715375e-01,  7.79941678e-04,\n",
              "         -1.82961717e-01,  2.03074932e-01,  1.34490430e-01,\n",
              "         -4.86167371e-02, -2.09683403e-01,  8.11178982e-02,\n",
              "          3.22797596e-02],\n",
              "        [ 5.49869537e-02, -1.17298983e-01, -5.44649214e-02,\n",
              "          1.61071241e-01,  3.66785526e-02, -1.40881896e-01,\n",
              "          2.04719305e-02, -1.39999926e-01, -9.52745229e-02,\n",
              "         -7.81689435e-02],\n",
              "        [ 2.14615256e-01, -1.72384486e-01,  1.65376544e-01,\n",
              "         -1.49342418e-01, -1.13548204e-01,  4.97181416e-02,\n",
              "         -1.41014963e-01,  3.31581533e-02, -1.34438962e-01,\n",
              "         -7.43876398e-02],\n",
              "        [-1.21587209e-01, -3.57084572e-02,  5.33880591e-02,\n",
              "         -8.46189857e-02, -1.20093971e-02, -5.44235408e-02,\n",
              "          1.93630457e-01,  1.01363689e-01,  1.70567572e-01,\n",
              "          2.00518280e-01],\n",
              "        [-4.58368510e-02, -1.09244496e-01, -1.62285775e-01,\n",
              "         -1.81619555e-01, -1.76156029e-01,  1.21530592e-01,\n",
              "          1.19017661e-02,  7.40652978e-02, -1.96167856e-01,\n",
              "          4.32611406e-02],\n",
              "        [-4.43659276e-02,  1.75993204e-01, -8.76439959e-02,\n",
              "          8.36404264e-02,  1.70811236e-01, -1.42526925e-01,\n",
              "          1.14039838e-01,  2.85075307e-02, -6.54089451e-02,\n",
              "         -1.72579587e-01],\n",
              "        [ 5.61259985e-02,  1.18916184e-01, -2.06391722e-01,\n",
              "         -1.13501318e-01, -1.00619376e-01,  1.49434566e-01,\n",
              "         -3.96059453e-03,  2.62739360e-02,  1.51591152e-01,\n",
              "         -4.50781137e-02],\n",
              "        [-1.50968581e-01, -2.39142179e-02, -2.16874927e-01,\n",
              "         -1.48502439e-01, -1.40159801e-01, -8.49638283e-02,\n",
              "          1.06382012e-01,  1.96178555e-02,  2.05285102e-01,\n",
              "         -1.85087010e-01],\n",
              "        [ 1.49037510e-01,  1.06516391e-01, -2.07345903e-01,\n",
              "         -5.04792184e-02, -1.05475008e-01, -1.21334799e-01,\n",
              "          1.34329379e-01, -1.78701892e-01,  1.28120661e-01,\n",
              "         -1.79225370e-01],\n",
              "        [-1.62143230e-01,  5.16373515e-02,  1.80641890e-01,\n",
              "          5.63308895e-02,  1.93079859e-01, -2.31384918e-01,\n",
              "          2.22149521e-01,  1.63068116e-01,  1.25573188e-01,\n",
              "         -1.02919683e-01],\n",
              "        [ 3.09961140e-02, -5.21626621e-02, -3.00586224e-03,\n",
              "          9.94686484e-02, -1.69050261e-01, -7.28623569e-03,\n",
              "         -3.24834436e-02,  4.50421572e-02,  1.93015665e-01,\n",
              "         -1.47959828e-01],\n",
              "        [ 1.57347679e-01, -7.89290071e-02, -1.21177666e-01,\n",
              "         -1.38132066e-01,  1.09414816e-01,  1.35475963e-01,\n",
              "         -1.37004167e-01,  7.07976222e-02, -1.64890766e-01,\n",
              "         -9.11070108e-02],\n",
              "        [-5.97451329e-02, -2.13235676e-01, -1.79887429e-01,\n",
              "          4.87233698e-02,  1.93630338e-01,  1.73393190e-02,\n",
              "         -1.20508969e-01, -2.55994499e-02, -1.36131048e-02,\n",
              "          1.63113713e-01],\n",
              "        [ 1.83089972e-01, -5.05084991e-02, -1.34945184e-01,\n",
              "         -1.71733052e-01,  5.22866845e-04,  2.10576385e-01,\n",
              "          1.78025842e-01,  1.91935539e-01, -2.27075085e-01,\n",
              "         -1.05642229e-01],\n",
              "        [-1.46270633e-01,  2.31903940e-01,  3.02851498e-02,\n",
              "         -3.64228636e-02, -1.01845115e-01, -1.92683846e-01,\n",
              "          1.36062890e-01, -9.47794914e-02, -2.87924111e-02,\n",
              "         -1.00369692e-01],\n",
              "        [ 2.14356780e-01, -2.03729495e-01,  6.42576516e-02,\n",
              "          1.60024017e-01,  8.27057958e-02, -1.87652767e-01,\n",
              "          9.48378444e-02,  1.44819051e-01, -1.66452050e-01,\n",
              "          1.53249949e-01],\n",
              "        [-1.38217151e-01, -2.31662884e-01,  4.61300611e-02,\n",
              "         -2.10310444e-01, -2.08229482e-01, -1.29057139e-01,\n",
              "          1.81431890e-01,  1.72890037e-01,  3.65125239e-02,\n",
              "         -1.56167373e-01],\n",
              "        [-1.77276805e-01,  1.56515718e-01, -6.28038347e-02,\n",
              "         -1.33294359e-01, -5.26389182e-02, -9.07642841e-02,\n",
              "          1.55716568e-01,  1.19011164e-01,  2.24749446e-01,\n",
              "         -1.55655771e-01],\n",
              "        [-9.38995481e-02, -4.05031145e-02,  1.52859092e-01,\n",
              "          1.91940695e-01, -2.30210900e-01, -2.16300994e-01,\n",
              "         -1.32049978e-01,  2.30211169e-01,  6.97075129e-02,\n",
              "          1.09595567e-01],\n",
              "        [-3.79597098e-02,  2.73106396e-02, -3.02782953e-02,\n",
              "         -1.11100338e-01,  1.02034390e-01,  1.35625064e-01,\n",
              "         -1.69852927e-01, -1.05198428e-01, -1.72624260e-01,\n",
              "         -1.67557582e-01],\n",
              "        [-3.63430232e-02, -1.98047355e-01, -2.03764737e-01,\n",
              "         -9.62777436e-02, -1.21276721e-01,  1.10741585e-01,\n",
              "         -1.28098786e-01,  1.51321650e-01, -1.03147417e-01,\n",
              "         -1.87752426e-01],\n",
              "        [ 1.83816731e-01,  7.43531287e-02,  6.22125268e-02,\n",
              "         -1.04681551e-02, -1.80005252e-01,  1.12777621e-01,\n",
              "          1.66028589e-01,  1.24013513e-01,  1.83647722e-01,\n",
              "         -4.92460728e-02],\n",
              "        [ 1.13825053e-01,  1.53650075e-01,  1.76288009e-01,\n",
              "          4.41474319e-02, -5.25798351e-02, -1.15083426e-01,\n",
              "         -1.53508812e-01, -8.04578215e-02,  1.53519779e-01,\n",
              "          6.93175793e-02],\n",
              "        [ 1.32367462e-01,  1.08402818e-02,  1.46150142e-02,\n",
              "         -1.78071514e-01,  1.98513925e-01,  8.06848407e-02,\n",
              "          2.28216022e-01,  4.45033014e-02,  1.32834762e-02,\n",
              "         -1.65984094e-01],\n",
              "        [ 1.63978487e-02, -1.98210344e-01,  1.20544434e-01,\n",
              "         -1.42189980e-01,  8.57899785e-02,  4.97041047e-02,\n",
              "         -4.56079841e-03, -7.94135481e-02,  8.26929808e-02,\n",
              "          9.95266736e-02],\n",
              "        [-1.35218024e-01,  1.58878118e-01,  1.62513405e-01,\n",
              "         -1.26419008e-01, -1.08754933e-01,  3.20374072e-02,\n",
              "         -9.06501710e-03, -1.29244849e-01, -2.03335643e-01,\n",
              "         -1.63411170e-01],\n",
              "        [ 1.92177981e-01, -2.12348983e-01,  1.21596575e-01,\n",
              "          3.64169776e-02, -1.04220092e-01,  1.71003103e-01,\n",
              "         -1.29054695e-01,  1.71616048e-01, -5.94200194e-03,\n",
              "         -2.23280489e-02],\n",
              "        [-2.02533871e-01, -1.00588530e-01, -2.05793366e-01,\n",
              "          7.64122605e-02,  1.30857974e-02, -4.60908711e-02,\n",
              "          2.25685924e-01, -3.65873575e-02, -9.69958901e-02,\n",
              "          1.78654611e-01],\n",
              "        [ 1.13399804e-01, -4.85240817e-02,  1.37984902e-01,\n",
              "         -1.01067722e-02, -1.23489551e-01,  1.41314983e-01,\n",
              "          3.61745656e-02,  5.60968518e-02,  1.50530845e-01,\n",
              "          2.71340609e-02],\n",
              "        [-5.88699728e-02, -2.03721583e-01, -1.20489299e-02,\n",
              "         -1.46634400e-01, -1.87121764e-01,  7.19557703e-02,\n",
              "          4.85141277e-02, -9.83074307e-02,  4.52498496e-02,\n",
              "         -1.37291983e-01],\n",
              "        [ 5.41692972e-02, -6.38046116e-02, -1.26274794e-01,\n",
              "         -1.11009523e-01, -1.49780571e-01, -1.73041478e-01,\n",
              "          6.40821457e-02,  1.95203692e-01, -1.48252711e-01,\n",
              "         -8.37452710e-02],\n",
              "        [-8.47727209e-02,  1.77365780e-01, -1.76517904e-01,\n",
              "          1.45282269e-01,  4.36465740e-02,  7.55567551e-02,\n",
              "          1.29821151e-01,  6.79565370e-02, -3.74628454e-02,\n",
              "          1.77426338e-02],\n",
              "        [ 2.18730718e-01,  2.20719963e-01, -2.27237225e-01,\n",
              "         -1.24871366e-01,  7.34913647e-02, -1.04536593e-01,\n",
              "          7.62272179e-02, -2.01158971e-02, -6.90056980e-02,\n",
              "         -6.06477410e-02],\n",
              "        [ 1.51251256e-01, -4.81787473e-02,  1.18278056e-01,\n",
              "         -1.87307581e-01, -1.99974537e-01, -9.20705944e-02,\n",
              "          7.40171969e-03,  1.13954842e-01,  1.25783086e-02,\n",
              "         -1.46805078e-01],\n",
              "        [ 2.24497765e-01, -1.64418370e-02, -1.80798784e-01,\n",
              "          1.29118413e-02, -1.07168987e-01, -1.05043530e-01,\n",
              "          9.94041562e-04,  1.17938429e-01,  1.12329543e-01,\n",
              "          2.08569646e-01],\n",
              "        [ 2.07069725e-01,  9.82779264e-02, -8.94366354e-02,\n",
              "         -5.50349951e-02, -1.07506469e-01,  1.52030259e-01,\n",
              "          1.41188502e-03, -2.04170436e-01,  1.40104294e-01,\n",
              "         -2.19364315e-02],\n",
              "        [-7.74850994e-02,  7.38680363e-04,  3.36338282e-02,\n",
              "         -2.03575477e-01,  1.28593862e-01,  1.80824518e-01,\n",
              "          2.17480183e-01, -1.94538742e-01,  1.18794620e-01,\n",
              "         -4.28919643e-02],\n",
              "        [ 3.16654146e-02, -1.69483751e-01, -4.20607328e-02,\n",
              "         -1.18739158e-02, -2.03531370e-01,  6.14001155e-02,\n",
              "          2.05392569e-01, -2.32830152e-01,  9.01160836e-02,\n",
              "         -9.58249420e-02],\n",
              "        [-6.94180876e-02,  1.61708057e-01, -4.75239754e-03,\n",
              "          2.48073637e-02,  2.13880688e-01, -1.94615647e-01,\n",
              "         -3.39431614e-02,  1.41271681e-01, -2.34563500e-02,\n",
              "          1.47826463e-01],\n",
              "        [ 1.04165077e-01,  7.41922557e-02, -2.26864770e-01,\n",
              "         -2.28951141e-01,  1.53797567e-02, -8.72661322e-02,\n",
              "          9.41898227e-02, -5.20415604e-02,  1.93740189e-01,\n",
              "          1.31882817e-01],\n",
              "        [ 5.99500835e-02, -2.14121804e-01, -4.37646806e-02,\n",
              "         -7.32844621e-02,  1.19415373e-01,  1.10568851e-01,\n",
              "          1.50468588e-01, -2.45420635e-03, -1.25557184e-04,\n",
              "         -4.42275405e-03],\n",
              "        [ 1.32963955e-01, -3.44942957e-02,  1.65523320e-01,\n",
              "         -1.01685971e-01,  1.97749794e-01,  1.37985557e-01,\n",
              "          2.30464697e-01,  2.15769410e-02,  1.46662086e-01,\n",
              "         -1.42017707e-01],\n",
              "        [ 1.60714686e-01,  1.43387675e-01,  9.25635993e-02,\n",
              "          1.44550383e-01,  1.82401389e-01,  3.01008821e-02,\n",
              "         -1.85684100e-01,  8.22896659e-02, -4.30178046e-02,\n",
              "         -4.28636223e-02],\n",
              "        [-2.29431227e-01,  1.81235939e-01,  2.30035514e-01,\n",
              "          2.04158515e-01,  2.28889108e-01,  5.58546484e-02,\n",
              "          1.36644274e-01, -5.39407730e-02,  1.93047523e-02,\n",
              "          7.49092698e-02],\n",
              "        [-1.09403640e-01, -1.10295892e-01, -1.93735138e-01,\n",
              "         -7.11529255e-02, -8.47935528e-02,  2.19406694e-01,\n",
              "         -2.27207378e-01, -1.35217860e-01,  1.37309968e-01,\n",
              "          6.40625358e-02],\n",
              "        [-9.81900543e-02,  1.62319034e-01, -2.40375102e-02,\n",
              "         -5.52902371e-02,  3.50967944e-02,  1.48425758e-01,\n",
              "         -1.16211943e-01,  7.64595270e-02,  2.80165672e-02,\n",
              "          1.08068466e-01],\n",
              "        [-9.45345461e-02, -6.58556819e-04, -5.72438091e-02,\n",
              "          2.20185429e-01, -1.65469542e-01, -1.84453741e-01,\n",
              "         -1.72362328e-01, -1.23027109e-01,  2.01842517e-01,\n",
              "          2.16918647e-01],\n",
              "        [-2.14261174e-01, -4.90911007e-02,  2.09697813e-01,\n",
              "          1.19570553e-01,  6.79248869e-02, -9.08019841e-02,\n",
              "          1.74669236e-01, -1.93444133e-01,  7.02648461e-02,\n",
              "         -4.53633815e-02],\n",
              "        [-9.50303525e-02, -8.28148723e-02,  1.65698439e-01,\n",
              "         -1.63905084e-01,  1.43906891e-01,  9.17460918e-02,\n",
              "          9.69667137e-02, -1.38096705e-01, -1.97166860e-01,\n",
              "          2.31104434e-01],\n",
              "        [-1.01544425e-01, -1.74216151e-01,  1.02893800e-01,\n",
              "         -1.85219198e-01,  1.82283282e-01,  1.58029467e-01,\n",
              "          1.87923372e-01, -2.17240751e-01,  1.23264134e-01,\n",
              "          2.20372558e-01],\n",
              "        [ 8.74450505e-02,  1.86639071e-01, -1.97631523e-01,\n",
              "         -7.21473992e-03,  8.62807035e-04,  4.90709543e-02,\n",
              "         -3.67283970e-02,  4.35609818e-02, -2.05203846e-01,\n",
              "         -1.71553761e-01],\n",
              "        [-1.76198289e-01,  6.60356879e-03,  9.21881199e-03,\n",
              "         -5.49327582e-02,  2.29965001e-01,  1.29739344e-02,\n",
              "          2.78232098e-02,  1.85567677e-01,  2.24596828e-01,\n",
              "          5.54980040e-02],\n",
              "        [ 9.20718312e-02, -5.74761629e-03, -1.73837468e-01,\n",
              "          6.04110956e-03,  7.42199719e-02,  6.69071078e-03,\n",
              "          7.37555325e-02, -1.26810521e-01,  5.32386303e-02,\n",
              "          6.99820518e-02],\n",
              "        [ 8.12682807e-02,  1.46924913e-01,  1.54721200e-01,\n",
              "          2.31307119e-01,  2.30087280e-01,  4.52430546e-02,\n",
              "         -1.98276192e-02,  7.77345896e-03,  2.05830634e-02,\n",
              "          2.21814573e-01],\n",
              "        [-1.08335420e-01,  1.04557574e-01,  3.34243178e-02,\n",
              "         -8.02300870e-02,  1.46673322e-01,  4.18184698e-02,\n",
              "          4.76624966e-02,  5.64386547e-02, -1.20248541e-01,\n",
              "          7.09969699e-02],\n",
              "        [ 1.57674104e-01, -1.87923759e-02,  1.95891559e-01,\n",
              "         -2.84232199e-03, -2.14104101e-01,  6.61101043e-02,\n",
              "         -6.30826950e-02, -4.99966741e-02, -5.79774231e-02,\n",
              "         -6.60402626e-02],\n",
              "        [ 7.21201301e-03, -2.05135360e-01, -1.12142555e-01,\n",
              "         -1.29004240e-01, -1.53988570e-01, -1.30776003e-01,\n",
              "         -2.20467120e-01, -3.04548144e-02, -1.84309021e-01,\n",
              "         -1.21631645e-01],\n",
              "        [-1.94621772e-01,  2.51912475e-02, -2.32142970e-01,\n",
              "          2.09020674e-01, -3.51764262e-03,  1.06050223e-02,\n",
              "          3.10512781e-02, -1.88746199e-01, -3.67824137e-02,\n",
              "          6.89443946e-02],\n",
              "        [ 1.83463097e-03, -2.56839246e-02,  1.42893314e-01,\n",
              "         -2.16360807e-01,  7.57220089e-02,  2.21457720e-01,\n",
              "         -6.20537996e-03,  2.13890433e-01,  1.06389701e-01,\n",
              "         -2.38631666e-02],\n",
              "        [ 5.42304516e-02, -1.14498541e-01, -1.97253823e-01,\n",
              "         -1.50445491e-01,  1.22347951e-01,  6.95761740e-02,\n",
              "         -1.54925048e-01, -1.20292813e-01, -6.78898394e-03,\n",
              "          7.56727457e-02],\n",
              "        [ 1.18995011e-01,  1.80442989e-01,  1.16401613e-01,\n",
              "         -1.30529225e-01,  1.12725228e-01, -7.19311535e-02,\n",
              "          9.28598940e-02,  1.01544648e-01, -6.03538454e-02,\n",
              "         -9.95193124e-02],\n",
              "        [-2.30525061e-01,  7.57702887e-02,  2.12659925e-01,\n",
              "         -9.24440622e-02, -1.43718541e-01,  1.59232020e-01,\n",
              "          1.32791817e-01, -8.34231079e-03, -3.52298766e-02,\n",
              "         -1.90351471e-01],\n",
              "        [-2.05624983e-01,  1.86440259e-01, -1.67850524e-01,\n",
              "          9.99295712e-02,  1.41962767e-02, -1.42898157e-01,\n",
              "         -1.20719120e-01, -1.65876627e-01,  1.81676835e-01,\n",
              "         -1.67338580e-01],\n",
              "        [ 1.02847517e-01, -1.43472522e-01,  1.65917784e-01,\n",
              "         -2.23428100e-01, -1.75934583e-01, -1.06487870e-02,\n",
              "          4.29232121e-02,  2.16744542e-02,  6.62838221e-02,\n",
              "          1.83904320e-01],\n",
              "        [-5.29711694e-02,  1.40482426e-01,  2.33940780e-02,\n",
              "          3.56096923e-02, -9.25979614e-02, -4.48764861e-02,\n",
              "         -5.65958023e-03, -2.01508090e-01, -3.16638499e-02,\n",
              "          4.62528467e-02],\n",
              "        [ 5.79528809e-02,  1.67528838e-01,  4.27275896e-02,\n",
              "          3.39168608e-02,  1.98295146e-01,  2.15946853e-01,\n",
              "         -1.51374161e-01,  1.91272974e-01,  6.77373111e-02,\n",
              "          7.94782043e-02],\n",
              "        [ 2.58647203e-02, -1.18585415e-01, -1.78381443e-01,\n",
              "          1.57021165e-01, -4.82797474e-02,  1.93407595e-01,\n",
              "         -2.12339014e-01, -2.21162260e-01,  1.09848589e-01,\n",
              "         -4.46562022e-02],\n",
              "        [-1.35152996e-01,  8.86456668e-02,  1.67497337e-01,\n",
              "          3.80427241e-02, -1.42473429e-02, -1.69546455e-01,\n",
              "         -2.13994071e-01, -7.75939077e-02, -1.59336209e-01,\n",
              "          2.05337703e-01],\n",
              "        [ 8.33849907e-02, -6.41373098e-02,  1.17697239e-01,\n",
              "         -2.31798410e-01, -6.72215670e-02,  1.60694480e-01,\n",
              "          4.55907285e-02, -6.98790848e-02,  2.22810626e-01,\n",
              "          1.44425303e-01],\n",
              "        [ 1.83657318e-01, -5.01468480e-02, -1.02448598e-01,\n",
              "          1.82720900e-01,  8.63809586e-02,  7.59682953e-02,\n",
              "          1.06400341e-01, -3.36779654e-03,  3.29916477e-02,\n",
              "          1.39090180e-01],\n",
              "        [ 3.73849571e-02,  1.28800005e-01,  1.83021188e-01,\n",
              "         -2.10053414e-01,  2.15482026e-01, -1.21756986e-01,\n",
              "          5.25552332e-02,  1.30141437e-01,  1.77834630e-02,\n",
              "          7.85708427e-03],\n",
              "        [ 4.61889803e-02,  7.26707280e-03,  4.46017087e-02,\n",
              "          1.57754153e-01,  2.28733301e-01,  1.86190099e-01,\n",
              "          2.18490273e-01, -7.48932362e-05,  5.82157075e-02,\n",
              "          2.31281400e-01],\n",
              "        [ 2.31153965e-02, -8.74475986e-02, -2.12070122e-01,\n",
              "         -1.33809373e-01,  5.78955114e-02,  2.93884873e-02,\n",
              "         -2.29588479e-01, -2.29499444e-01, -1.81762487e-01,\n",
              "         -1.52953327e-01],\n",
              "        [-2.24685684e-01, -1.89765126e-01,  2.71057785e-02,\n",
              "         -1.93529665e-01,  1.60924226e-01, -2.08508223e-01,\n",
              "          9.07016397e-02, -1.18846744e-02, -1.89680159e-01,\n",
              "         -1.14511847e-02],\n",
              "        [ 1.12142831e-01,  2.19082355e-01, -1.73037529e-01,\n",
              "          2.19180971e-01, -3.56646329e-02,  8.44821334e-03,\n",
              "          9.81187224e-02,  5.58318198e-02,  1.05718404e-01,\n",
              "         -1.80314854e-01],\n",
              "        [ 2.00440943e-01, -2.17843071e-01,  1.71146274e-01,\n",
              "         -6.11766130e-02,  7.45354891e-02,  7.73954988e-02,\n",
              "          5.56730032e-02, -1.22367993e-01,  1.90148443e-01,\n",
              "         -8.06397945e-02],\n",
              "        [-9.25474614e-02, -3.95766795e-02,  4.08853889e-02,\n",
              "         -1.34281605e-01, -2.28582323e-03, -1.42738849e-01,\n",
              "          3.83524597e-03, -2.20237762e-01, -1.30419746e-01,\n",
              "         -1.12115711e-01],\n",
              "        [-7.00333714e-02,  1.79633975e-01, -1.23634323e-01,\n",
              "         -2.00083390e-01,  1.37028813e-01,  2.78538764e-02,\n",
              "         -1.53070644e-01, -1.00152582e-01,  1.74501747e-01,\n",
              "         -2.19275117e-01],\n",
              "        [-8.89794827e-02,  7.90135562e-03,  8.64839554e-03,\n",
              "          1.64770007e-01, -2.21242890e-01, -1.33460239e-01,\n",
              "          1.46943986e-01, -2.15463042e-01,  1.65616214e-01,\n",
              "         -1.02688208e-01],\n",
              "        [-1.69479400e-02, -1.07724085e-01,  2.28661358e-01,\n",
              "          2.10085779e-01,  8.25193524e-02,  1.51445538e-01,\n",
              "         -1.30135715e-02, -1.86956942e-01,  3.22864950e-03,\n",
              "          1.24636263e-01],\n",
              "        [ 2.08374411e-01, -1.06928930e-01,  1.29484445e-01,\n",
              "          1.87607706e-01,  1.79453194e-03, -2.27355942e-01,\n",
              "         -4.93840426e-02, -2.19496518e-01, -1.07220322e-01,\n",
              "         -1.96705073e-01],\n",
              "        [-1.50881201e-01,  2.33282030e-01, -4.60946560e-03,\n",
              "         -2.79329419e-02, -7.24746734e-02, -1.40441775e-01,\n",
              "          1.12669379e-01,  2.00021654e-01,  2.20628053e-01,\n",
              "         -2.11564898e-02],\n",
              "        [-1.75799876e-01,  1.90872937e-01, -3.06519270e-02,\n",
              "          1.74998045e-02, -1.83619723e-01, -2.32762054e-01,\n",
              "          5.42528927e-02,  2.22907394e-01, -7.27118701e-02,\n",
              "          2.22774893e-01],\n",
              "        [-5.62723726e-02,  1.22712821e-01,  1.03082508e-01,\n",
              "          4.66550589e-02, -1.30521536e-01,  8.90904665e-03,\n",
              "          9.32647586e-02,  1.22220278e-01,  4.41662669e-02,\n",
              "         -1.50535256e-01],\n",
              "        [-1.02496266e-01,  1.55588657e-01, -1.69395953e-02,\n",
              "          3.88945639e-02,  2.01104224e-01, -2.18204230e-01,\n",
              "         -1.16735697e-01, -2.13418543e-01, -1.68757588e-01,\n",
              "         -1.31026074e-01],\n",
              "        [ 1.25989586e-01, -1.71138525e-01, -4.16061878e-02,\n",
              "          1.79600328e-01,  1.12054527e-01,  1.18611753e-01,\n",
              "          6.24924898e-04, -7.56947398e-02,  3.43208015e-02,\n",
              "         -1.14800394e-01],\n",
              "        [ 1.21627748e-01, -1.82811052e-01,  1.82891220e-01,\n",
              "         -8.33434612e-02,  4.46309745e-02, -2.03846365e-01,\n",
              "         -1.62054628e-01, -1.07280523e-01,  1.57549739e-01,\n",
              "          2.10098416e-01],\n",
              "        [ 3.36039960e-02, -1.12588458e-01, -1.55252725e-01,\n",
              "         -7.69715458e-02,  1.79088324e-01, -9.01083350e-02,\n",
              "          4.74244654e-02,  6.25237823e-03, -7.08588958e-03,\n",
              "          2.05249488e-02],\n",
              "        [-6.12419844e-03, -2.28882253e-01, -1.22656256e-01,\n",
              "          1.33669376e-01,  1.43902838e-01,  1.88606203e-01,\n",
              "         -3.48424315e-02, -1.99876308e-01, -2.32715666e-01,\n",
              "         -5.17129898e-04],\n",
              "        [ 3.77587080e-02,  1.83215976e-01, -1.67677253e-01,\n",
              "         -1.73807845e-01,  2.30565101e-01, -9.11613554e-02,\n",
              "         -2.28659034e-01, -3.41755748e-02,  9.46266353e-02,\n",
              "          9.36416686e-02]], dtype=float32),\n",
              " array([0., 0., 0., 0., 0., 0., 0., 0., 0., 0.], dtype=float32)]"
            ]
          },
          "metadata": {},
          "execution_count": 15
        }
      ]
    },
    {
      "cell_type": "code",
      "execution_count": null,
      "metadata": {
        "id": "eFxgfRA4BfGZ",
        "colab": {
          "base_uri": "https://localhost:8080/"
        },
        "outputId": "e9348edb-02a9-4b8e-8aa2-3ce366beffbe"
      },
      "outputs": [
        {
          "output_type": "stream",
          "name": "stdout",
          "text": [
            "2344/2344 [==============================] - 29s 12ms/step - loss: 111.5808 - accuracy: 0.1007\n"
          ]
        }
      ],
      "source": [
        "# train a model using the l2_reg_penalty value that scored the lowest\n",
        "worse_l2_reg_penalty = 10.0\n",
        "\n",
        "worse_model = build_complex_model(Lp_reg=l2, reg_penalty=worse_l2_reg_penalty)\n",
        "\n",
        "# fit model\n",
        "worse_model.fit(X_train, y_train, epochs=1)\n",
        "\n",
        "# get weights from worst performing model\n",
        "worse_weights = worse_model.get_weights()"
      ]
    },
    {
      "cell_type": "markdown",
      "metadata": {
        "id": "ZJHi51iABfGZ"
      },
      "source": [
        "-----\n",
        "## Understanding how Weights and Biases are stored"
      ]
    },
    {
      "cell_type": "markdown",
      "metadata": {
        "id": "dgo_lKxFBfGZ"
      },
      "source": [
        "Let's take a minute to understand that`.get_weights()` returns a list with 8 elements (if you're using `build_complex_model`)."
      ]
    },
    {
      "cell_type": "code",
      "source": [
        "best_weights"
      ],
      "metadata": {
        "colab": {
          "base_uri": "https://localhost:8080/"
        },
        "id": "rFPbFivg9MDx",
        "outputId": "8c33c750-c020-4e12-fbef-2e000d6c7c11"
      },
      "execution_count": null,
      "outputs": [
        {
          "output_type": "execute_result",
          "data": {
            "text/plain": [
              "[array([[-0.00616247,  0.04949742,  0.02342207, ..., -0.04969692,\n",
              "         -0.0465565 ,  0.05834981],\n",
              "        [ 0.02006269, -0.04516914, -0.00137608, ..., -0.06269598,\n",
              "         -0.06150162, -0.00087963],\n",
              "        [-0.02806978, -0.05283184,  0.02283142, ..., -0.05305799,\n",
              "         -0.02585741,  0.00941773],\n",
              "        ...,\n",
              "        [ 0.0358708 , -0.04704699,  0.00958411, ...,  0.00363888,\n",
              "          0.06238221,  0.05749048],\n",
              "        [-0.03641453,  0.05169223,  0.05107348, ..., -0.06427876,\n",
              "          0.0649324 , -0.00011485],\n",
              "        [-0.00470497,  0.03984357,  0.06018818, ..., -0.06428903,\n",
              "          0.03926063,  0.02844115]], dtype=float32),\n",
              " array([0., 0., 0., 0., 0., 0., 0., 0., 0., 0., 0., 0., 0., 0., 0., 0., 0.,\n",
              "        0., 0., 0., 0., 0., 0., 0., 0., 0., 0., 0., 0., 0., 0., 0., 0., 0.,\n",
              "        0., 0., 0., 0., 0., 0., 0., 0., 0., 0., 0., 0., 0., 0., 0., 0., 0.,\n",
              "        0., 0., 0., 0., 0., 0., 0., 0., 0., 0., 0., 0., 0., 0., 0., 0., 0.,\n",
              "        0., 0., 0., 0., 0., 0., 0., 0., 0., 0., 0., 0., 0., 0., 0., 0., 0.,\n",
              "        0., 0., 0., 0., 0., 0., 0., 0., 0., 0., 0., 0., 0., 0., 0., 0., 0.,\n",
              "        0., 0., 0., 0., 0., 0., 0., 0., 0., 0., 0., 0., 0., 0., 0., 0., 0.,\n",
              "        0., 0., 0., 0., 0., 0., 0., 0., 0., 0., 0., 0., 0., 0., 0., 0., 0.,\n",
              "        0., 0., 0., 0., 0., 0., 0., 0., 0., 0., 0., 0., 0., 0., 0., 0., 0.,\n",
              "        0., 0., 0., 0., 0., 0., 0., 0., 0., 0., 0., 0., 0., 0., 0., 0., 0.,\n",
              "        0., 0., 0., 0., 0., 0., 0., 0., 0., 0., 0., 0., 0., 0., 0., 0., 0.,\n",
              "        0., 0., 0., 0., 0., 0., 0., 0., 0., 0., 0., 0., 0., 0., 0., 0., 0.,\n",
              "        0., 0., 0., 0., 0., 0., 0., 0., 0., 0., 0., 0., 0., 0., 0., 0., 0.,\n",
              "        0., 0., 0., 0., 0., 0., 0., 0., 0., 0., 0., 0., 0., 0., 0., 0., 0.,\n",
              "        0., 0., 0., 0., 0., 0., 0., 0., 0., 0., 0., 0., 0., 0., 0., 0., 0.,\n",
              "        0., 0., 0., 0., 0., 0., 0., 0., 0., 0., 0., 0., 0., 0., 0., 0., 0.,\n",
              "        0., 0., 0., 0., 0., 0., 0., 0., 0., 0., 0., 0., 0., 0., 0., 0., 0.,\n",
              "        0., 0., 0., 0., 0., 0., 0., 0., 0., 0., 0., 0., 0., 0., 0., 0., 0.,\n",
              "        0., 0., 0., 0., 0., 0., 0., 0., 0., 0., 0., 0., 0., 0., 0., 0., 0.,\n",
              "        0., 0., 0., 0., 0., 0., 0., 0., 0., 0., 0., 0., 0., 0., 0., 0., 0.,\n",
              "        0., 0., 0., 0., 0., 0., 0., 0., 0., 0., 0., 0., 0., 0., 0., 0., 0.,\n",
              "        0., 0., 0., 0., 0., 0., 0., 0., 0., 0., 0., 0., 0., 0., 0., 0., 0.,\n",
              "        0., 0., 0., 0., 0., 0., 0., 0., 0., 0., 0., 0., 0., 0., 0., 0., 0.,\n",
              "        0., 0., 0., 0., 0., 0., 0., 0., 0., 0., 0., 0., 0., 0., 0., 0., 0.,\n",
              "        0., 0., 0., 0., 0., 0., 0., 0., 0., 0., 0., 0., 0., 0., 0., 0., 0.,\n",
              "        0., 0., 0., 0., 0., 0., 0., 0., 0., 0., 0., 0., 0., 0., 0., 0., 0.,\n",
              "        0., 0., 0., 0., 0., 0., 0., 0., 0., 0., 0., 0., 0., 0., 0., 0., 0.,\n",
              "        0., 0., 0., 0., 0., 0., 0., 0., 0., 0., 0., 0., 0., 0., 0., 0., 0.,\n",
              "        0., 0., 0., 0., 0., 0., 0., 0., 0., 0., 0., 0., 0., 0., 0., 0., 0.,\n",
              "        0., 0., 0., 0., 0., 0., 0.], dtype=float32),\n",
              " array([[ 0.02274009, -0.01940664, -0.01862187, ...,  0.05075178,\n",
              "         -0.05957601, -0.01338498],\n",
              "        [-0.03224223,  0.00269987, -0.04190327, ...,  0.08668657,\n",
              "         -0.01206421, -0.00681762],\n",
              "        [-0.0482068 ,  0.00566126,  0.00300511, ..., -0.02207986,\n",
              "         -0.01415598,  0.08013963],\n",
              "        ...,\n",
              "        [ 0.03927176,  0.02318512,  0.07245622, ..., -0.03445232,\n",
              "          0.08844727,  0.0785379 ],\n",
              "        [-0.03854879,  0.05515491, -0.02856654, ..., -0.02774741,\n",
              "         -0.01509617, -0.07940183],\n",
              "        [-0.03341777, -0.03511074, -0.02764241, ..., -0.07293794,\n",
              "          0.03207842,  0.07668088]], dtype=float32),\n",
              " array([0., 0., 0., 0., 0., 0., 0., 0., 0., 0., 0., 0., 0., 0., 0., 0., 0.,\n",
              "        0., 0., 0., 0., 0., 0., 0., 0., 0., 0., 0., 0., 0., 0., 0., 0., 0.,\n",
              "        0., 0., 0., 0., 0., 0., 0., 0., 0., 0., 0., 0., 0., 0., 0., 0., 0.,\n",
              "        0., 0., 0., 0., 0., 0., 0., 0., 0., 0., 0., 0., 0., 0., 0., 0., 0.,\n",
              "        0., 0., 0., 0., 0., 0., 0., 0., 0., 0., 0., 0., 0., 0., 0., 0., 0.,\n",
              "        0., 0., 0., 0., 0., 0., 0., 0., 0., 0., 0., 0., 0., 0., 0., 0., 0.,\n",
              "        0., 0., 0., 0., 0., 0., 0., 0., 0., 0., 0., 0., 0., 0., 0., 0., 0.,\n",
              "        0., 0., 0., 0., 0., 0., 0., 0., 0., 0., 0., 0., 0., 0., 0., 0., 0.,\n",
              "        0., 0., 0., 0., 0., 0., 0., 0., 0., 0., 0., 0., 0., 0., 0., 0., 0.,\n",
              "        0., 0., 0., 0., 0., 0., 0., 0., 0., 0., 0., 0., 0., 0., 0., 0., 0.,\n",
              "        0., 0., 0., 0., 0., 0., 0., 0., 0., 0., 0., 0., 0., 0., 0., 0., 0.,\n",
              "        0., 0., 0., 0., 0., 0., 0., 0., 0., 0., 0., 0., 0., 0., 0., 0., 0.,\n",
              "        0., 0., 0., 0., 0., 0., 0., 0., 0., 0., 0., 0., 0., 0., 0., 0., 0.,\n",
              "        0., 0., 0., 0., 0., 0., 0., 0., 0., 0., 0., 0., 0., 0., 0., 0., 0.,\n",
              "        0., 0., 0., 0., 0., 0., 0., 0., 0., 0., 0., 0.], dtype=float32),\n",
              " array([[-0.05336015,  0.01110455, -0.01338606, ..., -0.03609905,\n",
              "          0.06852788,  0.02405773],\n",
              "        [-0.05220218,  0.00053483,  0.09838489, ..., -0.10464447,\n",
              "         -0.03678444, -0.11205635],\n",
              "        [ 0.01952034, -0.09337691,  0.04066984, ...,  0.01448363,\n",
              "          0.05311938, -0.11961024],\n",
              "        ...,\n",
              "        [ 0.13025372,  0.0444576 ,  0.10933247, ..., -0.06479281,\n",
              "         -0.11277558, -0.11724135],\n",
              "        [ 0.03969049, -0.01565433, -0.08583708, ...,  0.05539152,\n",
              "         -0.03895999, -0.05509318],\n",
              "        [-0.04516274,  0.0999732 ,  0.00159225, ...,  0.12707563,\n",
              "          0.12387313, -0.00351396]], dtype=float32),\n",
              " array([0., 0., 0., 0., 0., 0., 0., 0., 0., 0., 0., 0., 0., 0., 0., 0., 0.,\n",
              "        0., 0., 0., 0., 0., 0., 0., 0., 0., 0., 0., 0., 0., 0., 0., 0., 0.,\n",
              "        0., 0., 0., 0., 0., 0., 0., 0., 0., 0., 0., 0., 0., 0., 0., 0., 0.,\n",
              "        0., 0., 0., 0., 0., 0., 0., 0., 0., 0., 0., 0., 0., 0., 0., 0., 0.,\n",
              "        0., 0., 0., 0., 0., 0., 0., 0., 0., 0., 0., 0., 0., 0., 0., 0., 0.,\n",
              "        0., 0., 0., 0., 0., 0., 0., 0., 0., 0., 0., 0., 0., 0., 0.],\n",
              "       dtype=float32),\n",
              " array([[ 2.14377880e-01,  6.15965724e-02, -1.21660039e-01,\n",
              "          2.14590430e-01,  3.68320942e-02,  1.23386651e-01,\n",
              "          1.32778794e-01, -2.86293626e-02,  3.68164778e-02,\n",
              "         -1.85213134e-01],\n",
              "        [-5.08562922e-02,  1.35052204e-03,  1.94931984e-01,\n",
              "         -1.95346147e-01, -5.32974750e-02, -5.32709211e-02,\n",
              "          2.44390368e-02,  1.10365897e-01,  2.02806592e-02,\n",
              "          5.18989563e-03],\n",
              "        [ 2.21372515e-01, -4.73390520e-03,  5.61072230e-02,\n",
              "         -1.07856557e-01,  1.72045499e-01,  9.58575010e-02,\n",
              "         -7.65809268e-02,  1.10842526e-01, -1.27526537e-01,\n",
              "         -2.02168643e-01],\n",
              "        [ 2.15853214e-01,  1.10114872e-01,  4.00651693e-02,\n",
              "          1.98357850e-01,  2.09114343e-01,  5.64783514e-02,\n",
              "         -4.29898500e-05, -1.51807040e-01, -9.13890451e-02,\n",
              "          1.11732125e-01],\n",
              "        [ 6.08547628e-02, -6.88983500e-03, -7.75756389e-02,\n",
              "          1.95839763e-01,  6.12458289e-02, -1.05328172e-01,\n",
              "         -4.31421399e-02,  2.03303099e-02, -1.05584919e-01,\n",
              "          8.13962519e-02],\n",
              "        [-9.69142020e-02, -8.49672258e-02,  1.41946107e-01,\n",
              "         -2.59078294e-02,  7.12302327e-02, -6.24310374e-02,\n",
              "          1.73565447e-01, -7.55863190e-02, -6.07938021e-02,\n",
              "          5.45576215e-04],\n",
              "        [-5.45025617e-02,  3.57451141e-02,  6.78792596e-03,\n",
              "         -1.99303508e-01, -1.80770054e-01, -9.33080912e-02,\n",
              "         -1.05189696e-01, -1.57295614e-01, -1.37222826e-01,\n",
              "          1.76230192e-01],\n",
              "        [ 1.52498186e-01,  1.34384066e-01, -2.06822440e-01,\n",
              "         -3.04523557e-02,  1.04489714e-01, -3.94834578e-02,\n",
              "          1.35132879e-01,  1.58644527e-01, -1.88168764e-01,\n",
              "          2.29959548e-01],\n",
              "        [ 2.33309686e-01,  2.10439026e-01, -1.12133421e-01,\n",
              "         -3.57161462e-02,  8.76159966e-02, -1.09899640e-02,\n",
              "          3.72812152e-03, -1.21491104e-02,  3.03543508e-02,\n",
              "          9.06512141e-04],\n",
              "        [-1.24742515e-01, -1.70922309e-01,  5.65892160e-02,\n",
              "         -8.42455029e-03,  1.65206760e-01, -4.45626080e-02,\n",
              "          1.29594147e-01, -1.29664138e-01,  1.19951814e-01,\n",
              "         -9.63909924e-03],\n",
              "        [-8.11841488e-02, -1.62715375e-01,  7.79941678e-04,\n",
              "         -1.82961717e-01,  2.03074932e-01,  1.34490430e-01,\n",
              "         -4.86167371e-02, -2.09683403e-01,  8.11178982e-02,\n",
              "          3.22797596e-02],\n",
              "        [ 5.49869537e-02, -1.17298983e-01, -5.44649214e-02,\n",
              "          1.61071241e-01,  3.66785526e-02, -1.40881896e-01,\n",
              "          2.04719305e-02, -1.39999926e-01, -9.52745229e-02,\n",
              "         -7.81689435e-02],\n",
              "        [ 2.14615256e-01, -1.72384486e-01,  1.65376544e-01,\n",
              "         -1.49342418e-01, -1.13548204e-01,  4.97181416e-02,\n",
              "         -1.41014963e-01,  3.31581533e-02, -1.34438962e-01,\n",
              "         -7.43876398e-02],\n",
              "        [-1.21587209e-01, -3.57084572e-02,  5.33880591e-02,\n",
              "         -8.46189857e-02, -1.20093971e-02, -5.44235408e-02,\n",
              "          1.93630457e-01,  1.01363689e-01,  1.70567572e-01,\n",
              "          2.00518280e-01],\n",
              "        [-4.58368510e-02, -1.09244496e-01, -1.62285775e-01,\n",
              "         -1.81619555e-01, -1.76156029e-01,  1.21530592e-01,\n",
              "          1.19017661e-02,  7.40652978e-02, -1.96167856e-01,\n",
              "          4.32611406e-02],\n",
              "        [-4.43659276e-02,  1.75993204e-01, -8.76439959e-02,\n",
              "          8.36404264e-02,  1.70811236e-01, -1.42526925e-01,\n",
              "          1.14039838e-01,  2.85075307e-02, -6.54089451e-02,\n",
              "         -1.72579587e-01],\n",
              "        [ 5.61259985e-02,  1.18916184e-01, -2.06391722e-01,\n",
              "         -1.13501318e-01, -1.00619376e-01,  1.49434566e-01,\n",
              "         -3.96059453e-03,  2.62739360e-02,  1.51591152e-01,\n",
              "         -4.50781137e-02],\n",
              "        [-1.50968581e-01, -2.39142179e-02, -2.16874927e-01,\n",
              "         -1.48502439e-01, -1.40159801e-01, -8.49638283e-02,\n",
              "          1.06382012e-01,  1.96178555e-02,  2.05285102e-01,\n",
              "         -1.85087010e-01],\n",
              "        [ 1.49037510e-01,  1.06516391e-01, -2.07345903e-01,\n",
              "         -5.04792184e-02, -1.05475008e-01, -1.21334799e-01,\n",
              "          1.34329379e-01, -1.78701892e-01,  1.28120661e-01,\n",
              "         -1.79225370e-01],\n",
              "        [-1.62143230e-01,  5.16373515e-02,  1.80641890e-01,\n",
              "          5.63308895e-02,  1.93079859e-01, -2.31384918e-01,\n",
              "          2.22149521e-01,  1.63068116e-01,  1.25573188e-01,\n",
              "         -1.02919683e-01],\n",
              "        [ 3.09961140e-02, -5.21626621e-02, -3.00586224e-03,\n",
              "          9.94686484e-02, -1.69050261e-01, -7.28623569e-03,\n",
              "         -3.24834436e-02,  4.50421572e-02,  1.93015665e-01,\n",
              "         -1.47959828e-01],\n",
              "        [ 1.57347679e-01, -7.89290071e-02, -1.21177666e-01,\n",
              "         -1.38132066e-01,  1.09414816e-01,  1.35475963e-01,\n",
              "         -1.37004167e-01,  7.07976222e-02, -1.64890766e-01,\n",
              "         -9.11070108e-02],\n",
              "        [-5.97451329e-02, -2.13235676e-01, -1.79887429e-01,\n",
              "          4.87233698e-02,  1.93630338e-01,  1.73393190e-02,\n",
              "         -1.20508969e-01, -2.55994499e-02, -1.36131048e-02,\n",
              "          1.63113713e-01],\n",
              "        [ 1.83089972e-01, -5.05084991e-02, -1.34945184e-01,\n",
              "         -1.71733052e-01,  5.22866845e-04,  2.10576385e-01,\n",
              "          1.78025842e-01,  1.91935539e-01, -2.27075085e-01,\n",
              "         -1.05642229e-01],\n",
              "        [-1.46270633e-01,  2.31903940e-01,  3.02851498e-02,\n",
              "         -3.64228636e-02, -1.01845115e-01, -1.92683846e-01,\n",
              "          1.36062890e-01, -9.47794914e-02, -2.87924111e-02,\n",
              "         -1.00369692e-01],\n",
              "        [ 2.14356780e-01, -2.03729495e-01,  6.42576516e-02,\n",
              "          1.60024017e-01,  8.27057958e-02, -1.87652767e-01,\n",
              "          9.48378444e-02,  1.44819051e-01, -1.66452050e-01,\n",
              "          1.53249949e-01],\n",
              "        [-1.38217151e-01, -2.31662884e-01,  4.61300611e-02,\n",
              "         -2.10310444e-01, -2.08229482e-01, -1.29057139e-01,\n",
              "          1.81431890e-01,  1.72890037e-01,  3.65125239e-02,\n",
              "         -1.56167373e-01],\n",
              "        [-1.77276805e-01,  1.56515718e-01, -6.28038347e-02,\n",
              "         -1.33294359e-01, -5.26389182e-02, -9.07642841e-02,\n",
              "          1.55716568e-01,  1.19011164e-01,  2.24749446e-01,\n",
              "         -1.55655771e-01],\n",
              "        [-9.38995481e-02, -4.05031145e-02,  1.52859092e-01,\n",
              "          1.91940695e-01, -2.30210900e-01, -2.16300994e-01,\n",
              "         -1.32049978e-01,  2.30211169e-01,  6.97075129e-02,\n",
              "          1.09595567e-01],\n",
              "        [-3.79597098e-02,  2.73106396e-02, -3.02782953e-02,\n",
              "         -1.11100338e-01,  1.02034390e-01,  1.35625064e-01,\n",
              "         -1.69852927e-01, -1.05198428e-01, -1.72624260e-01,\n",
              "         -1.67557582e-01],\n",
              "        [-3.63430232e-02, -1.98047355e-01, -2.03764737e-01,\n",
              "         -9.62777436e-02, -1.21276721e-01,  1.10741585e-01,\n",
              "         -1.28098786e-01,  1.51321650e-01, -1.03147417e-01,\n",
              "         -1.87752426e-01],\n",
              "        [ 1.83816731e-01,  7.43531287e-02,  6.22125268e-02,\n",
              "         -1.04681551e-02, -1.80005252e-01,  1.12777621e-01,\n",
              "          1.66028589e-01,  1.24013513e-01,  1.83647722e-01,\n",
              "         -4.92460728e-02],\n",
              "        [ 1.13825053e-01,  1.53650075e-01,  1.76288009e-01,\n",
              "          4.41474319e-02, -5.25798351e-02, -1.15083426e-01,\n",
              "         -1.53508812e-01, -8.04578215e-02,  1.53519779e-01,\n",
              "          6.93175793e-02],\n",
              "        [ 1.32367462e-01,  1.08402818e-02,  1.46150142e-02,\n",
              "         -1.78071514e-01,  1.98513925e-01,  8.06848407e-02,\n",
              "          2.28216022e-01,  4.45033014e-02,  1.32834762e-02,\n",
              "         -1.65984094e-01],\n",
              "        [ 1.63978487e-02, -1.98210344e-01,  1.20544434e-01,\n",
              "         -1.42189980e-01,  8.57899785e-02,  4.97041047e-02,\n",
              "         -4.56079841e-03, -7.94135481e-02,  8.26929808e-02,\n",
              "          9.95266736e-02],\n",
              "        [-1.35218024e-01,  1.58878118e-01,  1.62513405e-01,\n",
              "         -1.26419008e-01, -1.08754933e-01,  3.20374072e-02,\n",
              "         -9.06501710e-03, -1.29244849e-01, -2.03335643e-01,\n",
              "         -1.63411170e-01],\n",
              "        [ 1.92177981e-01, -2.12348983e-01,  1.21596575e-01,\n",
              "          3.64169776e-02, -1.04220092e-01,  1.71003103e-01,\n",
              "         -1.29054695e-01,  1.71616048e-01, -5.94200194e-03,\n",
              "         -2.23280489e-02],\n",
              "        [-2.02533871e-01, -1.00588530e-01, -2.05793366e-01,\n",
              "          7.64122605e-02,  1.30857974e-02, -4.60908711e-02,\n",
              "          2.25685924e-01, -3.65873575e-02, -9.69958901e-02,\n",
              "          1.78654611e-01],\n",
              "        [ 1.13399804e-01, -4.85240817e-02,  1.37984902e-01,\n",
              "         -1.01067722e-02, -1.23489551e-01,  1.41314983e-01,\n",
              "          3.61745656e-02,  5.60968518e-02,  1.50530845e-01,\n",
              "          2.71340609e-02],\n",
              "        [-5.88699728e-02, -2.03721583e-01, -1.20489299e-02,\n",
              "         -1.46634400e-01, -1.87121764e-01,  7.19557703e-02,\n",
              "          4.85141277e-02, -9.83074307e-02,  4.52498496e-02,\n",
              "         -1.37291983e-01],\n",
              "        [ 5.41692972e-02, -6.38046116e-02, -1.26274794e-01,\n",
              "         -1.11009523e-01, -1.49780571e-01, -1.73041478e-01,\n",
              "          6.40821457e-02,  1.95203692e-01, -1.48252711e-01,\n",
              "         -8.37452710e-02],\n",
              "        [-8.47727209e-02,  1.77365780e-01, -1.76517904e-01,\n",
              "          1.45282269e-01,  4.36465740e-02,  7.55567551e-02,\n",
              "          1.29821151e-01,  6.79565370e-02, -3.74628454e-02,\n",
              "          1.77426338e-02],\n",
              "        [ 2.18730718e-01,  2.20719963e-01, -2.27237225e-01,\n",
              "         -1.24871366e-01,  7.34913647e-02, -1.04536593e-01,\n",
              "          7.62272179e-02, -2.01158971e-02, -6.90056980e-02,\n",
              "         -6.06477410e-02],\n",
              "        [ 1.51251256e-01, -4.81787473e-02,  1.18278056e-01,\n",
              "         -1.87307581e-01, -1.99974537e-01, -9.20705944e-02,\n",
              "          7.40171969e-03,  1.13954842e-01,  1.25783086e-02,\n",
              "         -1.46805078e-01],\n",
              "        [ 2.24497765e-01, -1.64418370e-02, -1.80798784e-01,\n",
              "          1.29118413e-02, -1.07168987e-01, -1.05043530e-01,\n",
              "          9.94041562e-04,  1.17938429e-01,  1.12329543e-01,\n",
              "          2.08569646e-01],\n",
              "        [ 2.07069725e-01,  9.82779264e-02, -8.94366354e-02,\n",
              "         -5.50349951e-02, -1.07506469e-01,  1.52030259e-01,\n",
              "          1.41188502e-03, -2.04170436e-01,  1.40104294e-01,\n",
              "         -2.19364315e-02],\n",
              "        [-7.74850994e-02,  7.38680363e-04,  3.36338282e-02,\n",
              "         -2.03575477e-01,  1.28593862e-01,  1.80824518e-01,\n",
              "          2.17480183e-01, -1.94538742e-01,  1.18794620e-01,\n",
              "         -4.28919643e-02],\n",
              "        [ 3.16654146e-02, -1.69483751e-01, -4.20607328e-02,\n",
              "         -1.18739158e-02, -2.03531370e-01,  6.14001155e-02,\n",
              "          2.05392569e-01, -2.32830152e-01,  9.01160836e-02,\n",
              "         -9.58249420e-02],\n",
              "        [-6.94180876e-02,  1.61708057e-01, -4.75239754e-03,\n",
              "          2.48073637e-02,  2.13880688e-01, -1.94615647e-01,\n",
              "         -3.39431614e-02,  1.41271681e-01, -2.34563500e-02,\n",
              "          1.47826463e-01],\n",
              "        [ 1.04165077e-01,  7.41922557e-02, -2.26864770e-01,\n",
              "         -2.28951141e-01,  1.53797567e-02, -8.72661322e-02,\n",
              "          9.41898227e-02, -5.20415604e-02,  1.93740189e-01,\n",
              "          1.31882817e-01],\n",
              "        [ 5.99500835e-02, -2.14121804e-01, -4.37646806e-02,\n",
              "         -7.32844621e-02,  1.19415373e-01,  1.10568851e-01,\n",
              "          1.50468588e-01, -2.45420635e-03, -1.25557184e-04,\n",
              "         -4.42275405e-03],\n",
              "        [ 1.32963955e-01, -3.44942957e-02,  1.65523320e-01,\n",
              "         -1.01685971e-01,  1.97749794e-01,  1.37985557e-01,\n",
              "          2.30464697e-01,  2.15769410e-02,  1.46662086e-01,\n",
              "         -1.42017707e-01],\n",
              "        [ 1.60714686e-01,  1.43387675e-01,  9.25635993e-02,\n",
              "          1.44550383e-01,  1.82401389e-01,  3.01008821e-02,\n",
              "         -1.85684100e-01,  8.22896659e-02, -4.30178046e-02,\n",
              "         -4.28636223e-02],\n",
              "        [-2.29431227e-01,  1.81235939e-01,  2.30035514e-01,\n",
              "          2.04158515e-01,  2.28889108e-01,  5.58546484e-02,\n",
              "          1.36644274e-01, -5.39407730e-02,  1.93047523e-02,\n",
              "          7.49092698e-02],\n",
              "        [-1.09403640e-01, -1.10295892e-01, -1.93735138e-01,\n",
              "         -7.11529255e-02, -8.47935528e-02,  2.19406694e-01,\n",
              "         -2.27207378e-01, -1.35217860e-01,  1.37309968e-01,\n",
              "          6.40625358e-02],\n",
              "        [-9.81900543e-02,  1.62319034e-01, -2.40375102e-02,\n",
              "         -5.52902371e-02,  3.50967944e-02,  1.48425758e-01,\n",
              "         -1.16211943e-01,  7.64595270e-02,  2.80165672e-02,\n",
              "          1.08068466e-01],\n",
              "        [-9.45345461e-02, -6.58556819e-04, -5.72438091e-02,\n",
              "          2.20185429e-01, -1.65469542e-01, -1.84453741e-01,\n",
              "         -1.72362328e-01, -1.23027109e-01,  2.01842517e-01,\n",
              "          2.16918647e-01],\n",
              "        [-2.14261174e-01, -4.90911007e-02,  2.09697813e-01,\n",
              "          1.19570553e-01,  6.79248869e-02, -9.08019841e-02,\n",
              "          1.74669236e-01, -1.93444133e-01,  7.02648461e-02,\n",
              "         -4.53633815e-02],\n",
              "        [-9.50303525e-02, -8.28148723e-02,  1.65698439e-01,\n",
              "         -1.63905084e-01,  1.43906891e-01,  9.17460918e-02,\n",
              "          9.69667137e-02, -1.38096705e-01, -1.97166860e-01,\n",
              "          2.31104434e-01],\n",
              "        [-1.01544425e-01, -1.74216151e-01,  1.02893800e-01,\n",
              "         -1.85219198e-01,  1.82283282e-01,  1.58029467e-01,\n",
              "          1.87923372e-01, -2.17240751e-01,  1.23264134e-01,\n",
              "          2.20372558e-01],\n",
              "        [ 8.74450505e-02,  1.86639071e-01, -1.97631523e-01,\n",
              "         -7.21473992e-03,  8.62807035e-04,  4.90709543e-02,\n",
              "         -3.67283970e-02,  4.35609818e-02, -2.05203846e-01,\n",
              "         -1.71553761e-01],\n",
              "        [-1.76198289e-01,  6.60356879e-03,  9.21881199e-03,\n",
              "         -5.49327582e-02,  2.29965001e-01,  1.29739344e-02,\n",
              "          2.78232098e-02,  1.85567677e-01,  2.24596828e-01,\n",
              "          5.54980040e-02],\n",
              "        [ 9.20718312e-02, -5.74761629e-03, -1.73837468e-01,\n",
              "          6.04110956e-03,  7.42199719e-02,  6.69071078e-03,\n",
              "          7.37555325e-02, -1.26810521e-01,  5.32386303e-02,\n",
              "          6.99820518e-02],\n",
              "        [ 8.12682807e-02,  1.46924913e-01,  1.54721200e-01,\n",
              "          2.31307119e-01,  2.30087280e-01,  4.52430546e-02,\n",
              "         -1.98276192e-02,  7.77345896e-03,  2.05830634e-02,\n",
              "          2.21814573e-01],\n",
              "        [-1.08335420e-01,  1.04557574e-01,  3.34243178e-02,\n",
              "         -8.02300870e-02,  1.46673322e-01,  4.18184698e-02,\n",
              "          4.76624966e-02,  5.64386547e-02, -1.20248541e-01,\n",
              "          7.09969699e-02],\n",
              "        [ 1.57674104e-01, -1.87923759e-02,  1.95891559e-01,\n",
              "         -2.84232199e-03, -2.14104101e-01,  6.61101043e-02,\n",
              "         -6.30826950e-02, -4.99966741e-02, -5.79774231e-02,\n",
              "         -6.60402626e-02],\n",
              "        [ 7.21201301e-03, -2.05135360e-01, -1.12142555e-01,\n",
              "         -1.29004240e-01, -1.53988570e-01, -1.30776003e-01,\n",
              "         -2.20467120e-01, -3.04548144e-02, -1.84309021e-01,\n",
              "         -1.21631645e-01],\n",
              "        [-1.94621772e-01,  2.51912475e-02, -2.32142970e-01,\n",
              "          2.09020674e-01, -3.51764262e-03,  1.06050223e-02,\n",
              "          3.10512781e-02, -1.88746199e-01, -3.67824137e-02,\n",
              "          6.89443946e-02],\n",
              "        [ 1.83463097e-03, -2.56839246e-02,  1.42893314e-01,\n",
              "         -2.16360807e-01,  7.57220089e-02,  2.21457720e-01,\n",
              "         -6.20537996e-03,  2.13890433e-01,  1.06389701e-01,\n",
              "         -2.38631666e-02],\n",
              "        [ 5.42304516e-02, -1.14498541e-01, -1.97253823e-01,\n",
              "         -1.50445491e-01,  1.22347951e-01,  6.95761740e-02,\n",
              "         -1.54925048e-01, -1.20292813e-01, -6.78898394e-03,\n",
              "          7.56727457e-02],\n",
              "        [ 1.18995011e-01,  1.80442989e-01,  1.16401613e-01,\n",
              "         -1.30529225e-01,  1.12725228e-01, -7.19311535e-02,\n",
              "          9.28598940e-02,  1.01544648e-01, -6.03538454e-02,\n",
              "         -9.95193124e-02],\n",
              "        [-2.30525061e-01,  7.57702887e-02,  2.12659925e-01,\n",
              "         -9.24440622e-02, -1.43718541e-01,  1.59232020e-01,\n",
              "          1.32791817e-01, -8.34231079e-03, -3.52298766e-02,\n",
              "         -1.90351471e-01],\n",
              "        [-2.05624983e-01,  1.86440259e-01, -1.67850524e-01,\n",
              "          9.99295712e-02,  1.41962767e-02, -1.42898157e-01,\n",
              "         -1.20719120e-01, -1.65876627e-01,  1.81676835e-01,\n",
              "         -1.67338580e-01],\n",
              "        [ 1.02847517e-01, -1.43472522e-01,  1.65917784e-01,\n",
              "         -2.23428100e-01, -1.75934583e-01, -1.06487870e-02,\n",
              "          4.29232121e-02,  2.16744542e-02,  6.62838221e-02,\n",
              "          1.83904320e-01],\n",
              "        [-5.29711694e-02,  1.40482426e-01,  2.33940780e-02,\n",
              "          3.56096923e-02, -9.25979614e-02, -4.48764861e-02,\n",
              "         -5.65958023e-03, -2.01508090e-01, -3.16638499e-02,\n",
              "          4.62528467e-02],\n",
              "        [ 5.79528809e-02,  1.67528838e-01,  4.27275896e-02,\n",
              "          3.39168608e-02,  1.98295146e-01,  2.15946853e-01,\n",
              "         -1.51374161e-01,  1.91272974e-01,  6.77373111e-02,\n",
              "          7.94782043e-02],\n",
              "        [ 2.58647203e-02, -1.18585415e-01, -1.78381443e-01,\n",
              "          1.57021165e-01, -4.82797474e-02,  1.93407595e-01,\n",
              "         -2.12339014e-01, -2.21162260e-01,  1.09848589e-01,\n",
              "         -4.46562022e-02],\n",
              "        [-1.35152996e-01,  8.86456668e-02,  1.67497337e-01,\n",
              "          3.80427241e-02, -1.42473429e-02, -1.69546455e-01,\n",
              "         -2.13994071e-01, -7.75939077e-02, -1.59336209e-01,\n",
              "          2.05337703e-01],\n",
              "        [ 8.33849907e-02, -6.41373098e-02,  1.17697239e-01,\n",
              "         -2.31798410e-01, -6.72215670e-02,  1.60694480e-01,\n",
              "          4.55907285e-02, -6.98790848e-02,  2.22810626e-01,\n",
              "          1.44425303e-01],\n",
              "        [ 1.83657318e-01, -5.01468480e-02, -1.02448598e-01,\n",
              "          1.82720900e-01,  8.63809586e-02,  7.59682953e-02,\n",
              "          1.06400341e-01, -3.36779654e-03,  3.29916477e-02,\n",
              "          1.39090180e-01],\n",
              "        [ 3.73849571e-02,  1.28800005e-01,  1.83021188e-01,\n",
              "         -2.10053414e-01,  2.15482026e-01, -1.21756986e-01,\n",
              "          5.25552332e-02,  1.30141437e-01,  1.77834630e-02,\n",
              "          7.85708427e-03],\n",
              "        [ 4.61889803e-02,  7.26707280e-03,  4.46017087e-02,\n",
              "          1.57754153e-01,  2.28733301e-01,  1.86190099e-01,\n",
              "          2.18490273e-01, -7.48932362e-05,  5.82157075e-02,\n",
              "          2.31281400e-01],\n",
              "        [ 2.31153965e-02, -8.74475986e-02, -2.12070122e-01,\n",
              "         -1.33809373e-01,  5.78955114e-02,  2.93884873e-02,\n",
              "         -2.29588479e-01, -2.29499444e-01, -1.81762487e-01,\n",
              "         -1.52953327e-01],\n",
              "        [-2.24685684e-01, -1.89765126e-01,  2.71057785e-02,\n",
              "         -1.93529665e-01,  1.60924226e-01, -2.08508223e-01,\n",
              "          9.07016397e-02, -1.18846744e-02, -1.89680159e-01,\n",
              "         -1.14511847e-02],\n",
              "        [ 1.12142831e-01,  2.19082355e-01, -1.73037529e-01,\n",
              "          2.19180971e-01, -3.56646329e-02,  8.44821334e-03,\n",
              "          9.81187224e-02,  5.58318198e-02,  1.05718404e-01,\n",
              "         -1.80314854e-01],\n",
              "        [ 2.00440943e-01, -2.17843071e-01,  1.71146274e-01,\n",
              "         -6.11766130e-02,  7.45354891e-02,  7.73954988e-02,\n",
              "          5.56730032e-02, -1.22367993e-01,  1.90148443e-01,\n",
              "         -8.06397945e-02],\n",
              "        [-9.25474614e-02, -3.95766795e-02,  4.08853889e-02,\n",
              "         -1.34281605e-01, -2.28582323e-03, -1.42738849e-01,\n",
              "          3.83524597e-03, -2.20237762e-01, -1.30419746e-01,\n",
              "         -1.12115711e-01],\n",
              "        [-7.00333714e-02,  1.79633975e-01, -1.23634323e-01,\n",
              "         -2.00083390e-01,  1.37028813e-01,  2.78538764e-02,\n",
              "         -1.53070644e-01, -1.00152582e-01,  1.74501747e-01,\n",
              "         -2.19275117e-01],\n",
              "        [-8.89794827e-02,  7.90135562e-03,  8.64839554e-03,\n",
              "          1.64770007e-01, -2.21242890e-01, -1.33460239e-01,\n",
              "          1.46943986e-01, -2.15463042e-01,  1.65616214e-01,\n",
              "         -1.02688208e-01],\n",
              "        [-1.69479400e-02, -1.07724085e-01,  2.28661358e-01,\n",
              "          2.10085779e-01,  8.25193524e-02,  1.51445538e-01,\n",
              "         -1.30135715e-02, -1.86956942e-01,  3.22864950e-03,\n",
              "          1.24636263e-01],\n",
              "        [ 2.08374411e-01, -1.06928930e-01,  1.29484445e-01,\n",
              "          1.87607706e-01,  1.79453194e-03, -2.27355942e-01,\n",
              "         -4.93840426e-02, -2.19496518e-01, -1.07220322e-01,\n",
              "         -1.96705073e-01],\n",
              "        [-1.50881201e-01,  2.33282030e-01, -4.60946560e-03,\n",
              "         -2.79329419e-02, -7.24746734e-02, -1.40441775e-01,\n",
              "          1.12669379e-01,  2.00021654e-01,  2.20628053e-01,\n",
              "         -2.11564898e-02],\n",
              "        [-1.75799876e-01,  1.90872937e-01, -3.06519270e-02,\n",
              "          1.74998045e-02, -1.83619723e-01, -2.32762054e-01,\n",
              "          5.42528927e-02,  2.22907394e-01, -7.27118701e-02,\n",
              "          2.22774893e-01],\n",
              "        [-5.62723726e-02,  1.22712821e-01,  1.03082508e-01,\n",
              "          4.66550589e-02, -1.30521536e-01,  8.90904665e-03,\n",
              "          9.32647586e-02,  1.22220278e-01,  4.41662669e-02,\n",
              "         -1.50535256e-01],\n",
              "        [-1.02496266e-01,  1.55588657e-01, -1.69395953e-02,\n",
              "          3.88945639e-02,  2.01104224e-01, -2.18204230e-01,\n",
              "         -1.16735697e-01, -2.13418543e-01, -1.68757588e-01,\n",
              "         -1.31026074e-01],\n",
              "        [ 1.25989586e-01, -1.71138525e-01, -4.16061878e-02,\n",
              "          1.79600328e-01,  1.12054527e-01,  1.18611753e-01,\n",
              "          6.24924898e-04, -7.56947398e-02,  3.43208015e-02,\n",
              "         -1.14800394e-01],\n",
              "        [ 1.21627748e-01, -1.82811052e-01,  1.82891220e-01,\n",
              "         -8.33434612e-02,  4.46309745e-02, -2.03846365e-01,\n",
              "         -1.62054628e-01, -1.07280523e-01,  1.57549739e-01,\n",
              "          2.10098416e-01],\n",
              "        [ 3.36039960e-02, -1.12588458e-01, -1.55252725e-01,\n",
              "         -7.69715458e-02,  1.79088324e-01, -9.01083350e-02,\n",
              "          4.74244654e-02,  6.25237823e-03, -7.08588958e-03,\n",
              "          2.05249488e-02],\n",
              "        [-6.12419844e-03, -2.28882253e-01, -1.22656256e-01,\n",
              "          1.33669376e-01,  1.43902838e-01,  1.88606203e-01,\n",
              "         -3.48424315e-02, -1.99876308e-01, -2.32715666e-01,\n",
              "         -5.17129898e-04],\n",
              "        [ 3.77587080e-02,  1.83215976e-01, -1.67677253e-01,\n",
              "         -1.73807845e-01,  2.30565101e-01, -9.11613554e-02,\n",
              "         -2.28659034e-01, -3.41755748e-02,  9.46266353e-02,\n",
              "          9.36416686e-02]], dtype=float32),\n",
              " array([0., 0., 0., 0., 0., 0., 0., 0., 0., 0.], dtype=float32)]"
            ]
          },
          "metadata": {},
          "execution_count": 31
        }
      ]
    },
    {
      "cell_type": "code",
      "source": [
        "len(best_weights)"
      ],
      "metadata": {
        "colab": {
          "base_uri": "https://localhost:8080/"
        },
        "id": "wk4Qmotj9Sin",
        "outputId": "d4c78248-ed02-479b-9c6d-c66b852d25d4"
      },
      "execution_count": null,
      "outputs": [
        {
          "output_type": "execute_result",
          "data": {
            "text/plain": [
              "8"
            ]
          },
          "metadata": {},
          "execution_count": 32
        }
      ]
    },
    {
      "cell_type": "markdown",
      "metadata": {
        "id": "6raIvOpOBfGa"
      },
      "source": [
        "There are **weights matrices and bias vectors between each layer** and we have 5 layers. The last 4 layers are composed of neurons.\n",
        "\n",
        "- Input\n",
        "- Hidden 1\n",
        "- Hidden 2\n",
        "- Hidden 3\n",
        "- Output\n",
        "\n",
        "So we should have a weight matrix and a bias vector from each neuron layer, <br>which accounts for $4 + 4 = 8$ elements in the list.\n",
        "\n",
        "\n",
        "#### Index for Weight Matrices\n",
        "If you index for a weight matrix, you can see its shape and that they are indeed matrices.\n",
        "\n",
        "Notice how you can see the dims of the layers that the matrices are sandwiched between?\n",
        "\n",
        "The input layer has 784 dims and hidden layer 1 has 500 neurons. <br>\n",
        "So the first weight matrix should have a column of weights for each neuron; and each column has 784 weights.\n",
        "Given this understanding, the numbers you see in the shapes of the weight and bias arrays should make sense."
      ]
    },
    {
      "cell_type": "code",
      "source": [
        "# bewteen input and 1st hidden layer\n",
        "best_weights[0].shape"
      ],
      "metadata": {
        "colab": {
          "base_uri": "https://localhost:8080/"
        },
        "id": "4Fycbwwg9W_n",
        "outputId": "428dbdbc-d336-4425-f45b-91485ce1cebb"
      },
      "execution_count": null,
      "outputs": [
        {
          "output_type": "execute_result",
          "data": {
            "text/plain": [
              "(784, 500)"
            ]
          },
          "metadata": {},
          "execution_count": 33
        }
      ]
    },
    {
      "cell_type": "code",
      "source": [
        "# bewteen 1st and 2nd hidden layer\n",
        "best_weights[2].shape"
      ],
      "metadata": {
        "colab": {
          "base_uri": "https://localhost:8080/"
        },
        "id": "CJTorLpV9Y8z",
        "outputId": "cec2c6a9-ae99-4f1a-af9a-8ecf78f84ab9"
      },
      "execution_count": null,
      "outputs": [
        {
          "output_type": "execute_result",
          "data": {
            "text/plain": [
              "(500, 250)"
            ]
          },
          "metadata": {},
          "execution_count": 34
        }
      ]
    },
    {
      "cell_type": "code",
      "execution_count": null,
      "metadata": {
        "id": "aCQ-QZI4BfGb",
        "colab": {
          "base_uri": "https://localhost:8080/"
        },
        "outputId": "dfefdb72-27e3-4e6b-a42d-40cac2ebe628"
      },
      "outputs": [
        {
          "output_type": "execute_result",
          "data": {
            "text/plain": [
              "(250, 100)"
            ]
          },
          "metadata": {},
          "execution_count": 30
        }
      ],
      "source": [
        "# bewteen 2nd and 3rd hidden layer\n",
        "best_weights[4].shape"
      ]
    },
    {
      "cell_type": "code",
      "execution_count": null,
      "metadata": {
        "id": "LiD6Ij2BBfGb",
        "colab": {
          "base_uri": "https://localhost:8080/"
        },
        "outputId": "02ad63be-cb69-4997-dc2a-f55b56a22d59"
      },
      "outputs": [
        {
          "output_type": "execute_result",
          "data": {
            "text/plain": [
              "(100, 10)"
            ]
          },
          "metadata": {},
          "execution_count": 22
        }
      ],
      "source": [
        "# bewteen 3rd hidden layer and output layer\n",
        "best_weights[6].shape"
      ]
    },
    {
      "cell_type": "markdown",
      "metadata": {
        "id": "v9rAIBBuBfGb"
      },
      "source": [
        "#### Index for the bias vectors\n",
        "\n",
        "The shapes of the bias vectors should exactly match up the dims/nodes of each layer (excluding the input layer)."
      ]
    },
    {
      "cell_type": "code",
      "execution_count": null,
      "metadata": {
        "id": "j5c97T5NBfGb",
        "colab": {
          "base_uri": "https://localhost:8080/"
        },
        "outputId": "8e12d067-bf93-42ef-ffc4-4c42551916ac"
      },
      "outputs": [
        {
          "data": {
            "text/plain": [
              "(500,)"
            ]
          },
          "execution_count": 23,
          "metadata": {},
          "output_type": "execute_result"
        }
      ],
      "source": [
        "# for hidden layer 1\n",
        "best_weights[1].shape"
      ]
    },
    {
      "cell_type": "code",
      "execution_count": null,
      "metadata": {
        "id": "YWABwgJgBfGc",
        "colab": {
          "base_uri": "https://localhost:8080/"
        },
        "outputId": "91352e2b-ed4a-40b4-aa08-12d88fa819e2"
      },
      "outputs": [
        {
          "output_type": "execute_result",
          "data": {
            "text/plain": [
              "(250,)"
            ]
          },
          "metadata": {},
          "execution_count": 24
        }
      ],
      "source": [
        "# for hidden layer 2\n",
        "best_weights[3].shape"
      ]
    },
    {
      "cell_type": "code",
      "execution_count": null,
      "metadata": {
        "id": "juFKoCftBfGc",
        "colab": {
          "base_uri": "https://localhost:8080/"
        },
        "outputId": "9e516254-be8b-4140-94fd-36f8e099b983"
      },
      "outputs": [
        {
          "output_type": "execute_result",
          "data": {
            "text/plain": [
              "(100,)"
            ]
          },
          "metadata": {},
          "execution_count": 25
        }
      ],
      "source": [
        "# for hidden layer 3\n",
        "best_weights[5].shape"
      ]
    },
    {
      "cell_type": "code",
      "execution_count": null,
      "metadata": {
        "id": "_uul71OiBfGc",
        "colab": {
          "base_uri": "https://localhost:8080/"
        },
        "outputId": "91b2d699-b41e-4640-f4e7-8a8a0decd785"
      },
      "outputs": [
        {
          "data": {
            "text/plain": [
              "(10,)"
            ]
          },
          "execution_count": 26,
          "metadata": {},
          "output_type": "execute_result"
        }
      ],
      "source": [
        "# for output layer\n",
        "best_weights[7].shape"
      ]
    },
    {
      "cell_type": "markdown",
      "metadata": {
        "id": "7uwdFhiWBfGc"
      },
      "source": [
        "-----\n",
        "\n",
        "### Back to our Analysis of L2 space regularization (also known as Ridge)\n",
        "\n",
        "To gauge the performance effect of L2 regularization, we'll compare the weights for the 1st hidden layer from the best and worst performing models from our hyperparameter search space, as well as with the initial weight values that are randomly sampled from the GlorotUniform distribution.\n",
        "\n",
        "[**Check out the Keras docs for the Dense layer**](https://keras.io/api/layers/core_layers/dense/), you'll see that GlorotUniform is the default weight initializer.\n",
        "\n",
        "Read the docs to figure out how to get the weights from a Keras dense layer.\n",
        "Also have a look at this helpful post on StackOverflow: [**How to view initialized weights (i.e. before training)?**](https://stackoverflow.com/questions/46798708/how-to-view-initialized-weights-i-e-before-training)\n"
      ]
    },
    {
      "cell_type": "markdown",
      "metadata": {
        "id": "UdmuttujBfGd"
      },
      "source": [
        "Before we compare weights, let's take note of the following.\n",
        "\n",
        "Both `best_weights[0]` or `worse_weights[0]` are matrices with shape `(784, 500)`.\n",
        "\n",
        "If we flatten them, then we get `784 * 500 = 392000` weights. What does this mean exactly?\n",
        "\n",
        "Remember that we are working with the Fully Connected Feed-Forward model which looks something like this.\n",
        "\n",
        "![](https://pyimagesearch.com/wp-content/uploads/2016/08/simple_neural_network_header.jpg)\n",
        "\n",
        "In Fully Connected neural network models, the outputs from a layer become the inputs for the next layer. Each output from a layer is passed as an input to all the nodes in next layer.<br>\n",
        "Our input layer has $784$ output weights which are the pixel values in the image. Each neuron (or node) in hidden layer $1$ also has $784$ weights, one for each pixel input.  Hidden layer 1 has $500$ neurons. So the weights are conveniently represented as a **weights matrix** with $784$ rows (one row for each pixel in the input image) and $500$ columns (one column for each neuron in the layer). The $i$th column of the weights matrix holds the $784$ weights $\\textbf{w}_{i}$ belonging to the $i$th neuron in the layer.\n",
        "\n",
        "To keep our analysis simple, we are going to analyze only the weights corresponding to the first neuron in hidden layer $1$, whose weights $\\textbf{w}_{1}$ are the first column of the weight matrix.  <br><br>\n",
        "\n",
        "We will observe the effect of L2 regularization on neuron 1 in hidden layer 1.\n"
      ]
    },
    {
      "cell_type": "code",
      "source": [
        "best_weights[0]"
      ],
      "metadata": {
        "colab": {
          "base_uri": "https://localhost:8080/"
        },
        "id": "Niu3E61-985H",
        "outputId": "f30dc342-d7be-4da8-cfc9-e189d8c9c8f2"
      },
      "execution_count": null,
      "outputs": [
        {
          "output_type": "execute_result",
          "data": {
            "text/plain": [
              "array([[-0.00616247,  0.04949742,  0.02342207, ..., -0.04969692,\n",
              "        -0.0465565 ,  0.05834981],\n",
              "       [ 0.02006269, -0.04516914, -0.00137608, ..., -0.06269598,\n",
              "        -0.06150162, -0.00087963],\n",
              "       [-0.02806978, -0.05283184,  0.02283142, ..., -0.05305799,\n",
              "        -0.02585741,  0.00941773],\n",
              "       ...,\n",
              "       [ 0.0358708 , -0.04704699,  0.00958411, ...,  0.00363888,\n",
              "         0.06238221,  0.05749048],\n",
              "       [-0.03641453,  0.05169223,  0.05107348, ..., -0.06427876,\n",
              "         0.0649324 , -0.00011485],\n",
              "       [-0.00470497,  0.03984357,  0.06018818, ..., -0.06428903,\n",
              "         0.03926063,  0.02844115]], dtype=float32)"
            ]
          },
          "metadata": {},
          "execution_count": 35
        }
      ]
    },
    {
      "cell_type": "code",
      "execution_count": null,
      "metadata": {
        "deletable": false,
        "id": "xomeoSW4BfGd",
        "nbgrader": {
          "cell_type": "code",
          "checksum": "a3f75126a80a74dd71fb0a9ab2b8b89f",
          "grade": false,
          "grade_id": "cell-7882876b8973bc7b",
          "locked": false,
          "schema_version": 3,
          "solution": true,
          "task": false
        }
      },
      "outputs": [],
      "source": [
        "# index for the 1st column (784 entries) in the 1st hidden layer weights in best_weights and save to best_hidden_weights\n",
        "\n",
        "# index for the 1st column (784 entries) in the 1st hidden layer weights in worse_weights and save to worse_hidden_weights\n",
        "\n",
        "# Keras models randomly samples from the GlorotUniform distribution for the initial values of model weights\n",
        "# instantiate GlorotUniform and sample 784 weights and save to initial_weight_values\n",
        "\n",
        "# Build a data frame with these 3 vectors as columns\n",
        "\n",
        "# YOUR CODE HERE\n",
        "best_hidden_weights = best_weights[0][0]\n",
        "worse_hidden_weights = worse_weights[0][0]\n",
        "initializer = GlorotUniform(seed=1235)\n",
        "initial_weight_values = initializer(shape=(1, 784)).numpy().flatten()"
      ]
    },
    {
      "cell_type": "code",
      "execution_count": null,
      "metadata": {
        "id": "zaRHQzP2BfGe"
      },
      "outputs": [],
      "source": [
        "# move all weights to a dataframe for ease of analysis\n",
        "cols = [\"best_hidden_weights\", \"worse_hidden_weights\", \"initial_weight_values\"]\n",
        "data = [best_hidden_weights, worse_hidden_weights, initial_weight_values]\n",
        "df = pd.DataFrame(data=data).T\n",
        "df.columns = cols"
      ]
    },
    {
      "cell_type": "code",
      "execution_count": null,
      "metadata": {
        "id": "GTxYblbIBfGe",
        "colab": {
          "base_uri": "https://localhost:8080/",
          "height": 300
        },
        "outputId": "03d4a120-fd3c-4aaf-a9a3-07548690c6f4"
      },
      "outputs": [
        {
          "output_type": "execute_result",
          "data": {
            "text/plain": [
              "       best_hidden_weights  worse_hidden_weights  initial_weight_values\n",
              "count           500.000000          5.000000e+02             784.000000\n",
              "mean             -0.001766         -5.327560e-08              -0.001834\n",
              "std               0.039307          1.191297e-06               0.050354\n",
              "min              -0.067847         -2.663820e-05              -0.087118\n",
              "25%              -0.036905         -3.251358e-37              -0.046884\n",
              "50%              -0.004792          2.753637e-38               0.000646\n",
              "75%               0.032164          3.035760e-37               0.039177\n",
              "max               0.068187          3.326109e-10               0.086748"
            ],
            "text/html": [
              "\n",
              "  <div id=\"df-8e858e18-916a-4d85-85fd-ce3224302d3a\" class=\"colab-df-container\">\n",
              "    <div>\n",
              "<style scoped>\n",
              "    .dataframe tbody tr th:only-of-type {\n",
              "        vertical-align: middle;\n",
              "    }\n",
              "\n",
              "    .dataframe tbody tr th {\n",
              "        vertical-align: top;\n",
              "    }\n",
              "\n",
              "    .dataframe thead th {\n",
              "        text-align: right;\n",
              "    }\n",
              "</style>\n",
              "<table border=\"1\" class=\"dataframe\">\n",
              "  <thead>\n",
              "    <tr style=\"text-align: right;\">\n",
              "      <th></th>\n",
              "      <th>best_hidden_weights</th>\n",
              "      <th>worse_hidden_weights</th>\n",
              "      <th>initial_weight_values</th>\n",
              "    </tr>\n",
              "  </thead>\n",
              "  <tbody>\n",
              "    <tr>\n",
              "      <th>count</th>\n",
              "      <td>500.000000</td>\n",
              "      <td>5.000000e+02</td>\n",
              "      <td>784.000000</td>\n",
              "    </tr>\n",
              "    <tr>\n",
              "      <th>mean</th>\n",
              "      <td>-0.001766</td>\n",
              "      <td>-5.327560e-08</td>\n",
              "      <td>-0.001834</td>\n",
              "    </tr>\n",
              "    <tr>\n",
              "      <th>std</th>\n",
              "      <td>0.039307</td>\n",
              "      <td>1.191297e-06</td>\n",
              "      <td>0.050354</td>\n",
              "    </tr>\n",
              "    <tr>\n",
              "      <th>min</th>\n",
              "      <td>-0.067847</td>\n",
              "      <td>-2.663820e-05</td>\n",
              "      <td>-0.087118</td>\n",
              "    </tr>\n",
              "    <tr>\n",
              "      <th>25%</th>\n",
              "      <td>-0.036905</td>\n",
              "      <td>-3.251358e-37</td>\n",
              "      <td>-0.046884</td>\n",
              "    </tr>\n",
              "    <tr>\n",
              "      <th>50%</th>\n",
              "      <td>-0.004792</td>\n",
              "      <td>2.753637e-38</td>\n",
              "      <td>0.000646</td>\n",
              "    </tr>\n",
              "    <tr>\n",
              "      <th>75%</th>\n",
              "      <td>0.032164</td>\n",
              "      <td>3.035760e-37</td>\n",
              "      <td>0.039177</td>\n",
              "    </tr>\n",
              "    <tr>\n",
              "      <th>max</th>\n",
              "      <td>0.068187</td>\n",
              "      <td>3.326109e-10</td>\n",
              "      <td>0.086748</td>\n",
              "    </tr>\n",
              "  </tbody>\n",
              "</table>\n",
              "</div>\n",
              "    <div class=\"colab-df-buttons\">\n",
              "\n",
              "  <div class=\"colab-df-container\">\n",
              "    <button class=\"colab-df-convert\" onclick=\"convertToInteractive('df-8e858e18-916a-4d85-85fd-ce3224302d3a')\"\n",
              "            title=\"Convert this dataframe to an interactive table.\"\n",
              "            style=\"display:none;\">\n",
              "\n",
              "  <svg xmlns=\"http://www.w3.org/2000/svg\" height=\"24px\" viewBox=\"0 -960 960 960\">\n",
              "    <path d=\"M120-120v-720h720v720H120Zm60-500h600v-160H180v160Zm220 220h160v-160H400v160Zm0 220h160v-160H400v160ZM180-400h160v-160H180v160Zm440 0h160v-160H620v160ZM180-180h160v-160H180v160Zm440 0h160v-160H620v160Z\"/>\n",
              "  </svg>\n",
              "    </button>\n",
              "\n",
              "  <style>\n",
              "    .colab-df-container {\n",
              "      display:flex;\n",
              "      gap: 12px;\n",
              "    }\n",
              "\n",
              "    .colab-df-convert {\n",
              "      background-color: #E8F0FE;\n",
              "      border: none;\n",
              "      border-radius: 50%;\n",
              "      cursor: pointer;\n",
              "      display: none;\n",
              "      fill: #1967D2;\n",
              "      height: 32px;\n",
              "      padding: 0 0 0 0;\n",
              "      width: 32px;\n",
              "    }\n",
              "\n",
              "    .colab-df-convert:hover {\n",
              "      background-color: #E2EBFA;\n",
              "      box-shadow: 0px 1px 2px rgba(60, 64, 67, 0.3), 0px 1px 3px 1px rgba(60, 64, 67, 0.15);\n",
              "      fill: #174EA6;\n",
              "    }\n",
              "\n",
              "    .colab-df-buttons div {\n",
              "      margin-bottom: 4px;\n",
              "    }\n",
              "\n",
              "    [theme=dark] .colab-df-convert {\n",
              "      background-color: #3B4455;\n",
              "      fill: #D2E3FC;\n",
              "    }\n",
              "\n",
              "    [theme=dark] .colab-df-convert:hover {\n",
              "      background-color: #434B5C;\n",
              "      box-shadow: 0px 1px 3px 1px rgba(0, 0, 0, 0.15);\n",
              "      filter: drop-shadow(0px 1px 2px rgba(0, 0, 0, 0.3));\n",
              "      fill: #FFFFFF;\n",
              "    }\n",
              "  </style>\n",
              "\n",
              "    <script>\n",
              "      const buttonEl =\n",
              "        document.querySelector('#df-8e858e18-916a-4d85-85fd-ce3224302d3a button.colab-df-convert');\n",
              "      buttonEl.style.display =\n",
              "        google.colab.kernel.accessAllowed ? 'block' : 'none';\n",
              "\n",
              "      async function convertToInteractive(key) {\n",
              "        const element = document.querySelector('#df-8e858e18-916a-4d85-85fd-ce3224302d3a');\n",
              "        const dataTable =\n",
              "          await google.colab.kernel.invokeFunction('convertToInteractive',\n",
              "                                                    [key], {});\n",
              "        if (!dataTable) return;\n",
              "\n",
              "        const docLinkHtml = 'Like what you see? Visit the ' +\n",
              "          '<a target=\"_blank\" href=https://colab.research.google.com/notebooks/data_table.ipynb>data table notebook</a>'\n",
              "          + ' to learn more about interactive tables.';\n",
              "        element.innerHTML = '';\n",
              "        dataTable['output_type'] = 'display_data';\n",
              "        await google.colab.output.renderOutput(dataTable, element);\n",
              "        const docLink = document.createElement('div');\n",
              "        docLink.innerHTML = docLinkHtml;\n",
              "        element.appendChild(docLink);\n",
              "      }\n",
              "    </script>\n",
              "  </div>\n",
              "\n",
              "\n",
              "<div id=\"df-86c501a6-3850-417d-ac12-1b47d604cd7e\">\n",
              "  <button class=\"colab-df-quickchart\" onclick=\"quickchart('df-86c501a6-3850-417d-ac12-1b47d604cd7e')\"\n",
              "            title=\"Suggest charts\"\n",
              "            style=\"display:none;\">\n",
              "\n",
              "<svg xmlns=\"http://www.w3.org/2000/svg\" height=\"24px\"viewBox=\"0 0 24 24\"\n",
              "     width=\"24px\">\n",
              "    <g>\n",
              "        <path d=\"M19 3H5c-1.1 0-2 .9-2 2v14c0 1.1.9 2 2 2h14c1.1 0 2-.9 2-2V5c0-1.1-.9-2-2-2zM9 17H7v-7h2v7zm4 0h-2V7h2v10zm4 0h-2v-4h2v4z\"/>\n",
              "    </g>\n",
              "</svg>\n",
              "  </button>\n",
              "\n",
              "<style>\n",
              "  .colab-df-quickchart {\n",
              "      --bg-color: #E8F0FE;\n",
              "      --fill-color: #1967D2;\n",
              "      --hover-bg-color: #E2EBFA;\n",
              "      --hover-fill-color: #174EA6;\n",
              "      --disabled-fill-color: #AAA;\n",
              "      --disabled-bg-color: #DDD;\n",
              "  }\n",
              "\n",
              "  [theme=dark] .colab-df-quickchart {\n",
              "      --bg-color: #3B4455;\n",
              "      --fill-color: #D2E3FC;\n",
              "      --hover-bg-color: #434B5C;\n",
              "      --hover-fill-color: #FFFFFF;\n",
              "      --disabled-bg-color: #3B4455;\n",
              "      --disabled-fill-color: #666;\n",
              "  }\n",
              "\n",
              "  .colab-df-quickchart {\n",
              "    background-color: var(--bg-color);\n",
              "    border: none;\n",
              "    border-radius: 50%;\n",
              "    cursor: pointer;\n",
              "    display: none;\n",
              "    fill: var(--fill-color);\n",
              "    height: 32px;\n",
              "    padding: 0;\n",
              "    width: 32px;\n",
              "  }\n",
              "\n",
              "  .colab-df-quickchart:hover {\n",
              "    background-color: var(--hover-bg-color);\n",
              "    box-shadow: 0 1px 2px rgba(60, 64, 67, 0.3), 0 1px 3px 1px rgba(60, 64, 67, 0.15);\n",
              "    fill: var(--button-hover-fill-color);\n",
              "  }\n",
              "\n",
              "  .colab-df-quickchart-complete:disabled,\n",
              "  .colab-df-quickchart-complete:disabled:hover {\n",
              "    background-color: var(--disabled-bg-color);\n",
              "    fill: var(--disabled-fill-color);\n",
              "    box-shadow: none;\n",
              "  }\n",
              "\n",
              "  .colab-df-spinner {\n",
              "    border: 2px solid var(--fill-color);\n",
              "    border-color: transparent;\n",
              "    border-bottom-color: var(--fill-color);\n",
              "    animation:\n",
              "      spin 1s steps(1) infinite;\n",
              "  }\n",
              "\n",
              "  @keyframes spin {\n",
              "    0% {\n",
              "      border-color: transparent;\n",
              "      border-bottom-color: var(--fill-color);\n",
              "      border-left-color: var(--fill-color);\n",
              "    }\n",
              "    20% {\n",
              "      border-color: transparent;\n",
              "      border-left-color: var(--fill-color);\n",
              "      border-top-color: var(--fill-color);\n",
              "    }\n",
              "    30% {\n",
              "      border-color: transparent;\n",
              "      border-left-color: var(--fill-color);\n",
              "      border-top-color: var(--fill-color);\n",
              "      border-right-color: var(--fill-color);\n",
              "    }\n",
              "    40% {\n",
              "      border-color: transparent;\n",
              "      border-right-color: var(--fill-color);\n",
              "      border-top-color: var(--fill-color);\n",
              "    }\n",
              "    60% {\n",
              "      border-color: transparent;\n",
              "      border-right-color: var(--fill-color);\n",
              "    }\n",
              "    80% {\n",
              "      border-color: transparent;\n",
              "      border-right-color: var(--fill-color);\n",
              "      border-bottom-color: var(--fill-color);\n",
              "    }\n",
              "    90% {\n",
              "      border-color: transparent;\n",
              "      border-bottom-color: var(--fill-color);\n",
              "    }\n",
              "  }\n",
              "</style>\n",
              "\n",
              "  <script>\n",
              "    async function quickchart(key) {\n",
              "      const quickchartButtonEl =\n",
              "        document.querySelector('#' + key + ' button');\n",
              "      quickchartButtonEl.disabled = true;  // To prevent multiple clicks.\n",
              "      quickchartButtonEl.classList.add('colab-df-spinner');\n",
              "      try {\n",
              "        const charts = await google.colab.kernel.invokeFunction(\n",
              "            'suggestCharts', [key], {});\n",
              "      } catch (error) {\n",
              "        console.error('Error during call to suggestCharts:', error);\n",
              "      }\n",
              "      quickchartButtonEl.classList.remove('colab-df-spinner');\n",
              "      quickchartButtonEl.classList.add('colab-df-quickchart-complete');\n",
              "    }\n",
              "    (() => {\n",
              "      let quickchartButtonEl =\n",
              "        document.querySelector('#df-86c501a6-3850-417d-ac12-1b47d604cd7e button');\n",
              "      quickchartButtonEl.style.display =\n",
              "        google.colab.kernel.accessAllowed ? 'block' : 'none';\n",
              "    })();\n",
              "  </script>\n",
              "</div>\n",
              "\n",
              "    </div>\n",
              "  </div>\n"
            ],
            "application/vnd.google.colaboratory.intrinsic+json": {
              "type": "dataframe",
              "summary": "{\n  \"name\": \"df\",\n  \"rows\": 8,\n  \"fields\": [\n    {\n      \"column\": \"best_hidden_weights\",\n      \"properties\": {\n        \"dtype\": \"number\",\n        \"std\": 176.77526878001188,\n        \"min\": -0.06784678995609283,\n        \"max\": 500.0,\n        \"num_unique_values\": 8,\n        \"samples\": [\n          -0.0017659558728337287,\n          -0.004791691899299622,\n          500.0\n        ],\n        \"semantic_type\": \"\",\n        \"description\": \"\"\n      }\n    },\n    {\n      \"column\": \"worse_hidden_weights\",\n      \"properties\": {\n        \"dtype\": \"number\",\n        \"std\": 176.77669658457393,\n        \"min\": -2.6638201234163716e-05,\n        \"max\": 500.0,\n        \"num_unique_values\": 8,\n        \"samples\": [\n          -5.327559899669058e-08,\n          2.753637241864282e-38,\n          500.0\n        ],\n        \"semantic_type\": \"\",\n        \"description\": \"\"\n      }\n    },\n    {\n      \"column\": \"initial_weight_values\",\n      \"properties\": {\n        \"dtype\": \"number\",\n        \"std\": 277.18378837009277,\n        \"min\": -0.08711842447519302,\n        \"max\": 784.0,\n        \"num_unique_values\": 8,\n        \"samples\": [\n          -0.0018335185869007694,\n          0.0006456747651100159,\n          784.0\n        ],\n        \"semantic_type\": \"\",\n        \"description\": \"\"\n      }\n    }\n  ]\n}"
            }
          },
          "metadata": {},
          "execution_count": 44
        }
      ],
      "source": [
        "# check out the statistics for each weight column\n",
        "df.describe()"
      ]
    },
    {
      "cell_type": "code",
      "execution_count": null,
      "metadata": {
        "id": "4Np8LOGIBfGe",
        "colab": {
          "base_uri": "https://localhost:8080/",
          "height": 833
        },
        "outputId": "ff9fc9ea-90f7-4272-c4d2-5b6c38d35985"
      },
      "outputs": [
        {
          "output_type": "display_data",
          "data": {
            "text/plain": [
              "<Figure size 2000x1200 with 4 Axes>"
            ],
            "image/png": "[encoded data removed]"
          },
          "metadata": {}
        }
      ],
      "source": [
        "# plot the distributions for each weight column\n",
        "df.hist(figsize=(20,12));"
      ]
    },
    {
      "cell_type": "markdown",
      "metadata": {
        "id": "PAtwX9QfBfGe"
      },
      "source": [
        "## Observations\n",
        "\n",
        "Take a look at the statistical table and the plots. Then answer the following questions.\n",
        "\n",
        "**How do the hidden layer weights from the best performing model compare to the initial weight values?**"
      ]
    },
    {
      "cell_type": "markdown",
      "metadata": {
        "deletable": false,
        "id": "GcB8C891BfGe",
        "nbgrader": {
          "cell_type": "markdown",
          "checksum": "5eacb66f89b216ae3b4bb3c4b7bd6d38",
          "grade": true,
          "grade_id": "cell-6add7cc400c4c716",
          "locked": false,
          "points": 0,
          "schema_version": 3,
          "solution": true,
          "task": false
        }
      },
      "source": [
        "The best weights are actually lower than the initial weights"
      ]
    },
    {
      "cell_type": "markdown",
      "metadata": {
        "id": "6ssnJofqBfGf"
      },
      "source": [
        "**What was the effect of using a small L2 penalty value (regularization constant)?**"
      ]
    },
    {
      "cell_type": "markdown",
      "metadata": {
        "deletable": false,
        "id": "N3PyRkv_BfGf",
        "nbgrader": {
          "cell_type": "markdown",
          "checksum": "92ac1689b72d727ab7f4d261c5e76daa",
          "grade": true,
          "grade_id": "cell-5b4f11bba2d49639",
          "locked": false,
          "points": 0,
          "schema_version": 3,
          "solution": true,
          "task": false
        }
      },
      "source": [
        "lowered the value of the weights for the initial values"
      ]
    },
    {
      "cell_type": "markdown",
      "metadata": {
        "id": "_dIM4qL5BfGf"
      },
      "source": [
        "**What was the effect of using a large L2 penalty value?**"
      ]
    },
    {
      "cell_type": "markdown",
      "metadata": {
        "deletable": false,
        "id": "yhaLO6-CBfGf",
        "nbgrader": {
          "cell_type": "markdown",
          "checksum": "3048a6d2805f61d6fb58372c42c3ac54",
          "grade": true,
          "grade_id": "cell-0a30b62e5e119555",
          "locked": false,
          "points": 0,
          "schema_version": 3,
          "solution": true,
          "task": false
        }
      },
      "source": [
        "it will shrink the weights but usually not to the zero"
      ]
    },
    {
      "cell_type": "markdown",
      "metadata": {
        "id": "8rDYEPbsBfGg"
      },
      "source": [
        "**Given what you know about L2 regularization, are you surprised by these results?**"
      ]
    },
    {
      "cell_type": "markdown",
      "metadata": {
        "deletable": false,
        "id": "m3Nt5LmOBfGg",
        "nbgrader": {
          "cell_type": "markdown",
          "checksum": "d8a2034f67badfe53f601873f7026dc0",
          "grade": true,
          "grade_id": "cell-c04d067161064011",
          "locked": false,
          "points": 0,
          "schema_version": 3,
          "solution": true,
          "task": false
        }
      },
      "source": [
        "no, it is expected to shrink the weights by a significant amount to boost the models overfitting."
      ]
    },
    {
      "cell_type": "markdown",
      "metadata": {
        "id": "0SI5IBq8BfGg"
      },
      "source": [
        "----\n",
        "\n",
        "# Experiment 2: Identify the relationship between model performance and Max Norm Weight Constraint\n",
        "\n",
        "![](https://qph.fs.quoracdn.net/main-qimg-9d0dbf8074761b541ba80543ddfc9f73.webp)\n",
        "\n",
        "Recall from lecture that the **norm** of a vector is another word for the **length** of the vector.\n",
        "\n",
        "`MaxNorm` weight constraint puts a limit on the norm of the weight vector.\n",
        "\n",
        "The effect that Lp regularization and `MaxNorm` regularization have on the weights is similar, but they go about it in different ways.\n",
        "\n",
        "While Lp regularization (L1/Lasso and L2/Ridge) shrink the weight values by imposing constraints on their L1 and L2 norms, `MaxNorm` regularization shrinks the weight values by imposing a limit on the norm of a weight vector. Here's how it works: if an update would push the norm of a weight vector above MaxNorm, a scale factor is applied to all the weights so as to shrink the norm back to MaxNorm.\n",
        "\n",
        "In this experiment, we'll run another gridseach, similar to the one we ran for L2 regularization in the previous experiment. This time, we are going to gauge the effect of `MaxNorm` regularization on model performance and the distribution of the learned weights. As in the previous experiment, we will simplify our analysis by focusing on the weights for the first neuron in the first hidden layer."
      ]
    },
    {
      "cell_type": "markdown",
      "metadata": {
        "id": "ChP-sILzBfGg"
      },
      "source": [
        "Since we already built our model, we just need to update the `hyper_parameters` dictionary."
      ]
    },
    {
      "cell_type": "code",
      "execution_count": null,
      "metadata": {
        "id": "5xdqcr6WBfGg",
        "colab": {
          "base_uri": "https://localhost:8080/"
        },
        "outputId": "a3b4f52e-aff7-485b-dcc8-5e0f59d72f21"
      },
      "outputs": [
        {
          "output_type": "execute_result",
          "data": {
            "text/plain": [
              "{'maxnorm_wc': array([ 0.5,  1. ,  1.5,  2. ,  2.5,  3. ,  3.5,  4. ,  4.5,  5. ,  5.5,\n",
              "         6. ,  6.5,  7. ,  7.5,  8. ,  8.5,  9. ,  9.5, 10. ]),\n",
              " 'epochs': [1]}"
            ]
          },
          "metadata": {},
          "execution_count": 46
        }
      ],
      "source": [
        "# build out our hyperparameter dictionary\n",
        "hyper_parameters = {\n",
        "\n",
        "    \"maxnorm_wc\": np.linspace(0.5, 10.0, num=20),\n",
        "    # default is 1, in order to change it we must provide value here because we can't provide a parameter value for model.fit() directly when using gridsearch\n",
        "    # protip: consider changing epochs to 1 if the gridsearche run-time are too long for you\n",
        "    \"epochs\": [1]\n",
        "}\n",
        "\n",
        "hyper_parameters"
      ]
    },
    {
      "cell_type": "code",
      "execution_count": null,
      "metadata": {
        "id": "AGQiKwo0BfGh",
        "colab": {
          "base_uri": "https://localhost:8080/",
          "height": 418
        },
        "outputId": "4530be7d-bc52-42da-e644-89b4bcb4daa1"
      },
      "outputs": [
        {
          "output_type": "stream",
          "name": "stdout",
          "text": [
            "Fitting 3 folds for each of 20 candidates, totalling 60 fits\n"
          ]
        },
        {
          "output_type": "error",
          "ename": "ValueError",
          "evalue": "Invalid parameter maxnorm_wc for estimator KerasClassifier.\nThis issue can likely be resolved by setting this parameter in the KerasClassifier constructor:\n`KerasClassifier(maxnorm_wc=0.5)`\nCheck the list of available parameters with `estimator.get_params().keys()`",
          "traceback": [
            "\u001b[0;31m---------------------------------------------------------------------------\u001b[0m",
            "\u001b[0;31mValueError\u001b[0m                                Traceback (most recent call last)",
            "\u001b[0;32m<ipython-input-48-941526bf8994>\u001b[0m in \u001b[0;36m<cell line: 9>\u001b[0;34m()\u001b[0m\n\u001b[1;32m      7\u001b[0m                     cv=3)\n\u001b[1;32m      8\u001b[0m \u001b[0;34m\u001b[0m\u001b[0m\n\u001b[0;32m----> 9\u001b[0;31m \u001b[0mgrid_result\u001b[0m \u001b[0;34m=\u001b[0m \u001b[0mgrid\u001b[0m\u001b[0;34m.\u001b[0m\u001b[0mfit\u001b[0m\u001b[0;34m(\u001b[0m\u001b[0mX_train\u001b[0m\u001b[0;34m,\u001b[0m \u001b[0my_train\u001b[0m\u001b[0;34m)\u001b[0m\u001b[0;34m\u001b[0m\u001b[0;34m\u001b[0m\u001b[0m\n\u001b[0m\u001b[1;32m     10\u001b[0m \u001b[0mend\u001b[0m\u001b[0;34m=\u001b[0m\u001b[0mtime\u001b[0m\u001b[0;34m(\u001b[0m\u001b[0;34m)\u001b[0m\u001b[0;34m\u001b[0m\u001b[0;34m\u001b[0m\u001b[0m\n",
            "\u001b[0;32m/usr/local/lib/python3.10/dist-packages/sklearn/model_selection/_search.py\u001b[0m in \u001b[0;36mfit\u001b[0;34m(self, X, y, groups, **fit_params)\u001b[0m\n\u001b[1;32m    872\u001b[0m                 \u001b[0;32mreturn\u001b[0m \u001b[0mresults\u001b[0m\u001b[0;34m\u001b[0m\u001b[0;34m\u001b[0m\u001b[0m\n\u001b[1;32m    873\u001b[0m \u001b[0;34m\u001b[0m\u001b[0m\n\u001b[0;32m--> 874\u001b[0;31m             \u001b[0mself\u001b[0m\u001b[0;34m.\u001b[0m\u001b[0m_run_search\u001b[0m\u001b[0;34m(\u001b[0m\u001b[0mevaluate_candidates\u001b[0m\u001b[0;34m)\u001b[0m\u001b[0;34m\u001b[0m\u001b[0;34m\u001b[0m\u001b[0m\n\u001b[0m\u001b[1;32m    875\u001b[0m \u001b[0;34m\u001b[0m\u001b[0m\n\u001b[1;32m    876\u001b[0m             \u001b[0;31m# multimetric is determined here because in the case of a callable\u001b[0m\u001b[0;34m\u001b[0m\u001b[0;34m\u001b[0m\u001b[0m\n",
            "\u001b[0;32m/usr/local/lib/python3.10/dist-packages/sklearn/model_selection/_search.py\u001b[0m in \u001b[0;36m_run_search\u001b[0;34m(self, evaluate_candidates)\u001b[0m\n\u001b[1;32m   1386\u001b[0m     \u001b[0;32mdef\u001b[0m \u001b[0m_run_search\u001b[0m\u001b[0;34m(\u001b[0m\u001b[0mself\u001b[0m\u001b[0;34m,\u001b[0m \u001b[0mevaluate_candidates\u001b[0m\u001b[0;34m)\u001b[0m\u001b[0;34m:\u001b[0m\u001b[0;34m\u001b[0m\u001b[0;34m\u001b[0m\u001b[0m\n\u001b[1;32m   1387\u001b[0m         \u001b[0;34m\"\"\"Search all candidates in param_grid\"\"\"\u001b[0m\u001b[0;34m\u001b[0m\u001b[0;34m\u001b[0m\u001b[0m\n\u001b[0;32m-> 1388\u001b[0;31m         \u001b[0mevaluate_candidates\u001b[0m\u001b[0;34m(\u001b[0m\u001b[0mParameterGrid\u001b[0m\u001b[0;34m(\u001b[0m\u001b[0mself\u001b[0m\u001b[0;34m.\u001b[0m\u001b[0mparam_grid\u001b[0m\u001b[0;34m)\u001b[0m\u001b[0;34m)\u001b[0m\u001b[0;34m\u001b[0m\u001b[0;34m\u001b[0m\u001b[0m\n\u001b[0m\u001b[1;32m   1389\u001b[0m \u001b[0;34m\u001b[0m\u001b[0m\n\u001b[1;32m   1390\u001b[0m \u001b[0;34m\u001b[0m\u001b[0m\n",
            "\u001b[0;32m/usr/local/lib/python3.10/dist-packages/sklearn/model_selection/_search.py\u001b[0m in \u001b[0;36mevaluate_candidates\u001b[0;34m(candidate_params, cv, more_results)\u001b[0m\n\u001b[1;32m    819\u001b[0m                     )\n\u001b[1;32m    820\u001b[0m \u001b[0;34m\u001b[0m\u001b[0m\n\u001b[0;32m--> 821\u001b[0;31m                 out = parallel(\n\u001b[0m\u001b[1;32m    822\u001b[0m                     delayed(_fit_and_score)(\n\u001b[1;32m    823\u001b[0m                         \u001b[0mclone\u001b[0m\u001b[0;34m(\u001b[0m\u001b[0mbase_estimator\u001b[0m\u001b[0;34m)\u001b[0m\u001b[0;34m,\u001b[0m\u001b[0;34m\u001b[0m\u001b[0;34m\u001b[0m\u001b[0m\n",
            "\u001b[0;32m/usr/local/lib/python3.10/dist-packages/sklearn/utils/parallel.py\u001b[0m in \u001b[0;36m__call__\u001b[0;34m(self, iterable)\u001b[0m\n\u001b[1;32m     61\u001b[0m             \u001b[0;32mfor\u001b[0m \u001b[0mdelayed_func\u001b[0m\u001b[0;34m,\u001b[0m \u001b[0margs\u001b[0m\u001b[0;34m,\u001b[0m \u001b[0mkwargs\u001b[0m \u001b[0;32min\u001b[0m \u001b[0miterable\u001b[0m\u001b[0;34m\u001b[0m\u001b[0;34m\u001b[0m\u001b[0m\n\u001b[1;32m     62\u001b[0m         )\n\u001b[0;32m---> 63\u001b[0;31m         \u001b[0;32mreturn\u001b[0m \u001b[0msuper\u001b[0m\u001b[0;34m(\u001b[0m\u001b[0;34m)\u001b[0m\u001b[0;34m.\u001b[0m\u001b[0m__call__\u001b[0m\u001b[0;34m(\u001b[0m\u001b[0miterable_with_config\u001b[0m\u001b[0;34m)\u001b[0m\u001b[0;34m\u001b[0m\u001b[0;34m\u001b[0m\u001b[0m\n\u001b[0m\u001b[1;32m     64\u001b[0m \u001b[0;34m\u001b[0m\u001b[0m\n\u001b[1;32m     65\u001b[0m \u001b[0;34m\u001b[0m\u001b[0m\n",
            "\u001b[0;32m/usr/local/lib/python3.10/dist-packages/joblib/parallel.py\u001b[0m in \u001b[0;36m__call__\u001b[0;34m(self, iterable)\u001b[0m\n\u001b[1;32m   1861\u001b[0m             \u001b[0moutput\u001b[0m \u001b[0;34m=\u001b[0m \u001b[0mself\u001b[0m\u001b[0;34m.\u001b[0m\u001b[0m_get_sequential_output\u001b[0m\u001b[0;34m(\u001b[0m\u001b[0miterable\u001b[0m\u001b[0;34m)\u001b[0m\u001b[0;34m\u001b[0m\u001b[0;34m\u001b[0m\u001b[0m\n\u001b[1;32m   1862\u001b[0m             \u001b[0mnext\u001b[0m\u001b[0;34m(\u001b[0m\u001b[0moutput\u001b[0m\u001b[0;34m)\u001b[0m\u001b[0;34m\u001b[0m\u001b[0;34m\u001b[0m\u001b[0m\n\u001b[0;32m-> 1863\u001b[0;31m             \u001b[0;32mreturn\u001b[0m \u001b[0moutput\u001b[0m \u001b[0;32mif\u001b[0m \u001b[0mself\u001b[0m\u001b[0;34m.\u001b[0m\u001b[0mreturn_generator\u001b[0m \u001b[0;32melse\u001b[0m \u001b[0mlist\u001b[0m\u001b[0;34m(\u001b[0m\u001b[0moutput\u001b[0m\u001b[0;34m)\u001b[0m\u001b[0;34m\u001b[0m\u001b[0;34m\u001b[0m\u001b[0m\n\u001b[0m\u001b[1;32m   1864\u001b[0m \u001b[0;34m\u001b[0m\u001b[0m\n\u001b[1;32m   1865\u001b[0m         \u001b[0;31m# Let's create an ID that uniquely identifies the current call. If the\u001b[0m\u001b[0;34m\u001b[0m\u001b[0;34m\u001b[0m\u001b[0m\n",
            "\u001b[0;32m/usr/local/lib/python3.10/dist-packages/joblib/parallel.py\u001b[0m in \u001b[0;36m_get_sequential_output\u001b[0;34m(self, iterable)\u001b[0m\n\u001b[1;32m   1790\u001b[0m                 \u001b[0mself\u001b[0m\u001b[0;34m.\u001b[0m\u001b[0mn_dispatched_batches\u001b[0m \u001b[0;34m+=\u001b[0m \u001b[0;36m1\u001b[0m\u001b[0;34m\u001b[0m\u001b[0;34m\u001b[0m\u001b[0m\n\u001b[1;32m   1791\u001b[0m                 \u001b[0mself\u001b[0m\u001b[0;34m.\u001b[0m\u001b[0mn_dispatched_tasks\u001b[0m \u001b[0;34m+=\u001b[0m \u001b[0;36m1\u001b[0m\u001b[0;34m\u001b[0m\u001b[0;34m\u001b[0m\u001b[0m\n\u001b[0;32m-> 1792\u001b[0;31m                 \u001b[0mres\u001b[0m \u001b[0;34m=\u001b[0m \u001b[0mfunc\u001b[0m\u001b[0;34m(\u001b[0m\u001b[0;34m*\u001b[0m\u001b[0margs\u001b[0m\u001b[0;34m,\u001b[0m \u001b[0;34m**\u001b[0m\u001b[0mkwargs\u001b[0m\u001b[0;34m)\u001b[0m\u001b[0;34m\u001b[0m\u001b[0;34m\u001b[0m\u001b[0m\n\u001b[0m\u001b[1;32m   1793\u001b[0m                 \u001b[0mself\u001b[0m\u001b[0;34m.\u001b[0m\u001b[0mn_completed_tasks\u001b[0m \u001b[0;34m+=\u001b[0m \u001b[0;36m1\u001b[0m\u001b[0;34m\u001b[0m\u001b[0;34m\u001b[0m\u001b[0m\n\u001b[1;32m   1794\u001b[0m                 \u001b[0mself\u001b[0m\u001b[0;34m.\u001b[0m\u001b[0mprint_progress\u001b[0m\u001b[0;34m(\u001b[0m\u001b[0;34m)\u001b[0m\u001b[0;34m\u001b[0m\u001b[0;34m\u001b[0m\u001b[0m\n",
            "\u001b[0;32m/usr/local/lib/python3.10/dist-packages/sklearn/utils/parallel.py\u001b[0m in \u001b[0;36m__call__\u001b[0;34m(self, *args, **kwargs)\u001b[0m\n\u001b[1;32m    121\u001b[0m             \u001b[0mconfig\u001b[0m \u001b[0;34m=\u001b[0m \u001b[0;34m{\u001b[0m\u001b[0;34m}\u001b[0m\u001b[0;34m\u001b[0m\u001b[0;34m\u001b[0m\u001b[0m\n\u001b[1;32m    122\u001b[0m         \u001b[0;32mwith\u001b[0m \u001b[0mconfig_context\u001b[0m\u001b[0;34m(\u001b[0m\u001b[0;34m**\u001b[0m\u001b[0mconfig\u001b[0m\u001b[0;34m)\u001b[0m\u001b[0;34m:\u001b[0m\u001b[0;34m\u001b[0m\u001b[0;34m\u001b[0m\u001b[0m\n\u001b[0;32m--> 123\u001b[0;31m             \u001b[0;32mreturn\u001b[0m \u001b[0mself\u001b[0m\u001b[0;34m.\u001b[0m\u001b[0mfunction\u001b[0m\u001b[0;34m(\u001b[0m\u001b[0;34m*\u001b[0m\u001b[0margs\u001b[0m\u001b[0;34m,\u001b[0m \u001b[0;34m**\u001b[0m\u001b[0mkwargs\u001b[0m\u001b[0;34m)\u001b[0m\u001b[0;34m\u001b[0m\u001b[0;34m\u001b[0m\u001b[0m\n\u001b[0m",
            "\u001b[0;32m/usr/local/lib/python3.10/dist-packages/sklearn/model_selection/_validation.py\u001b[0m in \u001b[0;36m_fit_and_score\u001b[0;34m(estimator, X, y, scorer, train, test, verbose, parameters, fit_params, return_train_score, return_parameters, return_n_test_samples, return_times, return_estimator, split_progress, candidate_progress, error_score)\u001b[0m\n\u001b[1;32m    672\u001b[0m             \u001b[0mcloned_parameters\u001b[0m\u001b[0;34m[\u001b[0m\u001b[0mk\u001b[0m\u001b[0;34m]\u001b[0m \u001b[0;34m=\u001b[0m \u001b[0mclone\u001b[0m\u001b[0;34m(\u001b[0m\u001b[0mv\u001b[0m\u001b[0;34m,\u001b[0m \u001b[0msafe\u001b[0m\u001b[0;34m=\u001b[0m\u001b[0;32mFalse\u001b[0m\u001b[0;34m)\u001b[0m\u001b[0;34m\u001b[0m\u001b[0;34m\u001b[0m\u001b[0m\n\u001b[1;32m    673\u001b[0m \u001b[0;34m\u001b[0m\u001b[0m\n\u001b[0;32m--> 674\u001b[0;31m         \u001b[0mestimator\u001b[0m \u001b[0;34m=\u001b[0m \u001b[0mestimator\u001b[0m\u001b[0;34m.\u001b[0m\u001b[0mset_params\u001b[0m\u001b[0;34m(\u001b[0m\u001b[0;34m**\u001b[0m\u001b[0mcloned_parameters\u001b[0m\u001b[0;34m)\u001b[0m\u001b[0;34m\u001b[0m\u001b[0;34m\u001b[0m\u001b[0m\n\u001b[0m\u001b[1;32m    675\u001b[0m \u001b[0;34m\u001b[0m\u001b[0m\n\u001b[1;32m    676\u001b[0m     \u001b[0mstart_time\u001b[0m \u001b[0;34m=\u001b[0m \u001b[0mtime\u001b[0m\u001b[0;34m.\u001b[0m\u001b[0mtime\u001b[0m\u001b[0;34m(\u001b[0m\u001b[0;34m)\u001b[0m\u001b[0;34m\u001b[0m\u001b[0;34m\u001b[0m\u001b[0m\n",
            "\u001b[0;32m/usr/local/lib/python3.10/dist-packages/scikeras/wrappers.py\u001b[0m in \u001b[0;36mset_params\u001b[0;34m(self, **params)\u001b[0m\n\u001b[1;32m   1163\u001b[0m                     \u001b[0;31m# Give a SciKeras specific user message to aid\u001b[0m\u001b[0;34m\u001b[0m\u001b[0;34m\u001b[0m\u001b[0m\n\u001b[1;32m   1164\u001b[0m                     \u001b[0;31m# in moving from the Keras wrappers\u001b[0m\u001b[0;34m\u001b[0m\u001b[0;34m\u001b[0m\u001b[0m\n\u001b[0;32m-> 1165\u001b[0;31m                     raise ValueError(\n\u001b[0m\u001b[1;32m   1166\u001b[0m                         \u001b[0;34mf\"Invalid parameter {param} for estimator {self.__name__}.\"\u001b[0m\u001b[0;34m\u001b[0m\u001b[0;34m\u001b[0m\u001b[0m\n\u001b[1;32m   1167\u001b[0m                         \u001b[0;34m\"\\nThis issue can likely be resolved by setting this parameter\"\u001b[0m\u001b[0;34m\u001b[0m\u001b[0;34m\u001b[0m\u001b[0m\n",
            "\u001b[0;31mValueError\u001b[0m: Invalid parameter maxnorm_wc for estimator KerasClassifier.\nThis issue can likely be resolved by setting this parameter in the KerasClassifier constructor:\n`KerasClassifier(maxnorm_wc=0.5)`\nCheck the list of available parameters with `estimator.get_params().keys()`"
          ]
        }
      ],
      "source": [
        "start=time()\n",
        "# Create and run Grid Search\n",
        "grid = GridSearchCV(estimator=model,\n",
        "                    param_grid=hyper_parameters,\n",
        "                    n_jobs=-2,\n",
        "                    verbose=1,\n",
        "                    cv=3)\n",
        "\n",
        "grid_result = grid.fit(X_train, y_train)\n",
        "end=time()"
      ]
    },
    {
      "cell_type": "code",
      "execution_count": null,
      "metadata": {
        "id": "pslQN3T-BfGh"
      },
      "outputs": [],
      "source": [
        "print(\"Gridsearch runtime {0:.3} mins\".format( (end-start)/60 ))"
      ]
    },
    {
      "cell_type": "code",
      "execution_count": null,
      "metadata": {
        "id": "cxaAl3cvBfGh"
      },
      "outputs": [],
      "source": [
        "# use the mean accuracy from the CV splits for determining best model score\n",
        "means = grid.cv_results_['mean_test_score']\n",
        "stds = grid.cv_results_['std_test_score']\n",
        "params = grid.cv_results_['params']\n",
        "\n",
        "# move l2 penalty values outside of dictionary and into a list\n",
        "param_values = [param_dict[\"maxnorm_wc\"] for param_dict in params]\n",
        "\n",
        "# plot accuracy vs l2_reg_penalty\n",
        "plt.figure(figsize=(20,6))\n",
        "plt.grid()\n",
        "plt.errorbar(param_values, means, yerr=stds, ecolor=\"orange\")\n",
        "plt.title(\"MaxNorm weight constraint: Model Accuracy vs MaxNorm\")\n",
        "plt.ylabel(\"Validation Accuracy\", )\n",
        "plt.xlabel(\"Max Norm for Weight Vector \");"
      ]
    },
    {
      "cell_type": "code",
      "execution_count": null,
      "metadata": {
        "deletable": false,
        "id": "D3aeaN_NBfGi",
        "nbgrader": {
          "cell_type": "code",
          "checksum": "cfe7bd54a7a14ba7ee63c88d6d1828b4",
          "grade": false,
          "grade_id": "cell-f67372e0b9b30614",
          "locked": false,
          "schema_version": 3,
          "solution": true,
          "task": false
        }
      },
      "outputs": [],
      "source": [
        "# get the best value of max norm from grid and save to best_max_norm_val\n",
        "\n",
        "# get the best trained model from grid and save to best_model\n",
        "\n",
        "# get the weights from the best trained model and save to best_weights\n",
        "\n",
        "# YOUR CODE HERE\n",
        "raise NotImplementedError()"
      ]
    },
    {
      "cell_type": "code",
      "execution_count": null,
      "metadata": {
        "id": "udo9kxwWBfGi"
      },
      "outputs": [],
      "source": [
        "best_max_norm_val"
      ]
    },
    {
      "cell_type": "code",
      "execution_count": null,
      "metadata": {
        "id": "aYdmRUJSBfGi"
      },
      "outputs": [],
      "source": [
        "# we can verify that the norm of our weights are indeed below the maximum allowed value\n",
        "np.linalg.norm(best_weights[0][0])"
      ]
    },
    {
      "cell_type": "code",
      "execution_count": null,
      "metadata": {
        "deletable": false,
        "id": "3ew76uwZBfGi",
        "nbgrader": {
          "cell_type": "code",
          "checksum": "67f65bd636e3b3b3bc7d20c02ba6b666",
          "grade": false,
          "grade_id": "cell-e752c1a8c853985d",
          "locked": false,
          "schema_version": 3,
          "solution": true,
          "task": false
        }
      },
      "outputs": [],
      "source": [
        "# train a model using the max_norm_val value that scored the lowest\n",
        "\n",
        "# build a model using build_complex_model and worse_max_norm_val and save it to worse_model\n",
        "\n",
        "# fit model\n",
        "\n",
        "# get weights from worse performing model\n",
        "\n",
        "\n",
        "# YOUR CODE HERE\n",
        "raise NotImplementedError()"
      ]
    },
    {
      "cell_type": "markdown",
      "metadata": {
        "id": "GgVx0Yg-7OwJ"
      },
      "source": [
        "Sample the initial weights from the `Glorot Uniform Weight Initializer`, for comparison"
      ]
    },
    {
      "cell_type": "code",
      "execution_count": null,
      "metadata": {
        "deletable": false,
        "id": "DEx3m9vVBfGj",
        "nbgrader": {
          "cell_type": "code",
          "checksum": "a38d5d4db707124b31a662fb4743b049",
          "grade": false,
          "grade_id": "cell-5c1aa4543e68487d",
          "locked": false,
          "schema_version": 3,
          "solution": true,
          "task": false
        }
      },
      "outputs": [],
      "source": [
        "# index for the 1st hidden layer weights in best_weights and save to best_hidden_weights\n",
        "\n",
        "# index for the 1st hidden layer weights in worse_weights and save to worse_hidden_weights\n",
        "\n",
        "# Keras models randomly samples from the GlorotUniform distribution for the initial values of model weights\n",
        "\n",
        "# instantiate GlorotUniform and sample 500 weights and save to initial_weight_values\n",
        "# hint: use shape=(1, 500)\n",
        "\n",
        "\n",
        "# YOUR CODE HERE\n",
        "raise NotImplementedError()"
      ]
    },
    {
      "cell_type": "code",
      "execution_count": null,
      "metadata": {
        "id": "Ck8kH2LeBfGk"
      },
      "outputs": [],
      "source": [
        "# move all weights to a dataframe for ease of analysis\n",
        "cols = [\"best_hidden_weights\", \"worse_hidden_weights\", \"initial_weight_values\"]\n",
        "data = [best_hidden_weights, worse_hidden_weights, initial_weight_values]\n",
        "df_maxnorm= pd.DataFrame(data=data).T\n",
        "df_maxnorm.columns = cols"
      ]
    },
    {
      "cell_type": "code",
      "execution_count": null,
      "metadata": {
        "id": "jiT661fNBfGk"
      },
      "outputs": [],
      "source": [
        "df_maxnorm.describe()"
      ]
    },
    {
      "cell_type": "code",
      "execution_count": null,
      "metadata": {
        "id": "N6HmKEFHBfGl"
      },
      "outputs": [],
      "source": [
        "# plot the distributions for each weight column\n",
        "df_maxnorm.hist(figsize=(20,12));"
      ]
    },
    {
      "cell_type": "markdown",
      "metadata": {
        "id": "GJLb71QuBfGm"
      },
      "source": [
        "## Observations\n",
        "\n",
        "Take a look at the statistical table and the plots. Then answer the following questions.\n",
        "\n",
        "**How do the hidden layer weights from the best performing model compare to the initial weight values?**"
      ]
    },
    {
      "cell_type": "markdown",
      "metadata": {
        "deletable": false,
        "id": "9Ow24epzBfGm",
        "nbgrader": {
          "cell_type": "markdown",
          "checksum": "f43fe1110cdcea8d1e4b432fe78d4e49",
          "grade": true,
          "grade_id": "cell-40a44d19694941b8",
          "locked": false,
          "points": 0,
          "schema_version": 3,
          "solution": true,
          "task": false
        }
      },
      "source": [
        "YOUR ANSWER HERE"
      ]
    },
    {
      "cell_type": "markdown",
      "metadata": {
        "id": "1C-q89taBfGm"
      },
      "source": [
        "**What was the effect of using the weight constraint value in MaxNorm in the best performing model?**"
      ]
    },
    {
      "cell_type": "markdown",
      "metadata": {
        "deletable": false,
        "id": "JEnRcaxEBfGm",
        "nbgrader": {
          "cell_type": "markdown",
          "checksum": "b1c59c58a5abdbc0b509983821198dba",
          "grade": true,
          "grade_id": "cell-4f9e1e134124e512",
          "locked": false,
          "points": 0,
          "schema_version": 3,
          "solution": true,
          "task": false
        }
      },
      "source": [
        "YOUR ANSWER HERE"
      ]
    },
    {
      "cell_type": "markdown",
      "metadata": {
        "id": "LY9joSwUBfGn"
      },
      "source": [
        "**What was the effect of using the weight constraint value in MaxNorm in the worse performing model?**"
      ]
    },
    {
      "cell_type": "markdown",
      "metadata": {
        "deletable": false,
        "id": "8_Pw4Jb1BfGn",
        "nbgrader": {
          "cell_type": "markdown",
          "checksum": "0062b4ddfad487c39633c37f4710b752",
          "grade": true,
          "grade_id": "cell-4c289ce70c34048a",
          "locked": false,
          "points": 0,
          "schema_version": 3,
          "solution": true,
          "task": false
        }
      },
      "source": [
        "YOUR ANSWER HERE"
      ]
    },
    {
      "cell_type": "markdown",
      "metadata": {
        "id": "fWmTydgiBfGn"
      },
      "source": [
        "**Given what you know about MaxNorm regularization, are you surprised by these results?**"
      ]
    },
    {
      "cell_type": "markdown",
      "metadata": {
        "deletable": false,
        "id": "EiAQlNHuBfGn",
        "nbgrader": {
          "cell_type": "markdown",
          "checksum": "3c36931d3532a8cbcb4ea0c956378728",
          "grade": true,
          "grade_id": "cell-77366a912217da5d",
          "locked": false,
          "points": 0,
          "schema_version": 3,
          "solution": true,
          "task": false
        }
      },
      "source": [
        "YOUR ANSWER HERE"
      ]
    },
    {
      "cell_type": "markdown",
      "metadata": {
        "id": "l_INtS2vBfGn"
      },
      "source": [
        "-----\n",
        "# Experiment 3: Identify the relationship between model performance and Dropout\n",
        "\n",
        "\n",
        "![](https://miro.medium.com/max/981/1*EinUlWw1n8vbcLyT0zx4gw.png)\n",
        "\n",
        "In the 3rd experiment, we will use gridsearch to see how varying the value of the the dropout probability affects model performance.\n",
        "\n",
        "Recall from lecture that dropout tends to perform best when used with `MaxNorm` regularization. Since this is the case, we will gridsearch both dropout probability and the weight constraint for `MaxNorm`.\n",
        "\n",
        "If interested, feel free to read (or just skim) through the original publication on [**Drop Out**](https://jmlr.org/papers/volume15/srivastava14a.old/srivastava14a.pdf).\n",
        "\n",
        "**Key Take aways:**\n",
        "\n",
        "1. During training, dropout will probabilistically \"turn off\" some neurons in the layer that dropout is implemented in.\n",
        "2. During inference (ie. making predictions on the test set) all neurons are used (i.e. no dropout is applied).\n",
        "3. Dropout works best when used with MaxNorm\n"
      ]
    },
    {
      "cell_type": "code",
      "execution_count": null,
      "metadata": {
        "id": "ce81CswWlP1N",
        "colab": {
          "base_uri": "https://localhost:8080/"
        },
        "outputId": "b28b72f8-85e8-47cc-fd82-b994e4f844e1"
      },
      "outputs": [
        {
          "output_type": "execute_result",
          "data": {
            "text/plain": [
              "{'maxnorm_wc': array([0.5  , 1.625, 2.75 , 3.875, 5.   ]),\n",
              " 'dropout_prob': [0.0, 0.1, 0.2, 0.3, 0.4, 0.5, 0.6],\n",
              " 'epochs': [1]}"
            ]
          },
          "metadata": {},
          "execution_count": 104
        }
      ],
      "source": [
        "# build out our hyperparameter dictionary\n",
        "hyper_parameters = {\n",
        "    # for the sake of runtime, let's vary maxnorm_wc between 0.5 and 5.0\n",
        "    \"maxnorm_wc\": np.linspace(0.5, 5, num=5),\n",
        "    # take note that l1_reg_penalty values are in powers of 10\n",
        "    \"dropout_prob\": [0.0,0.1,0.2,0.3,0.4,0.5,0.6],\n",
        "    \"epochs\": [1] # default is 1, in order to change it we must provide value here because we can provide a parameter value for model.fit() directly when using gridsearch\n",
        "}\n",
        "\n",
        "hyper_parameters"
      ]
    },
    {
      "cell_type": "code",
      "source": [],
      "metadata": {
        "id": "-ECSYcG9LLrI"
      },
      "execution_count": null,
      "outputs": []
    },
    {
      "cell_type": "code",
      "source": [
        "model = KerasClassifier(model=build_complex_model, maxnorm_wc=np.linspace(0.5, 5, num=5), epochs=1, dropout_prob=[0.5])"
      ],
      "metadata": {
        "id": "X-MRMR1EEJ8_"
      },
      "execution_count": null,
      "outputs": []
    },
    {
      "cell_type": "code",
      "execution_count": null,
      "metadata": {
        "id": "6CN5X-D2lTS4",
        "colab": {
          "base_uri": "https://localhost:8080/"
        },
        "outputId": "862d2f7c-68fc-42c5-f7c8-79280c02ad3a"
      },
      "outputs": [
        {
          "output_type": "stream",
          "name": "stdout",
          "text": [
            "Fitting 2 folds for each of 35 candidates, totalling 70 fits\n",
            "1172/1172 [==============================] - 16s 13ms/step - loss: 0.7718 - accuracy: 0.7600\n",
            "1172/1172 [==============================] - 5s 4ms/step\n",
            "1172/1172 [==============================] - 17s 13ms/step - loss: 0.7792 - accuracy: 0.7569\n",
            "1172/1172 [==============================] - 5s 4ms/step\n",
            "1172/1172 [==============================] - 20s 16ms/step - loss: 0.6793 - accuracy: 0.7902\n",
            "1172/1172 [==============================] - 5s 4ms/step\n",
            "1172/1172 [==============================] - 17s 14ms/step - loss: 0.6903 - accuracy: 0.7862\n",
            "1172/1172 [==============================] - 5s 4ms/step\n",
            "1172/1172 [==============================] - 19s 15ms/step - loss: 0.6862 - accuracy: 0.7861\n",
            "1172/1172 [==============================] - 6s 5ms/step\n",
            "1172/1172 [==============================] - 16s 13ms/step - loss: 0.6962 - accuracy: 0.7854\n",
            "1172/1172 [==============================] - 4s 4ms/step\n",
            "1172/1172 [==============================] - 22s 18ms/step - loss: 0.6819 - accuracy: 0.7891\n",
            "1172/1172 [==============================] - 5s 4ms/step\n",
            "1172/1172 [==============================] - 15s 12ms/step - loss: 0.6897 - accuracy: 0.7858\n",
            "1172/1172 [==============================] - 4s 3ms/step\n",
            "1172/1172 [==============================] - 15s 12ms/step - loss: 0.6787 - accuracy: 0.7896\n",
            "1172/1172 [==============================] - 4s 4ms/step\n",
            "1172/1172 [==============================] - 15s 12ms/step - loss: 0.6857 - accuracy: 0.7891\n",
            "1172/1172 [==============================] - 4s 4ms/step\n",
            "1172/1172 [==============================] - 17s 13ms/step - loss: 0.8008 - accuracy: 0.7461\n",
            "1172/1172 [==============================] - 6s 5ms/step\n",
            "1172/1172 [==============================] - 17s 14ms/step - loss: 0.8201 - accuracy: 0.7419\n",
            "1172/1172 [==============================] - 4s 4ms/step\n",
            "1172/1172 [==============================] - 17s 14ms/step - loss: 0.7315 - accuracy: 0.7732\n",
            "1172/1172 [==============================] - 5s 4ms/step\n",
            "1172/1172 [==============================] - 17s 13ms/step - loss: 0.7483 - accuracy: 0.7698\n",
            "1172/1172 [==============================] - 5s 4ms/step\n",
            "1172/1172 [==============================] - 17s 14ms/step - loss: 0.7295 - accuracy: 0.7749\n",
            "1172/1172 [==============================] - 6s 5ms/step\n",
            "1172/1172 [==============================] - 17s 13ms/step - loss: 0.7369 - accuracy: 0.7729\n",
            "1172/1172 [==============================] - 5s 4ms/step\n",
            "1172/1172 [==============================] - 17s 13ms/step - loss: 0.7378 - accuracy: 0.7729\n",
            "1172/1172 [==============================] - 4s 4ms/step\n",
            "1172/1172 [==============================] - 17s 14ms/step - loss: 0.7515 - accuracy: 0.7688\n",
            "1172/1172 [==============================] - 5s 4ms/step\n",
            "1172/1172 [==============================] - 16s 13ms/step - loss: 0.7324 - accuracy: 0.7730\n",
            "1172/1172 [==============================] - 4s 3ms/step\n",
            "1172/1172 [==============================] - 17s 13ms/step - loss: 0.7414 - accuracy: 0.7704\n",
            "1172/1172 [==============================] - 4s 4ms/step\n",
            "1172/1172 [==============================] - 16s 13ms/step - loss: 0.8410 - accuracy: 0.7353\n",
            "1172/1172 [==============================] - 5s 4ms/step\n",
            "1172/1172 [==============================] - 17s 14ms/step - loss: 0.8503 - accuracy: 0.7327\n",
            "1172/1172 [==============================] - 5s 4ms/step\n",
            "1172/1172 [==============================] - 17s 13ms/step - loss: 0.7876 - accuracy: 0.7548\n",
            "1172/1172 [==============================] - 5s 4ms/step\n",
            "1172/1172 [==============================] - 18s 14ms/step - loss: 0.7939 - accuracy: 0.7529\n",
            "1172/1172 [==============================] - 6s 5ms/step\n",
            "1172/1172 [==============================] - 16s 13ms/step - loss: 0.7909 - accuracy: 0.7560\n",
            "1172/1172 [==============================] - 6s 5ms/step\n",
            "1172/1172 [==============================] - 17s 13ms/step - loss: 0.7987 - accuracy: 0.7505\n",
            "1172/1172 [==============================] - 5s 4ms/step\n",
            "1172/1172 [==============================] - 17s 13ms/step - loss: 0.7890 - accuracy: 0.7560\n",
            "1172/1172 [==============================] - 4s 4ms/step\n",
            "1172/1172 [==============================] - 16s 13ms/step - loss: 0.8036 - accuracy: 0.7511\n",
            "1172/1172 [==============================] - 5s 4ms/step\n",
            "1172/1172 [==============================] - 17s 14ms/step - loss: 0.7873 - accuracy: 0.7557\n",
            "1172/1172 [==============================] - 5s 4ms/step\n",
            "1172/1172 [==============================] - 17s 14ms/step - loss: 0.7935 - accuracy: 0.7544\n",
            "1172/1172 [==============================] - 6s 5ms/step\n",
            "1172/1172 [==============================] - 17s 13ms/step - loss: 0.8765 - accuracy: 0.7239\n",
            "1172/1172 [==============================] - 5s 4ms/step\n",
            "1172/1172 [==============================] - 16s 13ms/step - loss: 0.9076 - accuracy: 0.7157\n",
            "1172/1172 [==============================] - 5s 4ms/step\n",
            "1172/1172 [==============================] - 16s 12ms/step - loss: 0.8516 - accuracy: 0.7339\n",
            "1172/1172 [==============================] - 4s 4ms/step\n",
            "1172/1172 [==============================] - 16s 12ms/step - loss: 0.8560 - accuracy: 0.7335\n",
            "1172/1172 [==============================] - 5s 5ms/step\n",
            "1172/1172 [==============================] - 26s 20ms/step - loss: 0.8531 - accuracy: 0.7322\n",
            "1172/1172 [==============================] - 6s 5ms/step\n",
            "1172/1172 [==============================] - 17s 14ms/step - loss: 0.8703 - accuracy: 0.7296\n",
            "1172/1172 [==============================] - 5s 4ms/step\n",
            "1172/1172 [==============================] - 16s 13ms/step - loss: 0.8665 - accuracy: 0.7319\n",
            "1172/1172 [==============================] - 6s 5ms/step\n",
            "1172/1172 [==============================] - 17s 14ms/step - loss: 0.8685 - accuracy: 0.7302\n",
            "1172/1172 [==============================] - 4s 4ms/step\n",
            "1172/1172 [==============================] - 16s 13ms/step - loss: 0.8578 - accuracy: 0.7323\n",
            "1172/1172 [==============================] - 4s 4ms/step\n",
            "1172/1172 [==============================] - 17s 13ms/step - loss: 0.8710 - accuracy: 0.7272\n",
            "1172/1172 [==============================] - 4s 4ms/step\n",
            "1172/1172 [==============================] - 16s 12ms/step - loss: 0.9421 - accuracy: 0.7053\n",
            "1172/1172 [==============================] - 6s 5ms/step\n",
            "1172/1172 [==============================] - 16s 12ms/step - loss: 0.9623 - accuracy: 0.6989\n",
            "1172/1172 [==============================] - 4s 4ms/step\n",
            "1172/1172 [==============================] - 16s 13ms/step - loss: 0.9467 - accuracy: 0.7029\n",
            "1172/1172 [==============================] - 4s 4ms/step\n",
            "1172/1172 [==============================] - 16s 13ms/step - loss: 0.9536 - accuracy: 0.6990\n",
            "1172/1172 [==============================] - 4s 4ms/step\n",
            "1172/1172 [==============================] - 16s 13ms/step - loss: 0.9465 - accuracy: 0.7025\n",
            "1172/1172 [==============================] - 4s 4ms/step\n",
            "1172/1172 [==============================] - 16s 12ms/step - loss: 0.9676 - accuracy: 0.6969\n",
            "1172/1172 [==============================] - 5s 4ms/step\n",
            "1172/1172 [==============================] - 16s 13ms/step - loss: 0.9563 - accuracy: 0.6997\n",
            "1172/1172 [==============================] - 5s 4ms/step\n",
            "1172/1172 [==============================] - 17s 13ms/step - loss: 0.9651 - accuracy: 0.6936\n",
            "1172/1172 [==============================] - 5s 4ms/step\n",
            "1172/1172 [==============================] - 16s 13ms/step - loss: 0.9567 - accuracy: 0.6981\n",
            "1172/1172 [==============================] - 5s 4ms/step\n",
            "1172/1172 [==============================] - 16s 13ms/step - loss: 0.9682 - accuracy: 0.6964\n",
            "1172/1172 [==============================] - 4s 4ms/step\n",
            "1172/1172 [==============================] - 15s 12ms/step - loss: 1.0337 - accuracy: 0.6708\n",
            "1172/1172 [==============================] - 5s 4ms/step\n",
            "1172/1172 [==============================] - 16s 13ms/step - loss: 1.0422 - accuracy: 0.6711\n",
            "1172/1172 [==============================] - 4s 4ms/step\n",
            "1172/1172 [==============================] - 15s 12ms/step - loss: 1.0855 - accuracy: 0.6496\n",
            "1172/1172 [==============================] - 5s 4ms/step\n",
            "1172/1172 [==============================] - 17s 14ms/step - loss: 1.0889 - accuracy: 0.6509\n",
            "1172/1172 [==============================] - 4s 4ms/step\n",
            "1172/1172 [==============================] - 16s 13ms/step - loss: 1.0805 - accuracy: 0.6554\n",
            "1172/1172 [==============================] - 4s 4ms/step\n",
            "1172/1172 [==============================] - 17s 13ms/step - loss: 1.0900 - accuracy: 0.6523\n",
            "1172/1172 [==============================] - 5s 4ms/step\n",
            "1172/1172 [==============================] - 17s 13ms/step - loss: 1.0797 - accuracy: 0.6534\n",
            "1172/1172 [==============================] - 5s 4ms/step\n",
            "1172/1172 [==============================] - 16s 13ms/step - loss: 1.0783 - accuracy: 0.6549\n",
            "1172/1172 [==============================] - 6s 5ms/step\n",
            "1172/1172 [==============================] - 16s 13ms/step - loss: 1.0865 - accuracy: 0.6505\n",
            "1172/1172 [==============================] - 6s 5ms/step\n",
            "1172/1172 [==============================] - 17s 14ms/step - loss: 1.1013 - accuracy: 0.6457\n",
            "1172/1172 [==============================] - 5s 4ms/step\n",
            "1172/1172 [==============================] - 16s 13ms/step - loss: 1.1646 - accuracy: 0.6231\n",
            "1172/1172 [==============================] - 6s 5ms/step\n",
            "1172/1172 [==============================] - 22s 16ms/step - loss: 1.1798 - accuracy: 0.6159\n",
            "1172/1172 [==============================] - 5s 4ms/step\n",
            "1172/1172 [==============================] - 17s 13ms/step - loss: 1.3053 - accuracy: 0.5665\n",
            "1172/1172 [==============================] - 5s 4ms/step\n",
            "1172/1172 [==============================] - 17s 13ms/step - loss: 1.2954 - accuracy: 0.5746\n",
            "1172/1172 [==============================] - 5s 4ms/step\n",
            "1172/1172 [==============================] - 16s 13ms/step - loss: 1.3003 - accuracy: 0.5675\n",
            "1172/1172 [==============================] - 5s 5ms/step\n",
            "1172/1172 [==============================] - 18s 14ms/step - loss: 1.2891 - accuracy: 0.5691\n",
            "1172/1172 [==============================] - 5s 4ms/step\n",
            "1172/1172 [==============================] - 18s 14ms/step - loss: 1.2927 - accuracy: 0.5746\n",
            "1172/1172 [==============================] - 5s 4ms/step\n",
            "1172/1172 [==============================] - 17s 14ms/step - loss: 1.2812 - accuracy: 0.5727\n",
            "1172/1172 [==============================] - 4s 4ms/step\n",
            "1172/1172 [==============================] - 16s 13ms/step - loss: 1.3007 - accuracy: 0.5686\n",
            "1172/1172 [==============================] - 5s 5ms/step\n",
            "1172/1172 [==============================] - 16s 13ms/step - loss: 1.2851 - accuracy: 0.5728\n",
            "1172/1172 [==============================] - 4s 4ms/step\n",
            "2344/2344 [==============================] - 30s 12ms/step - loss: 0.5989 - accuracy: 0.8158\n"
          ]
        }
      ],
      "source": [
        "start=time()\n",
        "# Create and run Grid Search\n",
        "grid = GridSearchCV(estimator=model,\n",
        "                    param_grid=hyper_parameters,\n",
        "                    n_jobs=-2,\n",
        "                    verbose=1,\n",
        "                    cv=2,\n",
        "                    error_score='raise')\n",
        "\n",
        "grid_result = grid.fit(X_train, y_train)\n",
        "end=time()"
      ]
    },
    {
      "cell_type": "code",
      "execution_count": null,
      "metadata": {
        "id": "Vg4ifWNtBfGo",
        "colab": {
          "base_uri": "https://localhost:8080/"
        },
        "outputId": "3b11f292-123d-436c-84b2-df8dfbc27399"
      },
      "outputs": [
        {
          "output_type": "stream",
          "name": "stdout",
          "text": [
            "Gridsearch runtime 8.91 mins\n"
          ]
        }
      ],
      "source": [
        "print(\"Gridsearch runtime {0:.3} mins\".format( (end-start)/60 ))"
      ]
    },
    {
      "cell_type": "code",
      "execution_count": null,
      "metadata": {
        "id": "CqO15wkmBfGo"
      },
      "outputs": [],
      "source": [
        "# use the mean accuracy from the CV splits for determining best model score\n",
        "means = grid.cv_results_['mean_test_score']\n",
        "stds = grid.cv_results_['std_test_score']\n",
        "params = grid.cv_results_['params']"
      ]
    },
    {
      "cell_type": "markdown",
      "metadata": {
        "id": "2-v92GwGBfGo"
      },
      "source": [
        "Since there are 2 independent hyperparameters which affect the validation accuracy (`dropout_prob` and `maxnorm_wc`), <br>\n",
        "we need a two-dimensional plot. A heat map will work."
      ]
    },
    {
      "cell_type": "code",
      "source": [
        "grid.cv_results_\n"
      ],
      "metadata": {
        "colab": {
          "base_uri": "https://localhost:8080/"
        },
        "id": "Tv21s3DxRrXS",
        "outputId": "40a0489e-3d73-4b82-c4a8-0003259f3fee"
      },
      "execution_count": null,
      "outputs": [
        {
          "output_type": "execute_result",
          "data": {
            "text/plain": [
              "{'mean_fit_time': array([19.78443217, 19.04183912, 15.47266889, 19.06422842, 18.99061871,\n",
              "        22.94607008, 19.94438887, 17.6100564 , 22.17051649, 16.67607915]),\n",
              " 'std_fit_time': array([4.24727821, 3.03965068, 0.067559  , 3.50412428, 3.62064695,\n",
              "        0.48330772, 2.52648425, 0.2934835 , 0.0322032 , 0.30633724]),\n",
              " 'mean_score_time': array([6.06778228, 8.23209512, 5.8351599 , 5.67568135, 8.09839535,\n",
              "        5.49579322, 5.64423358, 5.43497157, 5.32722378, 5.4502753 ]),\n",
              " 'std_score_time': array([4.66409564e-01, 2.46289551e+00, 2.55722165e-01, 5.11891365e-01,\n",
              "        2.55798507e+00, 2.25393176e-01, 1.36017799e-04, 3.05746794e-01,\n",
              "        2.56843805e-01, 4.74447012e-02]),\n",
              " 'param_dropout_prob': masked_array(data=[0.0, 0.0, 0.0, 0.0, 0.0, 0.6, 0.6, 0.6, 0.6, 0.6],\n",
              "              mask=[False, False, False, False, False, False, False, False,\n",
              "                    False, False],\n",
              "        fill_value='?',\n",
              "             dtype=object),\n",
              " 'param_epochs': masked_array(data=[1, 1, 1, 1, 1, 1, 1, 1, 1, 1],\n",
              "              mask=[False, False, False, False, False, False, False, False,\n",
              "                    False, False],\n",
              "        fill_value='?',\n",
              "             dtype=object),\n",
              " 'param_maxnorm_wc': masked_array(data=[0.5, 1.625, 2.75, 3.875, 5.0, 0.5, 1.625, 2.75, 3.875,\n",
              "                    5.0],\n",
              "              mask=[False, False, False, False, False, False, False, False,\n",
              "                    False, False],\n",
              "        fill_value='?',\n",
              "             dtype=object),\n",
              " 'params': [{'dropout_prob': 0.0, 'epochs': 1, 'maxnorm_wc': 0.5},\n",
              "  {'dropout_prob': 0.0, 'epochs': 1, 'maxnorm_wc': 1.625},\n",
              "  {'dropout_prob': 0.0, 'epochs': 1, 'maxnorm_wc': 2.75},\n",
              "  {'dropout_prob': 0.0, 'epochs': 1, 'maxnorm_wc': 3.875},\n",
              "  {'dropout_prob': 0.0, 'epochs': 1, 'maxnorm_wc': 5.0},\n",
              "  {'dropout_prob': 0.6, 'epochs': 1, 'maxnorm_wc': 0.5},\n",
              "  {'dropout_prob': 0.6, 'epochs': 1, 'maxnorm_wc': 1.625},\n",
              "  {'dropout_prob': 0.6, 'epochs': 1, 'maxnorm_wc': 2.75},\n",
              "  {'dropout_prob': 0.6, 'epochs': 1, 'maxnorm_wc': 3.875},\n",
              "  {'dropout_prob': 0.6, 'epochs': 1, 'maxnorm_wc': 5.0}],\n",
              " 'split0_test_score': array([0.79978667, 0.836     , 0.82936   , 0.82816   , 0.82573333,\n",
              "        0.77024   , 0.77576   , 0.77528   , 0.76525333, 0.77090667]),\n",
              " 'split1_test_score': array([0.80677333, 0.83544   , 0.83368   , 0.82818667, 0.83256   ,\n",
              "        0.77306667, 0.77370667, 0.7788    , 0.78448   , 0.77176   ]),\n",
              " 'mean_test_score': array([0.80328   , 0.83572   , 0.83152   , 0.82817333, 0.82914667,\n",
              "        0.77165333, 0.77473333, 0.77704   , 0.77486667, 0.77133333]),\n",
              " 'std_test_score': array([3.49333333e-03, 2.80000000e-04, 2.16000000e-03, 1.33333333e-05,\n",
              "        3.41333333e-03, 1.41333333e-03, 1.02666667e-03, 1.76000000e-03,\n",
              "        9.61333333e-03, 4.26666667e-04]),\n",
              " 'rank_test_score': array([ 5,  1,  2,  4,  3,  9,  8,  6,  7, 10], dtype=int32)}"
            ]
          },
          "metadata": {},
          "execution_count": 99
        }
      ]
    },
    {
      "cell_type": "code",
      "execution_count": null,
      "metadata": {
        "id": "I-W5UmNcBfGp",
        "colab": {
          "base_uri": "https://localhost:8080/"
        },
        "outputId": "3cfcf25b-e900-44f2-e66d-b45ebb4b045a"
      },
      "outputs": [
        {
          "output_type": "stream",
          "name": "stderr",
          "text": [
            "<ipython-input-100-cf9b0ef7224b>:11: FutureWarning: In a future version of pandas all arguments of DataFrame.pivot will be keyword-only.\n",
            "  df_exp3 = df_exp3.pivot(\"maxnorm_wc\", \"dropout_prob\", \"val_acc\")\n"
          ]
        }
      ],
      "source": [
        "dropout_prob_list = [  param_dict[\"dropout_prob\"]  for param_dict in params]\n",
        "maxnorm_wc_list = [  param_dict[\"maxnorm_wc\"]  for param_dict in params]\n",
        "data = [means, dropout_prob_list, maxnorm_wc_list ]\n",
        "\n",
        "cols = [\"val_acc\", \"dropout_prob\", \"maxnorm_wc\"]\n",
        "df_exp3 =pd.DataFrame(data=data).T\n",
        "df_exp3.columns = cols\n",
        "df_exp3.dropout_prob = df_exp3.dropout_prob.round(2)\n",
        "\n",
        "# pivot dataframe in preparation for heat map\n",
        "df_exp3 = df_exp3.pivot(\"maxnorm_wc\", \"dropout_prob\", \"val_acc\")"
      ]
    },
    {
      "cell_type": "code",
      "execution_count": null,
      "metadata": {
        "id": "FqilXbTYBfGp",
        "colab": {
          "base_uri": "https://localhost:8080/",
          "height": 694
        },
        "outputId": "17b88340-6bd6-463f-934d-f4e0a1ee6570"
      },
      "outputs": [
        {
          "output_type": "display_data",
          "data": {
            "text/plain": [
              "<Figure size 1800x800 with 2 Axes>"
            ],
            "image/png": "[encoded data removed]"
          },
          "metadata": {}
        }
      ],
      "source": [
        "# Draw a heatmap with the val_acc values in each cell\n",
        "f, ax = plt.subplots(figsize=(18, 8))\n",
        "sns.heatmap(df_exp3, annot=True,  linewidths=.5, ax=ax);"
      ]
    },
    {
      "cell_type": "markdown",
      "metadata": {
        "id": "9dTgA0LEBfGp"
      },
      "source": [
        "### Observations\n",
        "\n",
        "We can see the dropout probabilities in the horizontal axis and the `MaxNorm` weight constraint values in the vertical axis. The values in the cells are the validation accuracy that corresponds to a pair of regularization values.\n",
        "\n",
        "Take a look at the heat map and answer the following questions. Note that depending on which model you used (the simple or complex one) your answers might be different from that of others."
      ]
    },
    {
      "cell_type": "markdown",
      "metadata": {
        "id": "uz1meXeiBfGp"
      },
      "source": [
        "**What range of dropout probability values tend to produce the highest validation accuracy?**"
      ]
    },
    {
      "cell_type": "markdown",
      "metadata": {
        "deletable": false,
        "id": "xjxa3AaoBfGp",
        "nbgrader": {
          "cell_type": "markdown",
          "checksum": "0f0013d4e07104a03b4d51664a308f53",
          "grade": true,
          "grade_id": "cell-4e0cb7a9240b1531",
          "locked": false,
          "points": 0,
          "schema_version": 3,
          "solution": true,
          "task": false
        }
      },
      "source": [
        "0-0.3"
      ]
    },
    {
      "cell_type": "markdown",
      "metadata": {
        "id": "yiha7_G-BfGp"
      },
      "source": [
        "**What range of maxnorm weight constraints tend to produce the highest validation accuracy?**"
      ]
    },
    {
      "cell_type": "markdown",
      "metadata": {
        "deletable": false,
        "id": "ftoVpYqIBfGp",
        "nbgrader": {
          "cell_type": "markdown",
          "checksum": "9fd88f0bb870a910b925d60b38d17694",
          "grade": true,
          "grade_id": "cell-99539755d7d328f7",
          "locked": false,
          "points": 0,
          "schema_version": 3,
          "solution": true,
          "task": false
        }
      },
      "source": [
        "between 4 and 5"
      ]
    },
    {
      "cell_type": "markdown",
      "metadata": {
        "id": "4M7ZARjJBfGp"
      },
      "source": [
        "**When taken together, what combinations of dropout probability and maxnorm weight constraints tend to produce the highest validation accuracy?**"
      ]
    },
    {
      "cell_type": "markdown",
      "metadata": {
        "deletable": false,
        "id": "rakqIiHNBfGq",
        "nbgrader": {
          "cell_type": "markdown",
          "checksum": "fee1e09ed8f6d354bd7b6e2986c2b811",
          "grade": true,
          "grade_id": "cell-5e19a56b4a2d975d",
          "locked": false,
          "points": 0,
          "schema_version": 3,
          "solution": true,
          "task": false
        }
      },
      "source": [
        "dropout of zero and maxnorm of 2"
      ]
    },
    {
      "cell_type": "markdown",
      "metadata": {
        "id": "VnwcQRx3BfGr"
      },
      "source": [
        "**Do you think that using dropout was helpful in increasing model performance?**"
      ]
    },
    {
      "cell_type": "markdown",
      "metadata": {
        "deletable": false,
        "id": "mtdlzA8WBfGr",
        "nbgrader": {
          "cell_type": "markdown",
          "checksum": "de9c1bcff3c5eb6266cc80632d0956f0",
          "grade": true,
          "grade_id": "cell-d2a2f7b284c801dc",
          "locked": false,
          "points": 0,
          "schema_version": 3,
          "solution": true,
          "task": false
        }
      },
      "source": [
        "no it seemed to decrease the performance"
      ]
    },
    {
      "cell_type": "markdown",
      "metadata": {
        "id": "r3qKJpF_BfGs"
      },
      "source": [
        "_____\n",
        "\n",
        "#Part 2: Model Deployment\n",
        "# Experiment 4: Train, Save, and Load a Keras model\n",
        "\n",
        "Let's get some practice with how to save and load trained Keras models\n",
        "\n",
        "For this experiment, review the section on Saving and Loading models from the guided project, then:\n",
        "\n",
        "- Build a model of your choosing\n",
        "- Gridsearch the model with a method of your choosing\n",
        "- Save the trained model to a file\n",
        "- Load the trained model from the file\n",
        "- Just as we did in the Guided Project, evaluate the loaded model using a test set and verify that the results of the loaded model match that of the original model that was saved."
      ]
    },
    {
      "cell_type": "code",
      "execution_count": null,
      "metadata": {
        "id": "aki0LkDpBfGs"
      },
      "outputs": [],
      "source": [
        "# YOUR CODE HERE\n"
      ]
    }
  ],
  "metadata": {
    "colab": {
      "provenance": []
    },
    "kernelspec": {
      "display_name": "Python 3",
      "language": "python",
      "name": "python3"
    },
    "language_info": {
      "codemirror_mode": {
        "name": "ipython",
        "version": 3
      },
      "file_extension": ".py",
      "mimetype": "text/x-python",
      "name": "python",
      "nbconvert_exporter": "python",
      "pygments_lexer": "ipython3",
      "version": "3.10.8"
    },
    "nteract": {
      "version": "0.22.4"
    }
  },
  "nbformat": 4,
  "nbformat_minor": 0
}